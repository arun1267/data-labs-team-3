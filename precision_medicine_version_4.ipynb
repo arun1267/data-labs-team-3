{
  "cells": [
    {
      "cell_type": "code",
      "execution_count": 59,
      "metadata": {
        "colab": {
          "base_uri": "https://localhost:8080/"
        },
        "id": "JmpeDfSrP3Ff",
        "outputId": "a1c58940-a277-4c3b-aeed-3083981a38a8"
      },
      "outputs": [
        {
          "output_type": "stream",
          "name": "stdout",
          "text": [
            "Drive already mounted at /content/drive; to attempt to forcibly remount, call drive.mount(\"/content/drive\", force_remount=True).\n"
          ]
        }
      ],
      "source": [
        "from google.colab import drive\n",
        "drive.mount('/content/drive')"
      ]
    },
    {
      "cell_type": "code",
      "execution_count": 60,
      "metadata": {
        "id": "Sfqw5-gsQAvZ"
      },
      "outputs": [],
      "source": [
        "import pandas as pd\n",
        "import numpy as np\n",
        "import seaborn as sns\n",
        "import matplotlib.pyplot as plt\n",
        "import warnings\n",
        "warnings.filterwarnings('ignore')"
      ]
    },
    {
      "cell_type": "code",
      "execution_count": 61,
      "metadata": {
        "id": "yOaYOegwQIQP"
      },
      "outputs": [],
      "source": [
        "df =pd.read_csv(\"/content/drive/MyDrive/Dataset/data.csv\")  #loading the dataset"
      ]
    },
    {
      "cell_type": "code",
      "execution_count": 62,
      "metadata": {
        "id": "FbwTDQf8Q4_l"
      },
      "outputs": [],
      "source": [
        "df.loc[df['Text'].isnull(),'Text'] = df['Gene'] +' '+df['Variation']  # Fill the null values"
      ]
    },
    {
      "cell_type": "code",
      "execution_count": 63,
      "metadata": {
        "colab": {
          "base_uri": "https://localhost:8080/",
          "height": 35
        },
        "id": "Zzh1SgZPQ_NE",
        "outputId": "3eaf611e-1a03-4f0f-dc92-8d8a2da9654c"
      },
      "outputs": [
        {
          "output_type": "execute_result",
          "data": {
            "text/plain": [
              "'BRAF G596C'"
            ],
            "application/vnd.google.colaboratory.intrinsic+json": {
              "type": "string"
            }
          },
          "metadata": {},
          "execution_count": 63
        }
      ],
      "source": [
        "df['Text'].iloc[2755]  #checking"
      ]
    },
    {
      "cell_type": "code",
      "execution_count": 64,
      "metadata": {
        "id": "u2HVDe3tRCOl"
      },
      "outputs": [],
      "source": [
        "df.drop(['Unnamed: 0','ID'],axis=1,inplace=True)  # Dropping the unnecessary columns"
      ]
    },
    {
      "cell_type": "code",
      "execution_count": 65,
      "metadata": {
        "id": "TRrndDgKRGpr"
      },
      "outputs": [],
      "source": [
        "# for text data\n",
        "#Importing Libraries\n",
        "import re\n",
        "import string\n",
        "from nltk.corpus import stopwords\n",
        "from nltk.tokenize import word_tokenize\n",
        "from sklearn.metrics import log_loss\n",
        "from sklearn.feature_extraction.text import CountVectorizer\n",
        "from sklearn.feature_extraction.text import TfidfVectorizer"
      ]
    },
    {
      "cell_type": "code",
      "execution_count": 66,
      "metadata": {
        "colab": {
          "base_uri": "https://localhost:8080/"
        },
        "id": "o1KpCAbgRJ-Z",
        "outputId": "f53b7d93-a91c-4a4d-9826-bc15ddb905e9"
      },
      "outputs": [
        {
          "output_type": "stream",
          "name": "stderr",
          "text": [
            "[nltk_data] Downloading package stopwords to /root/nltk_data...\n",
            "[nltk_data]   Package stopwords is already up-to-date!\n",
            "[nltk_data] Downloading package punkt to /root/nltk_data...\n",
            "[nltk_data]   Package punkt is already up-to-date!\n"
          ]
        },
        {
          "output_type": "execute_result",
          "data": {
            "text/plain": [
              "True"
            ]
          },
          "metadata": {},
          "execution_count": 66
        }
      ],
      "source": [
        "import nltk\n",
        "nltk.download('stopwords')\n",
        "nltk.download('punkt')"
      ]
    },
    {
      "cell_type": "code",
      "execution_count": 67,
      "metadata": {
        "id": "Oh_qSrrRRVN1"
      },
      "outputs": [],
      "source": [
        "#stopwords\n",
        "stop_words = set(stopwords.words('english'))"
      ]
    },
    {
      "cell_type": "code",
      "execution_count": 68,
      "metadata": {
        "id": "t6-Ao-Q6RbxQ"
      },
      "outputs": [],
      "source": [
        "def preprocess_text(text):\n",
        "    text = str(text)\n",
        "    text = text.lower() #Converting to lowercase\n",
        "    #removing punctuation\n",
        "    text = re.sub('[%s]' % re.escape(string.punctuation), ' ',text)\n",
        "    text = re.sub('<.*?>+',' ',text) #removing HTML Tags\n",
        "    text = re.sub('[^a-zA-Z0-9\\n]', ' ', text) #replacing special character with space\n",
        "    text = re.sub(r'\\s+', ' ',text) #removal of multiple spaces\n",
        "\n",
        "    text_tokens = word_tokenize(text)\n",
        "\n",
        "    #removing stopwords\n",
        "    tw = [word for word in text_tokens if word not in stop_words]\n",
        "    text = (\" \").join(tw)\n",
        "    return text"
      ]
    },
    {
      "cell_type": "code",
      "execution_count": 69,
      "metadata": {
        "id": "bWPSrbWPReBg"
      },
      "outputs": [],
      "source": [
        "df['Text'] = df['Text'].apply(preprocess_text)  # applying the function to clean the text"
      ]
    },
    {
      "cell_type": "code",
      "execution_count": 70,
      "metadata": {
        "id": "_2O8F6vvRggw"
      },
      "outputs": [],
      "source": [
        "#Replacing the excess space for Gene and variation\n",
        "df['Gene'] = df['Gene'].str.replace('\\s+', '_')\n",
        "df['Variation'] = df['Variation'].str.replace('\\s+', '_')"
      ]
    },
    {
      "cell_type": "code",
      "execution_count": 71,
      "metadata": {
        "id": "lZGy7gPyRjOG",
        "colab": {
          "base_uri": "https://localhost:8080/",
          "height": 139
        },
        "outputId": "45bf9974-206b-4ae3-ad5d-d2d319c9cd61"
      },
      "outputs": [
        {
          "output_type": "execute_result",
          "data": {
            "text/plain": [
              "'cyclin dependent kinases cdks regulate variety fundamental cellular processes cdk10 stands one last orphan cdks activating cyclin identified kinase activity revealed previous work shown cdk10 silencing increases ets2 v ets erythroblastosis virus e26 oncogene homolog 2 driven activation mapk pathway confers tamoxifen resistance breast cancer cells precise mechanisms cdk10 modulates ets2 activity generally functions cdk10 remain elusive demonstrate cdk10 cyclin dependent kinase identifying cyclin activating cyclin cyclin orphan cyclin product fam58a whose mutations cause star syndrome human developmental anomaly whose features include toe syndactyly telecanthus anogenital renal malformations show star syndrome associated cyclin mutants unable interact cdk10 cyclin silencing phenocopies cdk10 silencing increasing c raf conferring tamoxifen resistance breast cancer cells cdk10 cyclin phosphorylates ets2 vitro cells positively controls ets2 degradation proteasome ets2 protein levels increased cells derived star patient increase attributable decreased cyclin levels altogether results reveal additional regulatory mechanism ets2 plays key roles cancer development also shed light molecular mechanisms underlying star syndrome cyclin dependent kinases cdks play pivotal role control number fundamental cellular processes 1 human genome contains 21 genes encoding proteins considered members cdk family owing sequence similarity bona fide cdks known activated cyclins 2 although discovered almost 20 ago 3 4 cdk10 remains one two cdks without identified cyclin partner knowledge gap largely impeded exploration biological functions cdk10 act positive cell cycle regulator cells 5 6 tumor suppressor others 7 8 cdk10 interacts ets2 v ets erythroblastosis virus e26 oncogene homolog 2 transcription factor inhibits transcriptional activity unknown mechanism 9 cdk10 knockdown derepresses ets2 increases expression c raf protein kinase activates mapk pathway induces resistance mcf7 cells tamoxifen 6 deorphanize cdk10 identifying cyclin product fam58a binding partner mutations gene predict absence truncation cyclin associated star syndrome whose features include toe syndactyly telecanthus anogenital renal malformations heterozygous females 10 however functions cyclin pathogenesis star syndrome remain unknown show recombinant cdk10 cyclin heterodimer active protein kinase phosphorylates ets2 vitro cyclin silencing phenocopies cdk10 silencing increasing c raf phospho erk expression levels inducing tamoxifen resistance estrogen receptor er breast cancer cells show cdk10 cyclin positively controls ets2 degradation proteasome phosphorylation two neighboring serines finally detect increased ets2 expression level cells derived star patient demonstrate attributable decreased cyclin expression level observed cells previous sectionnext sectionresultsa yeast two hybrid y2h screen unveiled interaction signal cdk10 mouse protein whose c terminal half presents strong sequence homology human fam58a gene product whose proposed name cyclin 11 thus performed y2h mating assays determine whether human cdk10 interacts human cyclin fig 1 c longest cdk10 isoform p1 expressed bait protein produced strong interaction phenotype full length cyclin expressed prey protein detectable phenotype cyclin d1 p21 cip1 cdi1 kap known binding partners cdks fig 1b cdk1 cdk3 also produced y2h signals cyclin albeit notably weaker observed cdk10 fig 1b interaction phenotype also observed full length cyclin cdk10 proteins expressed bait prey respectively fig s1a tested different isoforms cdk10 cyclin originating alternative gene splicing two truncated cyclin proteins corresponding hypothetical products two mutated fam58a genes found star syndrome patients 10 none shorter isoforms produced interaction phenotypes fig 1 c fig s1a fig 1 new window download pptfig 1 cdk10 cyclin form interaction complex schematic representation different protein isoforms analyzed y2h assays amino acid numbers indicated black boxes indicate internal deletions red box indicates differing amino acid sequence compared cdk10 p1 b y2h assay set cdk proteins expressed baits fusion lexa dna binding domain cdk interacting proteins expressed preys fusion b42 transcriptional activator peg202 pjg4 5 empty bait prey plasmids expressing lexa b42 respectively lacz used reporter gene blue yeast indicative y2h interaction phenotype c y2h assay different cdk10 cyclin isoforms amino terminal region ets2 known interact cdk10 9 also assayed western blot analysis myc cdk10 wt kd cycm v5 6his expression levels transfected hek293 cells e western blot analysis myc cdk10 wt kd immunoprecipitates obtained using anti myc antibody inputs correspond 10 g total lysates obtained hek293 cells coexpressing myc cdk10 wt kd cycm v5 6his f western blot analysis immunoprecipitates obtained using anti cdk10 antibody control goat antibody human breast cancer mcf7 cells input corresponds 30 g mcf7 total cell lysates lower band doublet observed upper panel comigrates exogenously expressed untagged cdk10 thus corresponds endogenous cdk10 upper band doublet corresponds nonspecific signal demonstrated insensitivity either overexpression cdk10 seen left lane silencing cdk10 fig s2b another experiment longer gel migration shown fig s1d next examined ability cdk10 cyclin interact expressed human cells fig 1 e tested wild type cdk10 wt kinase dead kd mutant bearing d181a amino acid substitution abolishes atp binding 12 expressed cyclin v5 6his myc cdk10 wt kd human embryonic kidney cell line hek293 expression level cyclin v5 6his significantly increased upon coexpression myc cdk10 wt kd lesser extent myc cdk10 wt kd increased upon coexpression cyclin v5 6his fig 1d immunoprecipitated myc cdk10 proteins detected presence cyclin cdk10 wt kd immunoprecipitates proteins coexpressed pair wise fig 1e confirmed observations detecting presence myc cdk10 cyclin v5 6his immunoprecipitates fig s1b experiments confirmed lack robust interaction cdk10 p2 isoform cyclin fig s1c detect interaction endogenous proteins performed immunoprecipitations nontransfected mcf7 cells derived human breast cancer cdk10 cyclin antibodies detected cognate endogenous proteins western blotting readily detected cyclin immunoprecipitates obtained cdk10 antibody control antibody fig 1f results confirm physical interaction cdk10 cyclin human cells unveil hypothesized cdk10 cyclin protein kinase activity produced gst cdk10 strepii cyclin fusion proteins insect cells either individually combination observed gst cdk10 strepii cyclin copurified thus confirming interaction yet another cellular model fig 2a performed vitro kinase assays purified proteins using histone h1 generic substrate histone h1 phosphorylation detected lysates cells coexpressing gst cdk10 strepii cyclin phosphorylation detected gst cdk10 strepii cyclin expressed alone strepii cyclin coexpressed gst cdk10 kd fig 2a next investigated whether ets2 known interact cdk10 9 fig 1c phosphorylation substrate cdk10 cyclin detected strong phosphorylation ets2 gst cdk10 strepii cyclin purified heterodimer whereas phosphorylation detected using gst cdk10 alone gst cdk10 kd strepii cyclin heterodimer fig 2b fig 2 new window download pptfig 2 cdk10 cyclin dependent protein kinase vitro protein kinase assay histone h1 lysates insect cells expressing different proteins purified glutathione sepharose matrix capture gst cdk10 wt kd fusion proteins alone complex str cycm fusion protein purified protein expression levels analyzed western blots top upper middle kinase activity determined autoradiography histone h1 whose added amounts visualized coomassie staining lower middle bottom b using purified recombinant 6his ets2 substrate cdk10 silencing shown increase ets2 driven c raf transcription activate mapk pathway 6 investigated whether cyclin also involved regulatory pathway aim highly specific silencing used sirna pools mix four different sirnas low final concentration 10 nm cdk10 cyclin sirna pools silenced expression cognate targets fig 3 c fig s2 interestingly cyclin sirna pool also caused marked decrease cdk10 protein level fig 3a fig s2b results shown fig 1d suggest cyclin binding stabilizes cdk10 cyclin silencing induced increase c raf protein mrna levels fig 3 b c phosphorylated erk1 erk2 protein levels fig s3b similarly cdk10 silencing expected effects 6 cdk10 cyclin silencing decreased sensitivity er mcf7 cells tamoxifen similar extent combined silencing genes result higher resistance drug fig s3c altogether observations demonstrate functional interaction cyclin cdk10 negatively controls ets2 fig 3 new window download pptfig 3 cyclin silencing regulates c raf expression western blot analysis endogenous cdk10 cyclin expression levels mcf7 cells response sirna mediated gene silencing b western blot analysis endogenous c raf expression levels mcf7 cells response cdk10 cyclin silencing quantification shown fig s3a c quantitative rt pcr analysis cdk10 cyclin c raf mrna levels response cdk10 upper cyclin lower silencing p 0 01 p 0 001 wished explore mechanism cdk10 cyclin controls ets2 ets2 short lived protein degraded proteasome 13 straightforward hypothesis cdk10 cyclin positively controls ets2 degradation thus examined impact cdk10 cyclin silencing ets2 expression levels silencing cdk10 cyclin caused increase expression levels exogenously expressed flag ets2 protein fig s4a well endogenous ets2 protein fig 4a increase attributable increased ets2 mrna levels marginally fluctuated response cdk10 cyclin silencing fig s4b examined expression levels flag tagged ets2 protein expressed alone combination myc cdk10 cdk10 kd without cyclin v5 6his flag ets2 readily detected expressed alone lesser extent coexpressed cdk10 kd however expression level dramatically decreased coexpressed cdk10 alone cdk10 cyclin fig 4b observations suggest endogenous cyclin levels excess compared cdk10 mcf7 cells show major decrease ets2 levels observed upon cdk10 coexpression involves cdk10 kinase activity treatment cells coexpressing flag ets2 cdk10 cyclin proteasome inhibitor mg132 largely rescued flag ets2 expression levels fig 4b fig 4 new window download pptfig 4 cdk10 cyclin controls ets2 stability human cancer derived cells western blot analysis endogenous ets2 expression levels mcf7 cells response sirna mediated cdk10 cyclin silencing quantification shown fig s4b b western blot analysis exogenously expressed flag ets2 protein levels mcf7 cells cotransfected empty vectors coexpressing myc cdk10 wt kd myc cdk10 cycm v5 6his latter cells treated 16 h mg132 proteasome inhibitor proper expression cdk10 cyclin tagged proteins verified western blot analysis c western blot analysis expression levels exogenously expressed flag ets2 wild type mutant proteins mcf7 cells absence c response myc cdk10 cycm v5 6his expression quantifications shown fig s4 c mass spectrometry analysis recombinant ets2 phosphorylated cdk10 cyclin vitro revealed existence multiple phosphorylated residues among two neighboring phospho serines positions 220 225 may form phosphodegron 14 figs s5 s8 confirm finding compared phosphorylation level recombinant ets2wt ets2sasa protein mutant bearing alanine substitutions two serines expected existence multiple phosphorylation sites detected small reproducible significant decrease phosphorylation level ets2sasa compared ets2wt fig s9 thus confirming ser220 ser225 phosphorylated cdk10 cyclin establish direct link ets2 phosphorylation cdk10 cyclin degradation examined expression levels flag ets2sasa absence cdk10 cyclin coexpression differ significantly flag ets2 contrary flag ets2dbm bearing deletion n terminal destruction box previously shown involved apc cdh1 mediated degradation ets2 13 fig 4c however contrary flag ets2 wild type expression level flag ets2sasa remained insensitive cdk10 cyclin coexpression fig 4d altogether results suggest cdk10 cyclin directly controls ets2 degradation phosphorylation two serines finally studied lymphoblastoid cell line derived patient star syndrome bearing fam58a mutation c 555 1g predicted result aberrant splicing 10 accordance incomplete skewing x chromosome inactivation previously found patient detected decreased expression level cyclin protein star cell line compared control lymphoblastoid cell line line preceding observations detected increased expression level ets2 protein star cell line compared control fig 5a fig s10a examined quantitative rt pcr mrna expression levels corresponding genes star cell line showed decreased expression level cyclin mrna expression level ets2 mrna similar control cell line fig 5b demonstrate increase ets2 protein expression indeed result decreased cyclin expression observed star patient derived cell line expressed cyclin v5 6his cell line expression caused decrease ets2 protein levels fig 5c fig 5 new window download pptfig 5 decreased cyclin expression star patient derived cells results increased ets2 protein level western blot analysis cyclin ets2 protein levels star patient derived lymphoblastoid cell line control lymphoblastoid cell line derived healthy individual quantification shown fig s10a b quantitative rt pcr analysis cyclin ets2 mrna levels cells p 0 001 c western blot analysis ets2 protein levels star patient derived lymphoblastoid cell line transfected empty vector vector directing expression cyclin v5 6his another western blot revealing endogenously exogenously expressed cyclin levels shown fig s10b quantification ets2 protein levels shown fig s10c previous sectionnext sectiondiscussionin work unveil interaction cdk10 last orphan cdk discovered pregenomic era 2 cyclin cyclin associated human genetic disease far whose functions remain unknown 10 closest paralogs cdk10 within cdk family cdk11 proteins interact l type cyclins 15 interestingly closest paralog cyclins within cyclin family cyclin fig s11 fact none shorter cdk10 isoforms interact robustly cyclin suggests alternative splicing cdk10 gene 16 17 plays important role regulating cdk10 functions functional relevance interaction cdk10 cyclin supported different observations proteins seem enhance stability judged increased expression levels partner exogenously coexpressed fig 1d much reduced endogenous cdk10 expression level observed response cyclin silencing fig 3a fig s2b cdk10 subject ubiquitin mediated degradation 18 observations suggest cyclin protects cdk10 degradation cyclin partner cdk10 least mcf7 cells also suggest cyclin stability enhanced upon binding cdk10 independently kinase activity seen cyclin c cdk8 19 uncover cyclin dependent cdk10 protein kinase activity vitro thus demonstrating protein named cdk sole basis amino acid sequence indeed genuine cyclin dependent kinase y2h assays reveal truncated cyclin proteins corresponding hypothetical products two star syndrome associated fam58a mutations produce interaction phenotype cdk10 hence regardless whether mutated mrnas undergo nonsense mediated decay suggested decreased cyclin mrna levels star cells shown fig 5b give rise truncated cyclin proteins females affected star syndrome must exhibit compromised cdk10 cyclin kinase activity least tissues specific developmental stages show ets2 known interactor cdk10 phosphorylation substrate cdk10 cyclin vitro cdk10 cyclin kinase activity positively controls ets2 degradation proteasome control seems exerted fine mechanism judged sensitivity ets2 levels partially decreased cdk10 cyclin levels achieved mcf7 cells observed star cells respectively findings offer straightforward explanation already reported regulation ets2 driven transcription c raf response cdk10 silencing 6 bring evidence cdk10 cyclin directly controls ets2 degradation phosphorylation two neighboring serines may form noncanonical trcp phosphodegron dsmcpas 14 none two serines precede proline conform usual cdk phosphorylation sites however multiple called transcriptional cdks cdk7 8 9 11 cdk10 may belong fig s11 shown phosphorylate variety motifs non proline directed fashion especially context molecular docking substrate 20 hypothesized high affinity interaction cdk10 pointed domain ets2 6 9 fig 1c would allow docking mediated phosphorylation atypical sites control ets2 degradation involves number players including apc cdh1 13 cullin ring ligase crl4 21 formal identification ubiquitin ligase involved cdk10 cyclin pathway elucidation concerted action ubiquitin ligases regulate ets2 degradation require studies results present number significant biological medical implications first shed light regulation ets2 plays important role development 22 frequently deregulated many cancers 23 second results contribute understanding molecular mechanisms causing tamoxifen resistance associated reduced cdk10 expression levels suggest like cdk10 6 cyclin could also predictive clinical marker hormone therapy response er positive breast cancer patients third findings offer interesting hypothesis molecular mechanisms underlying star syndrome ets2 transgenic mice showing less twofold overexpression ets2 present severe cranial abnormalities 24 observed star patients could thus caused least part increased ets2 protein levels another expected consequence enhanced ets2 expression levels would decreased risk develop certain types cancers increased risk develop others studies various mouse models including models syndrome three copies ets2 exist revealed ets2 dosage repress promote tumor growth hence ets2 exerts noncell autonomous functions cancer 25 intringuingly one star patients identified far diagnosed nephroblastoma 26 finally findings facilitate general exploration biological functions cdk10 particular role control cell division previous studies suggested either positive role cell cycle control 5 6 tumor suppressive activity cancers 7 8 severe growth retardation exhibited star patients strongly suggests cdk10 cyclin plays important role control cell proliferation previous sectionnext sectionmaterials methodscloning cdk10 cyclin cdnas plasmid constructions tamoxifen response analysis quantitative rt pcr mass spectrometry experiments antibody production detailed si materials methods yeast two hybrid interaction assays performed yeast interaction mating assays previously described 27 mammalian cell cultures transfections grew human hek293 mcf7 cells dmem supplemented 10 vol vol fbs invitrogen grew lymphoblastoid cells rpmi 1640 glutamax supplemented 15 vol vol fbs transfected hek293 mcf7 cells using lipofectamine 2000 invitrogen plasmids lipofectamine rnaimax invitrogen sirnas jetprime polyplus plasmids sirnas combinations according manufacturers instructions transfected lymphoblastoid cells electroporation neon invitrogen ets2 stability studies treated mcf7 cells 32 h transfection 10 mg132 fisher scientific 16 h coimmunoprecipitation western blot experiments collected cells scraping pbs centrifugation lymphoblastoid cells lysed sonication lysis buffer containing 60 mm glycerophosphate 15 mm p nitrophenylphosphate 25 mm 3 n morpholino propanesulfonic acid mops ph 7 2 15 mm egta 15 mm mgcl2 1 mm na vanadate 1 mm naf 1mm phenylphosphate 0 1 nonidet p 40 protease inhibitor mixture roche spun lysates 15 min 20 000 g 4 c collected supernatants determined protein content using bradford assay performed immunoprecipitation experiments 500 g total proteins lysis buffer precleared lysates 20 l protein g agarose beads incubated 1 h 4 c rotating wheel added 5 g antibody supernatants incubated 1 h 4 c rotating wheel added 20 l protein g agarose beads incubated 1 h 4 c rotating wheel collected beads centrifugation 30 18 000 g 4 c washed three times bead buffer containing 50 mm tris ph 7 4 5 mm naf 250 mm nacl 5 mm edta 5 mm egta 0 1 nonidet p 40 protease inhibitor coktail roche directly added sample buffer washed pellets heat denatured proteins ran samples 10 bis tris sds page transferred proteins onto hybond nitrocellulose membranes processed blots according standard procedures western blot experiments used following primary antibodies anti myc abcam ab9106 1 2 000 anti v5 invitrogen r960 1 5 000 anti tubulin santa cruz biotechnology b 7 1 500 anti cdk10 covalab pab0847p 1 500 santa cruz biotechnology c 19 1 500 anti cycm home made dilution 1 500 covalab pab0882 p dilution 1 500 anti raf1 santa cruz biotechnology c 20 1 1 000 anti ets2 santa cruz biotechnology c 20 1 1 000 anti flag sigma f7425 1 1 000 anti actin sigma a5060 1 5 000 used hrp coupled anti goat santa cruz biotechnology sc 2033 dilution 1 2 000 anti mouse bio rad 170 6516 dilution 1 3 000 anti rabbit bio rad 172 1019 1 5 000 secondary antibodies revealed blots enhanced chemiluminescence supersignal west femto thermo scientific production purification recombinant proteins gst cdk10 kd strepii cycm generated recombinant bacmids dh10bac escherichia coli baculoviruses sf9 cells using bac bac system described provider invitrogen infected sf9 cells gst cdk10 gst cdk10kd producing viruses coinfected cells strepii cycm producing viruses collected cells 72 h infection purify gst fusion proteins spun 250 ml cells resuspended pellet 40 ml lysis buffer pbs 250 mm nacl 0 5 nonidet p 40 50 mm naf 10 mm glycerophosphate 0 3 mm na vanadate containing protease inhibitor mixture roche lysed cells sonication spun lysate 30 min 15 000 g collected soluble fraction added 1 ml glutathione sepharose matrix incubated 1 h 4 c washed four times lysis buffer one time kinase buffer see finally resuspended beads 100 l kinase buffer containing 10 vol vol glycerol storage 6his ets2 transformed origami2 de3 novagen 6his ets2 expression vector induced expression 0 2 mm isopropyl 1 thiogalactopyranoside 3 h 22 c purify 6his ets2 spun 50 ml cells resuspended pellet 2 ml lysis buffer pbs 300 mm nacl 10 mm imidazole 1 mm dtt 0 1 nonidet p 40 containing protease inhibitor mixture without edta roche lysed cells 1 6 bar using cell disruptor spun lysate 10 min 20 000 g collected soluble fraction added 200 l cobalt beads thermo scientific 1 h incubation 4 c rotating wheel washed four times lysis buffer elute incubated beads 30 min elution buffer pbs 250 mm imidazole ph 7 6 containing protease inhibitor mixture spun 30 10 000 g collected eluted protein protein kinase assays mixed glutathione sepharose beads harboring gst cdk10 wt kd either monomeric complexed strepii cycm 22 7 bsa 15 mm dtt 100 atp 5 ci atp 32p 7 75 histone h1 1 6his ets2 added kinase buffer 25 mm tris hcl 10 mm mgcl2 1 mm egta 1 mm dtt 3 7 heparin ph 7 5 total volume 30 l incubated reactions 30 min 30 c added laemli sample buffer heat denatured samples ran 10 bis tris sds page cut gel slices detect gst cdk10 strepii cycm western blotting stained gel slices containing substrate coomassie r 250 bio rad dried detected incorporated radioactivity autoradiography identified four unrelated girls anogenital renal malformations dysmorphic facial features normal intellect syndactyly toes similar combination features reported previously mother daughter pair1 table 1 supplementary note online authors noted clinical overlap townes brocks syndrome suggested phenotype represented separate autosomal dominant entity mim601446 define cardinal features syndrome characteristic facial appearance apparent telecanthus broad tripartite nasal tip variable syndactyly toes 2 5 hypoplastic labia anal atresia urogenital malformations fig 1a h also observed variety features table 1 figure 1 clinical molecular characterization star syndrome figure 1 clinical molecular characterization star syndrome f facial appearances cases 1 3 apparent telecanthus dysplastic ears thin upper lips c e toe syndactyly 2 5 3 5 4 5 b f cases illustrate recognizable features star syndrome specific parental consent obtained publication photographs anal atresia hypoplastic labia shown g h x ray films feet case 2 showing four rays left delta shaped 4th 5th metatarsals right h compare clinical picture array cgh data log2 ratio represents copy number loss six probes spanning 37 9 50 7 kb one probe positioned within fam58a deletion remove parts functional genes j schematic structure fam58a position mutations fam58a five coding exons boxes cyclin domain green encoded exons 2 4 horizontal arrow indicates deletion extending 5 case 1 includes exons 1 2 whereas horizontal line exon 5 indicates deletion found case 3 removes exon 5 3 sequence pink horizontal bars boxes indicate amplicons used qpcr sequencing one alternative exon 5 amplicon indicated space constraints mutation 201dupt case 4 results immediate stop codon 555 1g 555 1g splice mutations cases 2 5 6 predicted deleterious alter conserved splice donor acceptor site intron 4 respectively full size image 97 kb table 1 clinical features star syndrome cases table 1 clinical features star syndrome cases full table basis phenotypic overlap townes brocks okihiro feingold syndromes analyzed sall1 ref 2 sall4 ref 3 mycn4 found mutations genes supplementary methods online next carried genome wide high resolution oligonucleotide array comparative genomic hybridization cgh 5 analysis supplementary methods genomic dna severely affected individual case 1 lower lid coloboma epilepsy syringomyelia identified heterozygous deletion 37 9 50 7 kb xq28 removed exons 1 2 fam58a fig 1i j using real time pcr confirmed deletion child excluded unaffected parents supplementary fig 1a online supplementary methods supplementary table 1 online cgh customized oligonucleotide array enriched probes xq28 followed breakpoint cloning defined exact deletion size 40 068 bp g 152 514 164 152 554 231del chromosome x ncbi build 36 2 fig 1j supplementary figs 2 3 online deletion removes coding regions exons 1 2 well intron 1 2 774 bp 492 bp intron 2 36 608 bp 5 sequence including 5 utr entire krt18p48 pseudogene ncbi gene id 340598 paternity proven using routine methods find deletions overlapping fam58a available copy number variation cnv databases subsequently carried qpcr analysis three affected individuals cases 2 3 4 mother daughter pair literature cases 5 6 case 3 detected de novo heterozygous deletion 1 1 10 3 kb overlapping exon 5 supplementary fig 1b online using xq28 targeted array cgh breakpoint cloning identified deletion 4 249 bp g 152 504 123 152 508 371del chromosome x ncbi build 36 2 fig 1j supplementary figs 2 3 removed 1 265 bp intron 4 exon 5 including 3 utr 2 454 bp 3 sequence found heterozygous fam58a point mutations remaining cases fig 1j supplementary fig 2 supplementary methods supplementary table 1 case 2 identified mutation 555 1g affecting splice donor site intron 4 case 4 identified frameshift mutation 201dupt immediately results premature stop codon n68xfsx1 cases 5 6 detected mutation 556 1g alters splice acceptor site intron 4 validated point mutations deletions independent rounds pcr sequencing qpcr confirmed paternity de novo status point mutations deletions sporadic cases none mutations seen dna 60 unaffected female controls larger deletions involving fam58a found 93 unrelated array cgh investigations analyzing x chromosome inactivation supplementary methods supplementary fig 4 online found complete skewing x inactivation cases 1 3 6 almost complete skewing case 2 suggesting cells carrying mutation active x chromosome growth disadvantage fetal development using rt pcr rna lymphoblastoid cells case 2 supplementary fig 2 find aberrant splice products additional evidence mutated allele inactivated furthermore fam58a subjected x inactivation6 cases 1 3 parental origin deletions could determined result lack informative snps case 5 mother case 6 gave birth two boys clinically unaffected samples available exclude condition lethal males fetal losses reported families function fam58a unknown gene consists five coding exons 642 bp coding region encodes protein 214 amino acids genbank lists mrna length 1 257 bp reference sequence nm 152274 2 expression gene est data found 27 48 adult tissues including kidney colon cervix uterus heart ncbi expression viewer unigene hs 496943 expression also noted 24 26 listed tumor tissues well embryo fetus genes homologous fam58a ncbi homologene 13362 found x chromosome chimpanzee dog zebrafish similar gene chromosome 23 however mouse rat true homologs species similar intronless genes chromosomes 11 mouse 10 rat likely arising retrotransposon insertion event murine x chromosome flanking genes atp2b3 dusp9 conserved remnants fam58a sequence detected fam58a contains cyclin box fold domain protein binding domain found cyclins role cell cycle transcription control human phenotype resulting cyclin gene mutation yet reported homozygous knockout mice ccnd1 encoding cyclin d1 viable small reduced lifespan also dystrophic changes retina likely result decreased cell proliferation degeneration photoreceptor cells embryogenesis7 8 cyclin d1 colocalizes sall4 nucleus proteins cooperatively mediate transcriptional repression9 phenotype cases overlaps considerably townes brocks syndrome caused sall1 mutations1 carried co immunoprecipitation find sall1 sall4 would interact fam58a manner similar observed sall4 cyclin d1 found fam58a interacts sall1 sall4 supplementary fig 5 online supporting hypothesis fam58a sall1 participate developmental pathway fam58a mutations lead star syndrome growth retardation cases table 1 retinal abnormalities three cases reminiscent reduced body size retinal anomalies cyclin d1 knockout mice7 8 therefore proliferation defect might partly responsible star syndrome address question carried knockdown fam58a mrna followed proliferation assay transfection hek293 cells three different fam58a specific rnai oligonucleotides resulted significant reduction fam58a mrna expression proliferation transfected cells supplementary methods supplementary fig 6 online supporting link fam58a cell proliferation found loss function mutations fam58a result rather homogeneous clinical phenotype additional anomalies case 1 likely result effect 40 kb deletion expression neighboring gene possibly atp2b3 dusp9 however exclude homogeneous phenotype results ascertainment bias fam58a mutations including missense changes could result broader spectrum malformations genes causing overlapping phenotypes star syndrome townes brocks syndrome seem act pathway note mycn gene mutated feingold syndrome direct regulator cyclin d2 refs 10 11 thus worth exploring whether phenotypic similarities feingold star syndrome might explained direct regulation fam58a mycn fam58a located approximately 0 56 mb centromeric mecp2 xq28 duplications overlapping mecp2 fam58a described associated clinical phenotype females12 deletions overlapping mecp2 fam58a observed date13 although genes fam58a mecp2 implicated brain development fam58a mecp2 genes region known result x linked dominant phenotypes thus deletion genes allele might lethal males females'"
            ],
            "application/vnd.google.colaboratory.intrinsic+json": {
              "type": "string"
            }
          },
          "metadata": {},
          "execution_count": 71
        }
      ],
      "source": [
        "df['Text'].iloc[0] #checking the preprocess data"
      ]
    },
    {
      "cell_type": "code",
      "source": [
        "!pip install category_encoders"
      ],
      "metadata": {
        "colab": {
          "base_uri": "https://localhost:8080/"
        },
        "id": "LJjpRuicQN_q",
        "outputId": "a9d535f4-e28c-4fa6-fe2f-e2522e1bdfad"
      },
      "execution_count": 72,
      "outputs": [
        {
          "output_type": "stream",
          "name": "stdout",
          "text": [
            "Requirement already satisfied: category_encoders in /usr/local/lib/python3.10/dist-packages (2.6.3)\n",
            "Requirement already satisfied: numpy>=1.14.0 in /usr/local/lib/python3.10/dist-packages (from category_encoders) (1.23.5)\n",
            "Requirement already satisfied: scikit-learn>=0.20.0 in /usr/local/lib/python3.10/dist-packages (from category_encoders) (1.2.2)\n",
            "Requirement already satisfied: scipy>=1.0.0 in /usr/local/lib/python3.10/dist-packages (from category_encoders) (1.11.3)\n",
            "Requirement already satisfied: statsmodels>=0.9.0 in /usr/local/lib/python3.10/dist-packages (from category_encoders) (0.14.0)\n",
            "Requirement already satisfied: pandas>=1.0.5 in /usr/local/lib/python3.10/dist-packages (from category_encoders) (1.5.3)\n",
            "Requirement already satisfied: patsy>=0.5.1 in /usr/local/lib/python3.10/dist-packages (from category_encoders) (0.5.3)\n",
            "Requirement already satisfied: python-dateutil>=2.8.1 in /usr/local/lib/python3.10/dist-packages (from pandas>=1.0.5->category_encoders) (2.8.2)\n",
            "Requirement already satisfied: pytz>=2020.1 in /usr/local/lib/python3.10/dist-packages (from pandas>=1.0.5->category_encoders) (2023.3.post1)\n",
            "Requirement already satisfied: six in /usr/local/lib/python3.10/dist-packages (from patsy>=0.5.1->category_encoders) (1.16.0)\n",
            "Requirement already satisfied: joblib>=1.1.1 in /usr/local/lib/python3.10/dist-packages (from scikit-learn>=0.20.0->category_encoders) (1.3.2)\n",
            "Requirement already satisfied: threadpoolctl>=2.0.0 in /usr/local/lib/python3.10/dist-packages (from scikit-learn>=0.20.0->category_encoders) (3.2.0)\n",
            "Requirement already satisfied: packaging>=21.3 in /usr/local/lib/python3.10/dist-packages (from statsmodels>=0.9.0->category_encoders) (23.2)\n"
          ]
        }
      ]
    },
    {
      "cell_type": "code",
      "source": [
        "import pandas as pd\n",
        "import category_encoders as ce\n",
        "\n",
        "\n",
        "# Initialize TargetEncoder\n",
        "target_encoder = ce.TargetEncoder(cols=['Gene'])\n",
        "target_encoder1 = ce.TargetEncoder(cols=['Variation'])\n",
        "\n",
        "\n"
      ],
      "metadata": {
        "id": "sWQegAQCCghE"
      },
      "execution_count": 73,
      "outputs": []
    },
    {
      "cell_type": "code",
      "execution_count": 74,
      "metadata": {
        "id": "SbwwPb4fRssp"
      },
      "outputs": [],
      "source": [
        "\n",
        "\n",
        "# Map the frequency values to the 'genes' column\n",
        "df['gene_frequency_encoded'] = target_encoder.fit_transform(df['Gene'], df['Class'])"
      ]
    },
    {
      "cell_type": "code",
      "execution_count": 75,
      "metadata": {
        "id": "wZ7xKRphSoS9"
      },
      "outputs": [],
      "source": [
        "\n",
        "\n",
        "# Map the frequency values to the 'genes' column\n",
        "df['variation_frequency_encoded'] = target_encoder1.fit_transform(df['Variation'], df['Class'])"
      ]
    },
    {
      "cell_type": "code",
      "execution_count": 76,
      "metadata": {
        "id": "KFIYzp9-S1Eq",
        "colab": {
          "base_uri": "https://localhost:8080/",
          "height": 143
        },
        "outputId": "17c67001-852d-489b-e599-5620b5f46d2a"
      },
      "outputs": [
        {
          "data": {
            "text/html": [
              "\n",
              "  <div id=\"df-b0e12632-2e28-4c2a-8819-74e5cb84fd44\" class=\"colab-df-container\">\n",
              "    <div>\n",
              "<style scoped>\n",
              "    .dataframe tbody tr th:only-of-type {\n",
              "        vertical-align: middle;\n",
              "    }\n",
              "\n",
              "    .dataframe tbody tr th {\n",
              "        vertical-align: top;\n",
              "    }\n",
              "\n",
              "    .dataframe thead th {\n",
              "        text-align: right;\n",
              "    }\n",
              "</style>\n",
              "<table border=\"1\" class=\"dataframe\">\n",
              "  <thead>\n",
              "    <tr style=\"text-align: right;\">\n",
              "      <th></th>\n",
              "      <th>Gene</th>\n",
              "      <th>Variation</th>\n",
              "      <th>Class</th>\n",
              "      <th>Text</th>\n",
              "      <th>gene_frequency_encoded</th>\n",
              "      <th>variation_frequency_encoded</th>\n",
              "    </tr>\n",
              "  </thead>\n",
              "  <tbody>\n",
              "    <tr>\n",
              "      <th>0</th>\n",
              "      <td>FAM58A</td>\n",
              "      <td>Truncating_Mutations</td>\n",
              "      <td>1</td>\n",
              "      <td>cyclin dependent kinases cdks regulate variety...</td>\n",
              "      <td>3.927928</td>\n",
              "      <td>1.152708</td>\n",
              "    </tr>\n",
              "    <tr>\n",
              "      <th>1</th>\n",
              "      <td>CBL</td>\n",
              "      <td>W802*</td>\n",
              "      <td>2</td>\n",
              "      <td>abstract background non small cell lung cancer...</td>\n",
              "      <td>3.988734</td>\n",
              "      <td>4.058036</td>\n",
              "    </tr>\n",
              "    <tr>\n",
              "      <th>2</th>\n",
              "      <td>CBL</td>\n",
              "      <td>Q249E</td>\n",
              "      <td>2</td>\n",
              "      <td>abstract background non small cell lung cancer...</td>\n",
              "      <td>3.988734</td>\n",
              "      <td>4.058036</td>\n",
              "    </tr>\n",
              "  </tbody>\n",
              "</table>\n",
              "</div>\n",
              "    <div class=\"colab-df-buttons\">\n",
              "\n",
              "  <div class=\"colab-df-container\">\n",
              "    <button class=\"colab-df-convert\" onclick=\"convertToInteractive('df-b0e12632-2e28-4c2a-8819-74e5cb84fd44')\"\n",
              "            title=\"Convert this dataframe to an interactive table.\"\n",
              "            style=\"display:none;\">\n",
              "\n",
              "  <svg xmlns=\"http://www.w3.org/2000/svg\" height=\"24px\" viewBox=\"0 -960 960 960\">\n",
              "    <path d=\"M120-120v-720h720v720H120Zm60-500h600v-160H180v160Zm220 220h160v-160H400v160Zm0 220h160v-160H400v160ZM180-400h160v-160H180v160Zm440 0h160v-160H620v160ZM180-180h160v-160H180v160Zm440 0h160v-160H620v160Z\"/>\n",
              "  </svg>\n",
              "    </button>\n",
              "\n",
              "  <style>\n",
              "    .colab-df-container {\n",
              "      display:flex;\n",
              "      gap: 12px;\n",
              "    }\n",
              "\n",
              "    .colab-df-convert {\n",
              "      background-color: #E8F0FE;\n",
              "      border: none;\n",
              "      border-radius: 50%;\n",
              "      cursor: pointer;\n",
              "      display: none;\n",
              "      fill: #1967D2;\n",
              "      height: 32px;\n",
              "      padding: 0 0 0 0;\n",
              "      width: 32px;\n",
              "    }\n",
              "\n",
              "    .colab-df-convert:hover {\n",
              "      background-color: #E2EBFA;\n",
              "      box-shadow: 0px 1px 2px rgba(60, 64, 67, 0.3), 0px 1px 3px 1px rgba(60, 64, 67, 0.15);\n",
              "      fill: #174EA6;\n",
              "    }\n",
              "\n",
              "    .colab-df-buttons div {\n",
              "      margin-bottom: 4px;\n",
              "    }\n",
              "\n",
              "    [theme=dark] .colab-df-convert {\n",
              "      background-color: #3B4455;\n",
              "      fill: #D2E3FC;\n",
              "    }\n",
              "\n",
              "    [theme=dark] .colab-df-convert:hover {\n",
              "      background-color: #434B5C;\n",
              "      box-shadow: 0px 1px 3px 1px rgba(0, 0, 0, 0.15);\n",
              "      filter: drop-shadow(0px 1px 2px rgba(0, 0, 0, 0.3));\n",
              "      fill: #FFFFFF;\n",
              "    }\n",
              "  </style>\n",
              "\n",
              "    <script>\n",
              "      const buttonEl =\n",
              "        document.querySelector('#df-b0e12632-2e28-4c2a-8819-74e5cb84fd44 button.colab-df-convert');\n",
              "      buttonEl.style.display =\n",
              "        google.colab.kernel.accessAllowed ? 'block' : 'none';\n",
              "\n",
              "      async function convertToInteractive(key) {\n",
              "        const element = document.querySelector('#df-b0e12632-2e28-4c2a-8819-74e5cb84fd44');\n",
              "        const dataTable =\n",
              "          await google.colab.kernel.invokeFunction('convertToInteractive',\n",
              "                                                    [key], {});\n",
              "        if (!dataTable) return;\n",
              "\n",
              "        const docLinkHtml = 'Like what you see? Visit the ' +\n",
              "          '<a target=\"_blank\" href=https://colab.research.google.com/notebooks/data_table.ipynb>data table notebook</a>'\n",
              "          + ' to learn more about interactive tables.';\n",
              "        element.innerHTML = '';\n",
              "        dataTable['output_type'] = 'display_data';\n",
              "        await google.colab.output.renderOutput(dataTable, element);\n",
              "        const docLink = document.createElement('div');\n",
              "        docLink.innerHTML = docLinkHtml;\n",
              "        element.appendChild(docLink);\n",
              "      }\n",
              "    </script>\n",
              "  </div>\n",
              "\n",
              "\n",
              "<div id=\"df-a5f8357b-d3a4-443c-94c4-5bc269111fe0\">\n",
              "  <button class=\"colab-df-quickchart\" onclick=\"quickchart('df-a5f8357b-d3a4-443c-94c4-5bc269111fe0')\"\n",
              "            title=\"Suggest charts\"\n",
              "            style=\"display:none;\">\n",
              "\n",
              "<svg xmlns=\"http://www.w3.org/2000/svg\" height=\"24px\"viewBox=\"0 0 24 24\"\n",
              "     width=\"24px\">\n",
              "    <g>\n",
              "        <path d=\"M19 3H5c-1.1 0-2 .9-2 2v14c0 1.1.9 2 2 2h14c1.1 0 2-.9 2-2V5c0-1.1-.9-2-2-2zM9 17H7v-7h2v7zm4 0h-2V7h2v10zm4 0h-2v-4h2v4z\"/>\n",
              "    </g>\n",
              "</svg>\n",
              "  </button>\n",
              "\n",
              "<style>\n",
              "  .colab-df-quickchart {\n",
              "      --bg-color: #E8F0FE;\n",
              "      --fill-color: #1967D2;\n",
              "      --hover-bg-color: #E2EBFA;\n",
              "      --hover-fill-color: #174EA6;\n",
              "      --disabled-fill-color: #AAA;\n",
              "      --disabled-bg-color: #DDD;\n",
              "  }\n",
              "\n",
              "  [theme=dark] .colab-df-quickchart {\n",
              "      --bg-color: #3B4455;\n",
              "      --fill-color: #D2E3FC;\n",
              "      --hover-bg-color: #434B5C;\n",
              "      --hover-fill-color: #FFFFFF;\n",
              "      --disabled-bg-color: #3B4455;\n",
              "      --disabled-fill-color: #666;\n",
              "  }\n",
              "\n",
              "  .colab-df-quickchart {\n",
              "    background-color: var(--bg-color);\n",
              "    border: none;\n",
              "    border-radius: 50%;\n",
              "    cursor: pointer;\n",
              "    display: none;\n",
              "    fill: var(--fill-color);\n",
              "    height: 32px;\n",
              "    padding: 0;\n",
              "    width: 32px;\n",
              "  }\n",
              "\n",
              "  .colab-df-quickchart:hover {\n",
              "    background-color: var(--hover-bg-color);\n",
              "    box-shadow: 0 1px 2px rgba(60, 64, 67, 0.3), 0 1px 3px 1px rgba(60, 64, 67, 0.15);\n",
              "    fill: var(--button-hover-fill-color);\n",
              "  }\n",
              "\n",
              "  .colab-df-quickchart-complete:disabled,\n",
              "  .colab-df-quickchart-complete:disabled:hover {\n",
              "    background-color: var(--disabled-bg-color);\n",
              "    fill: var(--disabled-fill-color);\n",
              "    box-shadow: none;\n",
              "  }\n",
              "\n",
              "  .colab-df-spinner {\n",
              "    border: 2px solid var(--fill-color);\n",
              "    border-color: transparent;\n",
              "    border-bottom-color: var(--fill-color);\n",
              "    animation:\n",
              "      spin 1s steps(1) infinite;\n",
              "  }\n",
              "\n",
              "  @keyframes spin {\n",
              "    0% {\n",
              "      border-color: transparent;\n",
              "      border-bottom-color: var(--fill-color);\n",
              "      border-left-color: var(--fill-color);\n",
              "    }\n",
              "    20% {\n",
              "      border-color: transparent;\n",
              "      border-left-color: var(--fill-color);\n",
              "      border-top-color: var(--fill-color);\n",
              "    }\n",
              "    30% {\n",
              "      border-color: transparent;\n",
              "      border-left-color: var(--fill-color);\n",
              "      border-top-color: var(--fill-color);\n",
              "      border-right-color: var(--fill-color);\n",
              "    }\n",
              "    40% {\n",
              "      border-color: transparent;\n",
              "      border-right-color: var(--fill-color);\n",
              "      border-top-color: var(--fill-color);\n",
              "    }\n",
              "    60% {\n",
              "      border-color: transparent;\n",
              "      border-right-color: var(--fill-color);\n",
              "    }\n",
              "    80% {\n",
              "      border-color: transparent;\n",
              "      border-right-color: var(--fill-color);\n",
              "      border-bottom-color: var(--fill-color);\n",
              "    }\n",
              "    90% {\n",
              "      border-color: transparent;\n",
              "      border-bottom-color: var(--fill-color);\n",
              "    }\n",
              "  }\n",
              "</style>\n",
              "\n",
              "  <script>\n",
              "    async function quickchart(key) {\n",
              "      const quickchartButtonEl =\n",
              "        document.querySelector('#' + key + ' button');\n",
              "      quickchartButtonEl.disabled = true;  // To prevent multiple clicks.\n",
              "      quickchartButtonEl.classList.add('colab-df-spinner');\n",
              "      try {\n",
              "        const charts = await google.colab.kernel.invokeFunction(\n",
              "            'suggestCharts', [key], {});\n",
              "      } catch (error) {\n",
              "        console.error('Error during call to suggestCharts:', error);\n",
              "      }\n",
              "      quickchartButtonEl.classList.remove('colab-df-spinner');\n",
              "      quickchartButtonEl.classList.add('colab-df-quickchart-complete');\n",
              "    }\n",
              "    (() => {\n",
              "      let quickchartButtonEl =\n",
              "        document.querySelector('#df-a5f8357b-d3a4-443c-94c4-5bc269111fe0 button');\n",
              "      quickchartButtonEl.style.display =\n",
              "        google.colab.kernel.accessAllowed ? 'block' : 'none';\n",
              "    })();\n",
              "  </script>\n",
              "</div>\n",
              "    </div>\n",
              "  </div>\n"
            ],
            "text/plain": [
              "     Gene             Variation  Class  \\\n",
              "0  FAM58A  Truncating_Mutations      1   \n",
              "1     CBL                 W802*      2   \n",
              "2     CBL                 Q249E      2   \n",
              "\n",
              "                                                Text  gene_frequency_encoded  \\\n",
              "0  cyclin dependent kinases cdks regulate variety...                3.927928   \n",
              "1  abstract background non small cell lung cancer...                3.988734   \n",
              "2  abstract background non small cell lung cancer...                3.988734   \n",
              "\n",
              "   variation_frequency_encoded  \n",
              "0                     1.152708  \n",
              "1                     4.058036  \n",
              "2                     4.058036  "
            ]
          },
          "execution_count": 76,
          "metadata": {},
          "output_type": "execute_result"
        }
      ],
      "source": [
        "df.head(3)"
      ]
    },
    {
      "cell_type": "code",
      "execution_count": 77,
      "metadata": {
        "id": "tdX59MZ9RmZk"
      },
      "outputs": [],
      "source": [
        "X = df.drop(['Class', 'Gene', 'Variation'], axis = 1)\n",
        "y = df['Class']"
      ]
    },
    {
      "cell_type": "code",
      "execution_count": 78,
      "metadata": {
        "id": "22svGwD-TLpM",
        "colab": {
          "base_uri": "https://localhost:8080/"
        },
        "outputId": "139f25d6-547f-42a2-e028-bfacaf158d88"
      },
      "outputs": [
        {
          "data": {
            "text/plain": [
              "(3321, 3)"
            ]
          },
          "execution_count": 78,
          "metadata": {},
          "output_type": "execute_result"
        }
      ],
      "source": [
        "X.shape"
      ]
    },
    {
      "cell_type": "code",
      "execution_count": 79,
      "metadata": {
        "id": "VUNBE3rIRpYL"
      },
      "outputs": [],
      "source": [
        "#splitting all the columns\n",
        "X_text = X['Text']\n",
        "vectorizer = TfidfVectorizer(min_df = 3)\n",
        "X_text_vectorized = vectorizer.fit_transform(X_text.astype(str))"
      ]
    },
    {
      "cell_type": "code",
      "execution_count": null,
      "metadata": {
        "id": "YR061lNVVyWa"
      },
      "outputs": [],
      "source": [
        "X_text_vectorized.max()"
      ]
    },
    {
      "cell_type": "code",
      "execution_count": null,
      "metadata": {
        "id": "KDaMtTiKUcu9"
      },
      "outputs": [],
      "source": [
        "type(X_text)"
      ]
    },
    {
      "cell_type": "code",
      "execution_count": null,
      "metadata": {
        "id": "yS37nazJUe22"
      },
      "outputs": [],
      "source": [
        "text_df = pd.DataFrame(X_text_vectorized.toarray(), columns=vectorizer.get_feature_names_out())"
      ]
    },
    {
      "cell_type": "code",
      "execution_count": null,
      "metadata": {
        "id": "SQ2zLc61WJkY"
      },
      "outputs": [],
      "source": [
        "X.head(2)"
      ]
    },
    {
      "cell_type": "code",
      "execution_count": null,
      "metadata": {
        "id": "JOjb62sKUxUu"
      },
      "outputs": [],
      "source": [
        "X_tem = df[['gene_frequency_encoded', 'variation_frequency_encoded']]\n",
        "X_data = pd.concat([text_df, X_tem], axis=1)"
      ]
    },
    {
      "cell_type": "code",
      "execution_count": 85,
      "metadata": {
        "id": "EijdwhN_VMxL",
        "colab": {
          "base_uri": "https://localhost:8080/"
        },
        "outputId": "dd7535dd-9639-4495-ef27-5a8958eae8ad"
      },
      "outputs": [
        {
          "output_type": "execute_result",
          "data": {
            "text/plain": [
              "(3321, 65957)"
            ]
          },
          "metadata": {},
          "execution_count": 85
        }
      ],
      "source": [
        "X_data.shape"
      ]
    },
    {
      "cell_type": "code",
      "execution_count": null,
      "metadata": {
        "id": "np-YVsG3X105"
      },
      "outputs": [],
      "source": [
        "from sklearn.model_selection import train_test_split\n",
        "X_train,X_test, y_train, y_test = train_test_split(X_data, y, test_size= 0.3, stratify = y, random_state = 21)\n"
      ]
    },
    {
      "cell_type": "code",
      "execution_count": null,
      "metadata": {
        "id": "kEiXmiq4W3KC"
      },
      "outputs": [],
      "source": [
        "#using smote algorithm\n",
        "'''from imblearn.over_sampling import SMOTE\n",
        "from collections import Counter\n",
        "sm = SMOTE()\n",
        "X_train_sm, y_train_sm = sm.fit_resample(X_train, y_train)\n",
        "counter = Counter(y_train_sm)'''"
      ]
    },
    {
      "cell_type": "code",
      "execution_count": null,
      "metadata": {
        "id": "afpMp6BHYAdm"
      },
      "outputs": [],
      "source": [
        "#Multinomial NB\n",
        "from sklearn.metrics import precision_score, recall_score, f1_score\n",
        "from sklearn.naive_bayes import MultinomialNB  #using multinomial NB for this classification\n",
        "\n",
        "nb = MultinomialNB()\n",
        "nb.fit(X_train, y_train)\n",
        "y_pred = nb.predict(X_test)\n",
        "y_pred_proba = nb.predict_proba(X_test)\n",
        "print('Recall score : ', recall_score(y_test, y_pred, average='weighted'))\n",
        "print('f1 score : ', f1_score(y_test, y_pred, average='weighted'))\n",
        "print('log loss : ', log_loss(y_test, y_pred_proba))"
      ]
    },
    {
      "cell_type": "code",
      "execution_count": 88,
      "metadata": {
        "id": "rToRtrm6YIZC"
      },
      "outputs": [],
      "source": []
    }
  ],
  "metadata": {
    "colab": {
      "provenance": [],
      "gpuType": "T4"
    },
    "kernelspec": {
      "display_name": "Python 3",
      "name": "python3"
    },
    "language_info": {
      "name": "python"
    },
    "accelerator": "GPU"
  },
  "nbformat": 4,
  "nbformat_minor": 0
}