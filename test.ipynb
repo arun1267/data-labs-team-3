{
 "cells": [
  {
   "cell_type": "code",
   "execution_count": 1,
   "id": "6d6cfed3",
   "metadata": {},
   "outputs": [],
   "source": [
    "import pandas as pd\n",
    "import numpy as np\n",
    "import seaborn as sns\n",
    "import matplotlib.pyplot as plt"
   ]
  },
  {
   "cell_type": "code",
   "execution_count": 2,
   "id": "896bdb7e",
   "metadata": {},
   "outputs": [],
   "source": [
    "df =pd.read_csv(\"data.csv\")"
   ]
  },
  {
   "cell_type": "code",
   "execution_count": 3,
   "id": "a42c71ff",
   "metadata": {},
   "outputs": [],
   "source": [
    "#Importing Libraries\n",
    "import re\n",
    "import string\n",
    "from nltk.stem import PorterStemmer\n",
    "from nltk.stem import WordNetLemmatizer\n",
    "from nltk.corpus import stopwords\n",
    "from nltk.tokenize import word_tokenize\n",
    "from sklearn.preprocessing import normalize\n",
    "from sklearn.feature_extraction.text import CountVectorizer\n",
    "from sklearn.feature_extraction.text import TfidfVectorizer"
   ]
  },
  {
   "cell_type": "code",
   "execution_count": 4,
   "id": "962befc4",
   "metadata": {},
   "outputs": [],
   "source": [
    "#stopwords \n",
    "stop_words = set(stopwords.words('english'))"
   ]
  },
  {
   "cell_type": "code",
   "execution_count": 5,
   "id": "217794a5",
   "metadata": {},
   "outputs": [],
   "source": [
    "def preprocess_text(text):\n",
    "    text = str(text)\n",
    "    text = text.lower() #Converting to lowercase\n",
    "    #removing punctuation\n",
    "    text = re.sub('[%s]' % re.escape(string.punctuation), ' ',text)\n",
    "    text = re.sub('<.*?>+',' ',text) #removing HTML Tags\n",
    "    text = re.sub('[^a-zA-Z0-9\\n]', ' ', text) #replacing special character with space\n",
    "    text = re.sub(r'\\s+', ' ',text) #removal of multiple spaces\n",
    "    \n",
    "    text_tokens = word_tokenize(text)\n",
    "    \n",
    "    #removing stopwords\n",
    "    tw = [word for word in text_tokens if word not in stop_words]\n",
    "    text = (\" \").join(tw)\n",
    "    return text"
   ]
  },
  {
   "cell_type": "code",
   "execution_count": 6,
   "id": "2e6bd4c0",
   "metadata": {},
   "outputs": [],
   "source": [
    "df['Text'] = df['Text'].apply(preprocess_text)"
   ]
  },
  {
   "cell_type": "code",
   "execution_count": 7,
   "id": "3a9da5d1",
   "metadata": {},
   "outputs": [
    {
     "name": "stderr",
     "output_type": "stream",
     "text": [
      "C:\\Users\\ASUSVI~1\\AppData\\Local\\Temp/ipykernel_2896/1384861549.py:2: FutureWarning: The default value of regex will change from True to False in a future version.\n",
      "  df['Gene'] = df['Gene'].str.replace('\\s+', '_')\n",
      "C:\\Users\\ASUSVI~1\\AppData\\Local\\Temp/ipykernel_2896/1384861549.py:3: FutureWarning: The default value of regex will change from True to False in a future version.\n",
      "  df['Variation'] = df['Variation'].str.replace('\\s+', '_')\n"
     ]
    }
   ],
   "source": [
    "#Replacing the excess space for Gene and variation\n",
    "df['Gene'] = df['Gene'].str.replace('\\s+', '_')\n",
    "df['Variation'] = df['Variation'].str.replace('\\s+', '_')"
   ]
  },
  {
   "cell_type": "code",
   "execution_count": 8,
   "id": "fc46bc97",
   "metadata": {},
   "outputs": [],
   "source": [
    "df.loc[df['Text'].isnull(),'Text'] = df['Gene'] +' '+df['Variation']"
   ]
  },
  {
   "cell_type": "code",
   "execution_count": 9,
   "id": "675b144f",
   "metadata": {},
   "outputs": [],
   "source": [
    "X = df[['Gene', 'Variation', 'Text']]\n",
    "y = df['Class']"
   ]
  },
  {
   "cell_type": "code",
   "execution_count": 10,
   "id": "f7ca368a",
   "metadata": {},
   "outputs": [
    {
     "data": {
      "text/html": [
       "<div>\n",
       "<style scoped>\n",
       "    .dataframe tbody tr th:only-of-type {\n",
       "        vertical-align: middle;\n",
       "    }\n",
       "\n",
       "    .dataframe tbody tr th {\n",
       "        vertical-align: top;\n",
       "    }\n",
       "\n",
       "    .dataframe thead th {\n",
       "        text-align: right;\n",
       "    }\n",
       "</style>\n",
       "<table border=\"1\" class=\"dataframe\">\n",
       "  <thead>\n",
       "    <tr style=\"text-align: right;\">\n",
       "      <th></th>\n",
       "      <th>Gene</th>\n",
       "      <th>Variation</th>\n",
       "      <th>Text</th>\n",
       "    </tr>\n",
       "  </thead>\n",
       "  <tbody>\n",
       "    <tr>\n",
       "      <th>0</th>\n",
       "      <td>FAM58A</td>\n",
       "      <td>Truncating_Mutations</td>\n",
       "      <td>cyclin dependent kinases cdks regulate variety...</td>\n",
       "    </tr>\n",
       "    <tr>\n",
       "      <th>1</th>\n",
       "      <td>CBL</td>\n",
       "      <td>W802*</td>\n",
       "      <td>abstract background non small cell lung cancer...</td>\n",
       "    </tr>\n",
       "    <tr>\n",
       "      <th>2</th>\n",
       "      <td>CBL</td>\n",
       "      <td>Q249E</td>\n",
       "      <td>abstract background non small cell lung cancer...</td>\n",
       "    </tr>\n",
       "    <tr>\n",
       "      <th>3</th>\n",
       "      <td>CBL</td>\n",
       "      <td>N454D</td>\n",
       "      <td>recent evidence demonstrated acquired uniparen...</td>\n",
       "    </tr>\n",
       "    <tr>\n",
       "      <th>4</th>\n",
       "      <td>CBL</td>\n",
       "      <td>L399V</td>\n",
       "      <td>oncogenic mutations monomeric casitas b lineag...</td>\n",
       "    </tr>\n",
       "    <tr>\n",
       "      <th>...</th>\n",
       "      <td>...</td>\n",
       "      <td>...</td>\n",
       "      <td>...</td>\n",
       "    </tr>\n",
       "    <tr>\n",
       "      <th>3316</th>\n",
       "      <td>RUNX1</td>\n",
       "      <td>D171N</td>\n",
       "      <td>introduction myelodysplastic syndromes mds het...</td>\n",
       "    </tr>\n",
       "    <tr>\n",
       "      <th>3317</th>\n",
       "      <td>RUNX1</td>\n",
       "      <td>A122*</td>\n",
       "      <td>introduction myelodysplastic syndromes mds het...</td>\n",
       "    </tr>\n",
       "    <tr>\n",
       "      <th>3318</th>\n",
       "      <td>RUNX1</td>\n",
       "      <td>Fusions</td>\n",
       "      <td>runt related transcription factor 1 gene runx1...</td>\n",
       "    </tr>\n",
       "    <tr>\n",
       "      <th>3319</th>\n",
       "      <td>RUNX1</td>\n",
       "      <td>R80C</td>\n",
       "      <td>runx1 aml1 gene frequent target chromosomal tr...</td>\n",
       "    </tr>\n",
       "    <tr>\n",
       "      <th>3320</th>\n",
       "      <td>RUNX1</td>\n",
       "      <td>K83E</td>\n",
       "      <td>frequent mutations associated leukemia recurre...</td>\n",
       "    </tr>\n",
       "  </tbody>\n",
       "</table>\n",
       "<p>3321 rows × 3 columns</p>\n",
       "</div>"
      ],
      "text/plain": [
       "        Gene             Variation  \\\n",
       "0     FAM58A  Truncating_Mutations   \n",
       "1        CBL                 W802*   \n",
       "2        CBL                 Q249E   \n",
       "3        CBL                 N454D   \n",
       "4        CBL                 L399V   \n",
       "...      ...                   ...   \n",
       "3316   RUNX1                 D171N   \n",
       "3317   RUNX1                 A122*   \n",
       "3318   RUNX1               Fusions   \n",
       "3319   RUNX1                  R80C   \n",
       "3320   RUNX1                  K83E   \n",
       "\n",
       "                                                   Text  \n",
       "0     cyclin dependent kinases cdks regulate variety...  \n",
       "1     abstract background non small cell lung cancer...  \n",
       "2     abstract background non small cell lung cancer...  \n",
       "3     recent evidence demonstrated acquired uniparen...  \n",
       "4     oncogenic mutations monomeric casitas b lineag...  \n",
       "...                                                 ...  \n",
       "3316  introduction myelodysplastic syndromes mds het...  \n",
       "3317  introduction myelodysplastic syndromes mds het...  \n",
       "3318  runt related transcription factor 1 gene runx1...  \n",
       "3319  runx1 aml1 gene frequent target chromosomal tr...  \n",
       "3320  frequent mutations associated leukemia recurre...  \n",
       "\n",
       "[3321 rows x 3 columns]"
      ]
     },
     "execution_count": 10,
     "metadata": {},
     "output_type": "execute_result"
    }
   ],
   "source": [
    "X"
   ]
  },
  {
   "cell_type": "code",
   "execution_count": 11,
   "id": "0d788a20",
   "metadata": {},
   "outputs": [
    {
     "data": {
      "text/plain": [
       "0       1\n",
       "1       2\n",
       "2       2\n",
       "3       3\n",
       "4       4\n",
       "       ..\n",
       "3316    4\n",
       "3317    1\n",
       "3318    1\n",
       "3319    4\n",
       "3320    4\n",
       "Name: Class, Length: 3321, dtype: int64"
      ]
     },
     "execution_count": 11,
     "metadata": {},
     "output_type": "execute_result"
    }
   ],
   "source": [
    "y"
   ]
  },
  {
   "cell_type": "code",
   "execution_count": 12,
   "id": "d1bdbdf6",
   "metadata": {},
   "outputs": [],
   "source": [
    "tfidf=TfidfVectorizer()\n",
    "X_text=tfidf.fit_transform(X['Text'])"
   ]
  },
  {
   "cell_type": "code",
   "execution_count": 13,
   "id": "3955a1f3",
   "metadata": {},
   "outputs": [
    {
     "name": "stdout",
     "output_type": "stream",
     "text": [
      "1.0\n"
     ]
    }
   ],
   "source": [
    "print(X_text.max())"
   ]
  },
  {
   "cell_type": "code",
   "execution_count": 28,
   "id": "d3337ca4",
   "metadata": {},
   "outputs": [],
   "source": [
    "from sklearn.model_selection import train_test_split\n",
    "X_train, X_test, y_train, y_test = train_test_split(X_text, y, test_size = 0.2, stratify = y, random_state = 0)"
   ]
  },
  {
   "cell_type": "code",
   "execution_count": 29,
   "id": "4f2fafb2",
   "metadata": {},
   "outputs": [],
   "source": [
    "from sklearn.metrics import log_loss\n",
    "from sklearn.neighbors import KNeighborsClassifier"
   ]
  },
  {
   "cell_type": "code",
   "execution_count": 30,
   "id": "4cd4f9e6",
   "metadata": {},
   "outputs": [
    {
     "name": "stdout",
     "output_type": "stream",
     "text": [
      "For 5 nearest neighbours the log loss is  5.734585162847762\n",
      "For 10 nearest neighbours the log loss is  3.5084190842800815\n",
      "For 15 nearest neighbours the log loss is  2.803618558689596\n",
      "For 40 nearest neighbours the log loss is  1.9268636963136287\n",
      "For 50 nearest neighbours the log loss is  1.8677557328741954\n",
      "For 120 nearest neighbours the log loss is  1.4966364132058771\n",
      "For 150 nearest neighbours the log loss is  1.43249890992998\n",
      "For 160 nearest neighbours the log loss is  1.4429885568533891\n",
      "For 170 nearest neighbours the log loss is  1.4472150556791905\n",
      "For 180 nearest neighbours the log loss is  1.4555502481488258\n",
      "For 200 nearest neighbours the log loss is  1.4708294003243485\n",
      "For 400 nearest neighbours the log loss is  1.488403027918854\n",
      "For 500 nearest neighbours the log loss is  1.5286841563538203\n",
      "For 1000 nearest neighbours the log loss is  1.6611279747881897\n"
     ]
    }
   ],
   "source": [
    "neighbours = [5,10,15,40,50,120,150,160,170,180,200,400,500,1000]\n",
    "Log_Loss = []\n",
    "\n",
    "for neighbour in neighbours:\n",
    "    model = KNeighborsClassifier(n_neighbors = neighbour)\n",
    "    model.fit(X_train,y_train)\n",
    "    prediction = model.predict_proba(X_test)\n",
    "    log_loss_cal = log_loss(y_test,prediction,eps=1e-15)\n",
    "    Log_Loss.append(log_loss_cal)\n",
    "    print(f'For {neighbour} nearest neighbours the log loss is ',log_loss_cal)"
   ]
  },
  {
   "cell_type": "code",
   "execution_count": 21,
   "id": "69aab409",
   "metadata": {},
   "outputs": [
    {
     "name": "stdout",
     "output_type": "stream",
     "text": [
      "0.4496240601503759\n"
     ]
    }
   ],
   "source": [
    "from sklearn.metrics import accuracy_score\n",
    "mo = KNeighborsClassifier(n_neighbors = 150)\n",
    "mo.fit(X_train,y_train)\n",
    "pred = mo.predict(X_test)\n",
    "print(accuracy_score(y_test, pred))\n",
    "prediction = mo.predict_proba(X_test)"
   ]
  },
  {
   "cell_type": "code",
   "execution_count": 24,
   "id": "aa0ccae4",
   "metadata": {},
   "outputs": [
    {
     "name": "stdout",
     "output_type": "stream",
     "text": [
      "0.5458646616541354\n"
     ]
    }
   ],
   "source": [
    "mo1 = KNeighborsClassifier(n_neighbors = 15)\n",
    "mo1.fit(X_train,y_train)\n",
    "pred = mo1.predict(X_test)\n",
    "prediction1 = mo1.predict_proba(X_test)\n",
    "print(accuracy_score(y_test, pred))"
   ]
  },
  {
   "cell_type": "code",
   "execution_count": 20,
   "id": "79be4b9b",
   "metadata": {},
   "outputs": [],
   "source": [
    "from sklearn.metrics import roc_auc_score"
   ]
  },
  {
   "cell_type": "code",
   "execution_count": 25,
   "id": "a7faf9fc",
   "metadata": {},
   "outputs": [],
   "source": [
    "macro_roc_auc_ovo = roc_auc_score(\n",
    "    y_test,\n",
    "    prediction1,\n",
    "    multi_class=\"ovo\",\n",
    "    average=\"macro\",\n",
    ")"
   ]
  },
  {
   "cell_type": "code",
   "execution_count": 26,
   "id": "4d2de4a1",
   "metadata": {},
   "outputs": [
    {
     "data": {
      "text/plain": [
       "0.8387975549980073"
      ]
     },
     "execution_count": 26,
     "metadata": {},
     "output_type": "execute_result"
    }
   ],
   "source": [
    "macro_roc_auc_ovo"
   ]
  },
  {
   "cell_type": "code",
   "execution_count": 32,
   "id": "157e21cf",
   "metadata": {},
   "outputs": [
    {
     "data": {
      "text/plain": [
       "GridSearchCV(cv=5, estimator=KNeighborsClassifier(),\n",
       "             param_grid={'n_neighbors': [1, 10, 30, 50, 80, 100, 120, 150, 180,\n",
       "                                         200, 250, 300]})"
      ]
     },
     "execution_count": 32,
     "metadata": {},
     "output_type": "execute_result"
    }
   ],
   "source": [
    "from sklearn.model_selection import GridSearchCV\n",
    "\n",
    "#createa a parameter grid\n",
    "param_grid={'n_neighbors':[1,10,30, 50, 80,100, 120, 150, 180, 200, 250, 300]}\n",
    "\n",
    "gs = GridSearchCV(KNeighborsClassifier(),param_grid,cv=5)\n",
    "gs.fit(X_train,y_train)"
   ]
  },
  {
   "cell_type": "code",
   "execution_count": 33,
   "id": "04406126",
   "metadata": {},
   "outputs": [
    {
     "name": "stdout",
     "output_type": "stream",
     "text": [
      "Best parameters:  {'n_neighbors': 1}\n",
      "Best cross-validation score: 0.61\n"
     ]
    }
   ],
   "source": [
    "print(\"Best parameters: \",gs.best_params_)\n",
    "print(\"Best cross-validation score: {:.2f}\".format(gs.best_score_))"
   ]
  },
  {
   "cell_type": "code",
   "execution_count": 34,
   "id": "84ca09bf",
   "metadata": {},
   "outputs": [],
   "source": [
    "macro_roc_auc_ovr = roc_auc_score(\n",
    "    y_test,\n",
    "    prediction,\n",
    "    multi_class=\"ovr\",\n",
    "    average=\"macro\",\n",
    ")"
   ]
  },
  {
   "cell_type": "code",
   "execution_count": 35,
   "id": "2fff2e33",
   "metadata": {},
   "outputs": [
    {
     "data": {
      "text/plain": [
       "0.7752459055086866"
      ]
     },
     "execution_count": 35,
     "metadata": {},
     "output_type": "execute_result"
    }
   ],
   "source": [
    "macro_roc_auc_ovr"
   ]
  },
  {
   "cell_type": "code",
   "execution_count": null,
   "id": "9ee95fd3",
   "metadata": {},
   "outputs": [],
   "source": []
  }
 ],
 "metadata": {
  "kernelspec": {
   "display_name": "myenv",
   "language": "python",
   "name": "myenv"
  },
  "language_info": {
   "codemirror_mode": {
    "name": "ipython",
    "version": 3
   },
   "file_extension": ".py",
   "mimetype": "text/x-python",
   "name": "python",
   "nbconvert_exporter": "python",
   "pygments_lexer": "ipython3",
   "version": "3.9.7"
  }
 },
 "nbformat": 4,
 "nbformat_minor": 5
}
