{
  "cells": [
    {
      "cell_type": "markdown",
      "metadata": {
        "id": "0c5f3391"
      },
      "source": [
        "# Personalized Medicine: Redefining Cancer Treatment Project\n",
        "### Objective : Develop an algorithm to classify genetic mutations based on clinical evidence\n",
        "\n",
        "\n",
        "### Team Member : Arun, Shivani, Thrang"
      ],
      "id": "0c5f3391"
    },
    {
      "cell_type": "markdown",
      "metadata": {
        "id": "3c784857"
      },
      "source": [
        "## Business Understanding\n",
        "In recent years, there has been considerable discussion about the transformative potential of precision medicine, particularly in the realm of genetic testing and its impact on disease treatment.\n",
        "\n",
        "One key challenge in this domain is the extensive manual effort involved in interpreting genetic information, particularly in the context of cancer. Tumor sequencing often reveals a multitude of genetic mutations, numbering in the thousands. The critical task at hand is to differentiate between mutations that drive tumor growth (known as \"drivers\") and those that are inconsequential (referred to as \"passengers\").\n",
        "\n",
        "Presently, this interpretation of genetic mutations relies heavily on manual review by clinical pathologists. This painstaking process involves scrutinizing each genetic variation and classifying it based on evidence extracted from text-based clinical literature.\n",
        "\n",
        "Efforts are underway to address this challenge through the development of machine learning algorithms. These algorithms aim to utilize existing knowledge bases as a foundation to automatically classify genetic variations. Notably, Memorial Sloan Kettering Cancer Center (MSKCC) initiated a Kaggle competition centered on this very problem, seeking innovative solutions to automate the classification of genetic mutations.\n",
        "\n",
        "The model built must be interpretable, as it will help the pathologist to make better decisions. Since one misinterpretations can cost a patient his/her life, the error cost is very high, Hence the model we build must be very accurate."
      ],
      "id": "3c784857"
    },
    {
      "cell_type": "markdown",
      "metadata": {
        "id": "5b46295b"
      },
      "source": [
        "## Data Overview\n",
        "*Source* : https://www.kaggle.com/c/msk-redefining-cancer-treatment/\n",
        "\n",
        "There are nine different classes a genetic mutation can be classified on.\n",
        "\n",
        "This is not a trivial task since interpreting clinical evidence is very challenging even for human specialists. Therefore, modeling the clinical evidence (text) will be critical for the success of your approach.\n",
        "\n",
        "Both, training and test, data sets are provided via two different files. One (training/test_variants) provides the information about the genetic mutations, whereas the other (training/test_text) provides the clinical evidence (text) that our human experts used to classify the genetic mutations. Both are linked via the ID field.\n",
        "\n",
        "#### Feature Description:\n",
        "1. ID - Simple indexing given to data.\n",
        "2. Gene - The Gene where the particular genetic mutation is located.\n",
        "3. Variation - The change in the mutations.\n",
        "4. Class - The class the genetic mutation belongs to.\n",
        "5. Text (in training_text file) - The clinical text used to classify the genetic mutation."
      ],
      "id": "5b46295b"
    },
    {
      "cell_type": "code",
      "execution_count": 52,
      "metadata": {
        "colab": {
          "base_uri": "https://localhost:8080/"
        },
        "id": "eoYPovH0bi2i",
        "outputId": "ec069e70-fee3-4896-da3d-6f0bf7d5eabb"
      },
      "outputs": [
        {
          "output_type": "stream",
          "name": "stdout",
          "text": [
            "Drive already mounted at /content/drive; to attempt to forcibly remount, call drive.mount(\"/content/drive\", force_remount=True).\n"
          ]
        }
      ],
      "source": [
        "#mounting from gdrive\n",
        "from google.colab import drive\n",
        "drive.mount('/content/drive')"
      ],
      "id": "eoYPovH0bi2i"
    },
    {
      "cell_type": "markdown",
      "source": [
        "## Importing Libraries"
      ],
      "metadata": {
        "id": "mTxWqaFRE8Sy"
      },
      "id": "mTxWqaFRE8Sy"
    },
    {
      "cell_type": "code",
      "execution_count": 53,
      "metadata": {
        "id": "8c39a5ee"
      },
      "outputs": [],
      "source": [
        "import pandas as pd\n",
        "import numpy as np\n",
        "import seaborn as sns\n",
        "import matplotlib.pyplot as plt\n",
        "import warnings\n",
        "warnings.filterwarnings('ignore')"
      ],
      "id": "8c39a5ee"
    },
    {
      "cell_type": "code",
      "execution_count": 54,
      "metadata": {
        "id": "734f9957"
      },
      "outputs": [],
      "source": [
        "df =pd.read_csv(\"/content/drive/MyDrive/Dataset/data.csv\")  #loading the dataset"
      ],
      "id": "734f9957"
    },
    {
      "cell_type": "markdown",
      "metadata": {
        "id": "c0e00ae9"
      },
      "source": [
        "## Basic Checks"
      ],
      "id": "c0e00ae9"
    },
    {
      "cell_type": "code",
      "execution_count": 55,
      "metadata": {
        "colab": {
          "base_uri": "https://localhost:8080/",
          "height": 519
        },
        "id": "f2b66c1d",
        "outputId": "6432008f-6a2b-4afd-921f-acd2c212fc5a"
      },
      "outputs": [
        {
          "output_type": "execute_result",
          "data": {
            "text/plain": [
              "    Unnamed: 0  ID    Gene             Variation  Class  \\\n",
              "0            0   0  FAM58A  Truncating Mutations      1   \n",
              "1            1   1     CBL                 W802*      2   \n",
              "2            2   2     CBL                 Q249E      2   \n",
              "3            3   3     CBL                 N454D      3   \n",
              "4            4   4     CBL                 L399V      4   \n",
              "5            5   5     CBL                 V391I      4   \n",
              "6            6   6     CBL                 V430M      5   \n",
              "7            7   7     CBL              Deletion      1   \n",
              "8            8   8     CBL                 Y371H      4   \n",
              "9            9   9     CBL                 C384R      4   \n",
              "10          10  10     CBL                 P395A      4   \n",
              "11          11  11     CBL                 K382E      4   \n",
              "12          12  12     CBL                 R420Q      4   \n",
              "13          13  13     CBL                 C381A      4   \n",
              "14          14  14     CBL                 P428L      5   \n",
              "\n",
              "                                                 Text  \n",
              "0   Cyclin-dependent kinases (CDKs) regulate a var...  \n",
              "1    Abstract Background  Non-small cell lung canc...  \n",
              "2    Abstract Background  Non-small cell lung canc...  \n",
              "3   Recent evidence has demonstrated that acquired...  \n",
              "4   Oncogenic mutations in the monomeric Casitas B...  \n",
              "5   Oncogenic mutations in the monomeric Casitas B...  \n",
              "6   Oncogenic mutations in the monomeric Casitas B...  \n",
              "7   CBL is a negative regulator of activated recep...  \n",
              "8    Abstract Juvenile myelomonocytic leukemia (JM...  \n",
              "9    Abstract Juvenile myelomonocytic leukemia (JM...  \n",
              "10  Oncogenic mutations in the monomeric Casitas B...  \n",
              "11  Noonan syndrome is an autosomal dominant conge...  \n",
              "12  Noonan syndrome is an autosomal dominant conge...  \n",
              "13  Noonan syndrome is an autosomal dominant conge...  \n",
              "14  Oncogenic mutations in the monomeric Casitas B...  "
            ],
            "text/html": [
              "\n",
              "  <div id=\"df-b6d7f925-d8cc-408e-a177-828766b6999c\" class=\"colab-df-container\">\n",
              "    <div>\n",
              "<style scoped>\n",
              "    .dataframe tbody tr th:only-of-type {\n",
              "        vertical-align: middle;\n",
              "    }\n",
              "\n",
              "    .dataframe tbody tr th {\n",
              "        vertical-align: top;\n",
              "    }\n",
              "\n",
              "    .dataframe thead th {\n",
              "        text-align: right;\n",
              "    }\n",
              "</style>\n",
              "<table border=\"1\" class=\"dataframe\">\n",
              "  <thead>\n",
              "    <tr style=\"text-align: right;\">\n",
              "      <th></th>\n",
              "      <th>Unnamed: 0</th>\n",
              "      <th>ID</th>\n",
              "      <th>Gene</th>\n",
              "      <th>Variation</th>\n",
              "      <th>Class</th>\n",
              "      <th>Text</th>\n",
              "    </tr>\n",
              "  </thead>\n",
              "  <tbody>\n",
              "    <tr>\n",
              "      <th>0</th>\n",
              "      <td>0</td>\n",
              "      <td>0</td>\n",
              "      <td>FAM58A</td>\n",
              "      <td>Truncating Mutations</td>\n",
              "      <td>1</td>\n",
              "      <td>Cyclin-dependent kinases (CDKs) regulate a var...</td>\n",
              "    </tr>\n",
              "    <tr>\n",
              "      <th>1</th>\n",
              "      <td>1</td>\n",
              "      <td>1</td>\n",
              "      <td>CBL</td>\n",
              "      <td>W802*</td>\n",
              "      <td>2</td>\n",
              "      <td>Abstract Background  Non-small cell lung canc...</td>\n",
              "    </tr>\n",
              "    <tr>\n",
              "      <th>2</th>\n",
              "      <td>2</td>\n",
              "      <td>2</td>\n",
              "      <td>CBL</td>\n",
              "      <td>Q249E</td>\n",
              "      <td>2</td>\n",
              "      <td>Abstract Background  Non-small cell lung canc...</td>\n",
              "    </tr>\n",
              "    <tr>\n",
              "      <th>3</th>\n",
              "      <td>3</td>\n",
              "      <td>3</td>\n",
              "      <td>CBL</td>\n",
              "      <td>N454D</td>\n",
              "      <td>3</td>\n",
              "      <td>Recent evidence has demonstrated that acquired...</td>\n",
              "    </tr>\n",
              "    <tr>\n",
              "      <th>4</th>\n",
              "      <td>4</td>\n",
              "      <td>4</td>\n",
              "      <td>CBL</td>\n",
              "      <td>L399V</td>\n",
              "      <td>4</td>\n",
              "      <td>Oncogenic mutations in the monomeric Casitas B...</td>\n",
              "    </tr>\n",
              "    <tr>\n",
              "      <th>5</th>\n",
              "      <td>5</td>\n",
              "      <td>5</td>\n",
              "      <td>CBL</td>\n",
              "      <td>V391I</td>\n",
              "      <td>4</td>\n",
              "      <td>Oncogenic mutations in the monomeric Casitas B...</td>\n",
              "    </tr>\n",
              "    <tr>\n",
              "      <th>6</th>\n",
              "      <td>6</td>\n",
              "      <td>6</td>\n",
              "      <td>CBL</td>\n",
              "      <td>V430M</td>\n",
              "      <td>5</td>\n",
              "      <td>Oncogenic mutations in the monomeric Casitas B...</td>\n",
              "    </tr>\n",
              "    <tr>\n",
              "      <th>7</th>\n",
              "      <td>7</td>\n",
              "      <td>7</td>\n",
              "      <td>CBL</td>\n",
              "      <td>Deletion</td>\n",
              "      <td>1</td>\n",
              "      <td>CBL is a negative regulator of activated recep...</td>\n",
              "    </tr>\n",
              "    <tr>\n",
              "      <th>8</th>\n",
              "      <td>8</td>\n",
              "      <td>8</td>\n",
              "      <td>CBL</td>\n",
              "      <td>Y371H</td>\n",
              "      <td>4</td>\n",
              "      <td>Abstract Juvenile myelomonocytic leukemia (JM...</td>\n",
              "    </tr>\n",
              "    <tr>\n",
              "      <th>9</th>\n",
              "      <td>9</td>\n",
              "      <td>9</td>\n",
              "      <td>CBL</td>\n",
              "      <td>C384R</td>\n",
              "      <td>4</td>\n",
              "      <td>Abstract Juvenile myelomonocytic leukemia (JM...</td>\n",
              "    </tr>\n",
              "    <tr>\n",
              "      <th>10</th>\n",
              "      <td>10</td>\n",
              "      <td>10</td>\n",
              "      <td>CBL</td>\n",
              "      <td>P395A</td>\n",
              "      <td>4</td>\n",
              "      <td>Oncogenic mutations in the monomeric Casitas B...</td>\n",
              "    </tr>\n",
              "    <tr>\n",
              "      <th>11</th>\n",
              "      <td>11</td>\n",
              "      <td>11</td>\n",
              "      <td>CBL</td>\n",
              "      <td>K382E</td>\n",
              "      <td>4</td>\n",
              "      <td>Noonan syndrome is an autosomal dominant conge...</td>\n",
              "    </tr>\n",
              "    <tr>\n",
              "      <th>12</th>\n",
              "      <td>12</td>\n",
              "      <td>12</td>\n",
              "      <td>CBL</td>\n",
              "      <td>R420Q</td>\n",
              "      <td>4</td>\n",
              "      <td>Noonan syndrome is an autosomal dominant conge...</td>\n",
              "    </tr>\n",
              "    <tr>\n",
              "      <th>13</th>\n",
              "      <td>13</td>\n",
              "      <td>13</td>\n",
              "      <td>CBL</td>\n",
              "      <td>C381A</td>\n",
              "      <td>4</td>\n",
              "      <td>Noonan syndrome is an autosomal dominant conge...</td>\n",
              "    </tr>\n",
              "    <tr>\n",
              "      <th>14</th>\n",
              "      <td>14</td>\n",
              "      <td>14</td>\n",
              "      <td>CBL</td>\n",
              "      <td>P428L</td>\n",
              "      <td>5</td>\n",
              "      <td>Oncogenic mutations in the monomeric Casitas B...</td>\n",
              "    </tr>\n",
              "  </tbody>\n",
              "</table>\n",
              "</div>\n",
              "    <div class=\"colab-df-buttons\">\n",
              "\n",
              "  <div class=\"colab-df-container\">\n",
              "    <button class=\"colab-df-convert\" onclick=\"convertToInteractive('df-b6d7f925-d8cc-408e-a177-828766b6999c')\"\n",
              "            title=\"Convert this dataframe to an interactive table.\"\n",
              "            style=\"display:none;\">\n",
              "\n",
              "  <svg xmlns=\"http://www.w3.org/2000/svg\" height=\"24px\" viewBox=\"0 -960 960 960\">\n",
              "    <path d=\"M120-120v-720h720v720H120Zm60-500h600v-160H180v160Zm220 220h160v-160H400v160Zm0 220h160v-160H400v160ZM180-400h160v-160H180v160Zm440 0h160v-160H620v160ZM180-180h160v-160H180v160Zm440 0h160v-160H620v160Z\"/>\n",
              "  </svg>\n",
              "    </button>\n",
              "\n",
              "  <style>\n",
              "    .colab-df-container {\n",
              "      display:flex;\n",
              "      gap: 12px;\n",
              "    }\n",
              "\n",
              "    .colab-df-convert {\n",
              "      background-color: #E8F0FE;\n",
              "      border: none;\n",
              "      border-radius: 50%;\n",
              "      cursor: pointer;\n",
              "      display: none;\n",
              "      fill: #1967D2;\n",
              "      height: 32px;\n",
              "      padding: 0 0 0 0;\n",
              "      width: 32px;\n",
              "    }\n",
              "\n",
              "    .colab-df-convert:hover {\n",
              "      background-color: #E2EBFA;\n",
              "      box-shadow: 0px 1px 2px rgba(60, 64, 67, 0.3), 0px 1px 3px 1px rgba(60, 64, 67, 0.15);\n",
              "      fill: #174EA6;\n",
              "    }\n",
              "\n",
              "    .colab-df-buttons div {\n",
              "      margin-bottom: 4px;\n",
              "    }\n",
              "\n",
              "    [theme=dark] .colab-df-convert {\n",
              "      background-color: #3B4455;\n",
              "      fill: #D2E3FC;\n",
              "    }\n",
              "\n",
              "    [theme=dark] .colab-df-convert:hover {\n",
              "      background-color: #434B5C;\n",
              "      box-shadow: 0px 1px 3px 1px rgba(0, 0, 0, 0.15);\n",
              "      filter: drop-shadow(0px 1px 2px rgba(0, 0, 0, 0.3));\n",
              "      fill: #FFFFFF;\n",
              "    }\n",
              "  </style>\n",
              "\n",
              "    <script>\n",
              "      const buttonEl =\n",
              "        document.querySelector('#df-b6d7f925-d8cc-408e-a177-828766b6999c button.colab-df-convert');\n",
              "      buttonEl.style.display =\n",
              "        google.colab.kernel.accessAllowed ? 'block' : 'none';\n",
              "\n",
              "      async function convertToInteractive(key) {\n",
              "        const element = document.querySelector('#df-b6d7f925-d8cc-408e-a177-828766b6999c');\n",
              "        const dataTable =\n",
              "          await google.colab.kernel.invokeFunction('convertToInteractive',\n",
              "                                                    [key], {});\n",
              "        if (!dataTable) return;\n",
              "\n",
              "        const docLinkHtml = 'Like what you see? Visit the ' +\n",
              "          '<a target=\"_blank\" href=https://colab.research.google.com/notebooks/data_table.ipynb>data table notebook</a>'\n",
              "          + ' to learn more about interactive tables.';\n",
              "        element.innerHTML = '';\n",
              "        dataTable['output_type'] = 'display_data';\n",
              "        await google.colab.output.renderOutput(dataTable, element);\n",
              "        const docLink = document.createElement('div');\n",
              "        docLink.innerHTML = docLinkHtml;\n",
              "        element.appendChild(docLink);\n",
              "      }\n",
              "    </script>\n",
              "  </div>\n",
              "\n",
              "\n",
              "<div id=\"df-7649ac0a-fc52-476c-a3fc-ad2716a37ca4\">\n",
              "  <button class=\"colab-df-quickchart\" onclick=\"quickchart('df-7649ac0a-fc52-476c-a3fc-ad2716a37ca4')\"\n",
              "            title=\"Suggest charts\"\n",
              "            style=\"display:none;\">\n",
              "\n",
              "<svg xmlns=\"http://www.w3.org/2000/svg\" height=\"24px\"viewBox=\"0 0 24 24\"\n",
              "     width=\"24px\">\n",
              "    <g>\n",
              "        <path d=\"M19 3H5c-1.1 0-2 .9-2 2v14c0 1.1.9 2 2 2h14c1.1 0 2-.9 2-2V5c0-1.1-.9-2-2-2zM9 17H7v-7h2v7zm4 0h-2V7h2v10zm4 0h-2v-4h2v4z\"/>\n",
              "    </g>\n",
              "</svg>\n",
              "  </button>\n",
              "\n",
              "<style>\n",
              "  .colab-df-quickchart {\n",
              "      --bg-color: #E8F0FE;\n",
              "      --fill-color: #1967D2;\n",
              "      --hover-bg-color: #E2EBFA;\n",
              "      --hover-fill-color: #174EA6;\n",
              "      --disabled-fill-color: #AAA;\n",
              "      --disabled-bg-color: #DDD;\n",
              "  }\n",
              "\n",
              "  [theme=dark] .colab-df-quickchart {\n",
              "      --bg-color: #3B4455;\n",
              "      --fill-color: #D2E3FC;\n",
              "      --hover-bg-color: #434B5C;\n",
              "      --hover-fill-color: #FFFFFF;\n",
              "      --disabled-bg-color: #3B4455;\n",
              "      --disabled-fill-color: #666;\n",
              "  }\n",
              "\n",
              "  .colab-df-quickchart {\n",
              "    background-color: var(--bg-color);\n",
              "    border: none;\n",
              "    border-radius: 50%;\n",
              "    cursor: pointer;\n",
              "    display: none;\n",
              "    fill: var(--fill-color);\n",
              "    height: 32px;\n",
              "    padding: 0;\n",
              "    width: 32px;\n",
              "  }\n",
              "\n",
              "  .colab-df-quickchart:hover {\n",
              "    background-color: var(--hover-bg-color);\n",
              "    box-shadow: 0 1px 2px rgba(60, 64, 67, 0.3), 0 1px 3px 1px rgba(60, 64, 67, 0.15);\n",
              "    fill: var(--button-hover-fill-color);\n",
              "  }\n",
              "\n",
              "  .colab-df-quickchart-complete:disabled,\n",
              "  .colab-df-quickchart-complete:disabled:hover {\n",
              "    background-color: var(--disabled-bg-color);\n",
              "    fill: var(--disabled-fill-color);\n",
              "    box-shadow: none;\n",
              "  }\n",
              "\n",
              "  .colab-df-spinner {\n",
              "    border: 2px solid var(--fill-color);\n",
              "    border-color: transparent;\n",
              "    border-bottom-color: var(--fill-color);\n",
              "    animation:\n",
              "      spin 1s steps(1) infinite;\n",
              "  }\n",
              "\n",
              "  @keyframes spin {\n",
              "    0% {\n",
              "      border-color: transparent;\n",
              "      border-bottom-color: var(--fill-color);\n",
              "      border-left-color: var(--fill-color);\n",
              "    }\n",
              "    20% {\n",
              "      border-color: transparent;\n",
              "      border-left-color: var(--fill-color);\n",
              "      border-top-color: var(--fill-color);\n",
              "    }\n",
              "    30% {\n",
              "      border-color: transparent;\n",
              "      border-left-color: var(--fill-color);\n",
              "      border-top-color: var(--fill-color);\n",
              "      border-right-color: var(--fill-color);\n",
              "    }\n",
              "    40% {\n",
              "      border-color: transparent;\n",
              "      border-right-color: var(--fill-color);\n",
              "      border-top-color: var(--fill-color);\n",
              "    }\n",
              "    60% {\n",
              "      border-color: transparent;\n",
              "      border-right-color: var(--fill-color);\n",
              "    }\n",
              "    80% {\n",
              "      border-color: transparent;\n",
              "      border-right-color: var(--fill-color);\n",
              "      border-bottom-color: var(--fill-color);\n",
              "    }\n",
              "    90% {\n",
              "      border-color: transparent;\n",
              "      border-bottom-color: var(--fill-color);\n",
              "    }\n",
              "  }\n",
              "</style>\n",
              "\n",
              "  <script>\n",
              "    async function quickchart(key) {\n",
              "      const quickchartButtonEl =\n",
              "        document.querySelector('#' + key + ' button');\n",
              "      quickchartButtonEl.disabled = true;  // To prevent multiple clicks.\n",
              "      quickchartButtonEl.classList.add('colab-df-spinner');\n",
              "      try {\n",
              "        const charts = await google.colab.kernel.invokeFunction(\n",
              "            'suggestCharts', [key], {});\n",
              "      } catch (error) {\n",
              "        console.error('Error during call to suggestCharts:', error);\n",
              "      }\n",
              "      quickchartButtonEl.classList.remove('colab-df-spinner');\n",
              "      quickchartButtonEl.classList.add('colab-df-quickchart-complete');\n",
              "    }\n",
              "    (() => {\n",
              "      let quickchartButtonEl =\n",
              "        document.querySelector('#df-7649ac0a-fc52-476c-a3fc-ad2716a37ca4 button');\n",
              "      quickchartButtonEl.style.display =\n",
              "        google.colab.kernel.accessAllowed ? 'block' : 'none';\n",
              "    })();\n",
              "  </script>\n",
              "</div>\n",
              "    </div>\n",
              "  </div>\n"
            ]
          },
          "metadata": {},
          "execution_count": 55
        }
      ],
      "source": [
        "df.head(15)"
      ],
      "id": "f2b66c1d"
    },
    {
      "cell_type": "code",
      "execution_count": 56,
      "metadata": {
        "colab": {
          "base_uri": "https://localhost:8080/"
        },
        "id": "2a9a8bf8",
        "outputId": "055ec3ab-e71b-47f0-9ee9-bea06ac41949"
      },
      "outputs": [
        {
          "output_type": "stream",
          "name": "stdout",
          "text": [
            "<class 'pandas.core.frame.DataFrame'>\n",
            "RangeIndex: 3321 entries, 0 to 3320\n",
            "Data columns (total 6 columns):\n",
            " #   Column      Non-Null Count  Dtype \n",
            "---  ------      --------------  ----- \n",
            " 0   Unnamed: 0  3321 non-null   int64 \n",
            " 1   ID          3321 non-null   int64 \n",
            " 2   Gene        3321 non-null   object\n",
            " 3   Variation   3321 non-null   object\n",
            " 4   Class       3321 non-null   int64 \n",
            " 5   Text        3316 non-null   object\n",
            "dtypes: int64(3), object(3)\n",
            "memory usage: 155.8+ KB\n"
          ]
        }
      ],
      "source": [
        "df.info()"
      ],
      "id": "2a9a8bf8"
    },
    {
      "cell_type": "markdown",
      "source": [
        "* From the above information we can see that there are some missing values in the text column"
      ],
      "metadata": {
        "id": "6x2goj8XFELf"
      },
      "id": "6x2goj8XFELf"
    },
    {
      "cell_type": "code",
      "execution_count": 57,
      "metadata": {
        "colab": {
          "base_uri": "https://localhost:8080/",
          "height": 174
        },
        "id": "082d02e5",
        "outputId": "13ecc15c-8f3f-491f-c8d8-6f6155751d75"
      },
      "outputs": [
        {
          "output_type": "execute_result",
          "data": {
            "text/plain": [
              "         Gene             Variation  \\\n",
              "count    3321                  3321   \n",
              "unique    264                  2996   \n",
              "top     BRCA1  Truncating Mutations   \n",
              "freq      264                    93   \n",
              "\n",
              "                                                     Text  \n",
              "count                                                3316  \n",
              "unique                                               1920  \n",
              "top     The PTEN (phosphatase and tensin homolog) phos...  \n",
              "freq                                                   53  "
            ],
            "text/html": [
              "\n",
              "  <div id=\"df-e3889b77-56e1-48a7-9db0-3398766d0224\" class=\"colab-df-container\">\n",
              "    <div>\n",
              "<style scoped>\n",
              "    .dataframe tbody tr th:only-of-type {\n",
              "        vertical-align: middle;\n",
              "    }\n",
              "\n",
              "    .dataframe tbody tr th {\n",
              "        vertical-align: top;\n",
              "    }\n",
              "\n",
              "    .dataframe thead th {\n",
              "        text-align: right;\n",
              "    }\n",
              "</style>\n",
              "<table border=\"1\" class=\"dataframe\">\n",
              "  <thead>\n",
              "    <tr style=\"text-align: right;\">\n",
              "      <th></th>\n",
              "      <th>Gene</th>\n",
              "      <th>Variation</th>\n",
              "      <th>Text</th>\n",
              "    </tr>\n",
              "  </thead>\n",
              "  <tbody>\n",
              "    <tr>\n",
              "      <th>count</th>\n",
              "      <td>3321</td>\n",
              "      <td>3321</td>\n",
              "      <td>3316</td>\n",
              "    </tr>\n",
              "    <tr>\n",
              "      <th>unique</th>\n",
              "      <td>264</td>\n",
              "      <td>2996</td>\n",
              "      <td>1920</td>\n",
              "    </tr>\n",
              "    <tr>\n",
              "      <th>top</th>\n",
              "      <td>BRCA1</td>\n",
              "      <td>Truncating Mutations</td>\n",
              "      <td>The PTEN (phosphatase and tensin homolog) phos...</td>\n",
              "    </tr>\n",
              "    <tr>\n",
              "      <th>freq</th>\n",
              "      <td>264</td>\n",
              "      <td>93</td>\n",
              "      <td>53</td>\n",
              "    </tr>\n",
              "  </tbody>\n",
              "</table>\n",
              "</div>\n",
              "    <div class=\"colab-df-buttons\">\n",
              "\n",
              "  <div class=\"colab-df-container\">\n",
              "    <button class=\"colab-df-convert\" onclick=\"convertToInteractive('df-e3889b77-56e1-48a7-9db0-3398766d0224')\"\n",
              "            title=\"Convert this dataframe to an interactive table.\"\n",
              "            style=\"display:none;\">\n",
              "\n",
              "  <svg xmlns=\"http://www.w3.org/2000/svg\" height=\"24px\" viewBox=\"0 -960 960 960\">\n",
              "    <path d=\"M120-120v-720h720v720H120Zm60-500h600v-160H180v160Zm220 220h160v-160H400v160Zm0 220h160v-160H400v160ZM180-400h160v-160H180v160Zm440 0h160v-160H620v160ZM180-180h160v-160H180v160Zm440 0h160v-160H620v160Z\"/>\n",
              "  </svg>\n",
              "    </button>\n",
              "\n",
              "  <style>\n",
              "    .colab-df-container {\n",
              "      display:flex;\n",
              "      gap: 12px;\n",
              "    }\n",
              "\n",
              "    .colab-df-convert {\n",
              "      background-color: #E8F0FE;\n",
              "      border: none;\n",
              "      border-radius: 50%;\n",
              "      cursor: pointer;\n",
              "      display: none;\n",
              "      fill: #1967D2;\n",
              "      height: 32px;\n",
              "      padding: 0 0 0 0;\n",
              "      width: 32px;\n",
              "    }\n",
              "\n",
              "    .colab-df-convert:hover {\n",
              "      background-color: #E2EBFA;\n",
              "      box-shadow: 0px 1px 2px rgba(60, 64, 67, 0.3), 0px 1px 3px 1px rgba(60, 64, 67, 0.15);\n",
              "      fill: #174EA6;\n",
              "    }\n",
              "\n",
              "    .colab-df-buttons div {\n",
              "      margin-bottom: 4px;\n",
              "    }\n",
              "\n",
              "    [theme=dark] .colab-df-convert {\n",
              "      background-color: #3B4455;\n",
              "      fill: #D2E3FC;\n",
              "    }\n",
              "\n",
              "    [theme=dark] .colab-df-convert:hover {\n",
              "      background-color: #434B5C;\n",
              "      box-shadow: 0px 1px 3px 1px rgba(0, 0, 0, 0.15);\n",
              "      filter: drop-shadow(0px 1px 2px rgba(0, 0, 0, 0.3));\n",
              "      fill: #FFFFFF;\n",
              "    }\n",
              "  </style>\n",
              "\n",
              "    <script>\n",
              "      const buttonEl =\n",
              "        document.querySelector('#df-e3889b77-56e1-48a7-9db0-3398766d0224 button.colab-df-convert');\n",
              "      buttonEl.style.display =\n",
              "        google.colab.kernel.accessAllowed ? 'block' : 'none';\n",
              "\n",
              "      async function convertToInteractive(key) {\n",
              "        const element = document.querySelector('#df-e3889b77-56e1-48a7-9db0-3398766d0224');\n",
              "        const dataTable =\n",
              "          await google.colab.kernel.invokeFunction('convertToInteractive',\n",
              "                                                    [key], {});\n",
              "        if (!dataTable) return;\n",
              "\n",
              "        const docLinkHtml = 'Like what you see? Visit the ' +\n",
              "          '<a target=\"_blank\" href=https://colab.research.google.com/notebooks/data_table.ipynb>data table notebook</a>'\n",
              "          + ' to learn more about interactive tables.';\n",
              "        element.innerHTML = '';\n",
              "        dataTable['output_type'] = 'display_data';\n",
              "        await google.colab.output.renderOutput(dataTable, element);\n",
              "        const docLink = document.createElement('div');\n",
              "        docLink.innerHTML = docLinkHtml;\n",
              "        element.appendChild(docLink);\n",
              "      }\n",
              "    </script>\n",
              "  </div>\n",
              "\n",
              "\n",
              "<div id=\"df-d1be82f0-5ab2-486a-be3e-82776141ee89\">\n",
              "  <button class=\"colab-df-quickchart\" onclick=\"quickchart('df-d1be82f0-5ab2-486a-be3e-82776141ee89')\"\n",
              "            title=\"Suggest charts\"\n",
              "            style=\"display:none;\">\n",
              "\n",
              "<svg xmlns=\"http://www.w3.org/2000/svg\" height=\"24px\"viewBox=\"0 0 24 24\"\n",
              "     width=\"24px\">\n",
              "    <g>\n",
              "        <path d=\"M19 3H5c-1.1 0-2 .9-2 2v14c0 1.1.9 2 2 2h14c1.1 0 2-.9 2-2V5c0-1.1-.9-2-2-2zM9 17H7v-7h2v7zm4 0h-2V7h2v10zm4 0h-2v-4h2v4z\"/>\n",
              "    </g>\n",
              "</svg>\n",
              "  </button>\n",
              "\n",
              "<style>\n",
              "  .colab-df-quickchart {\n",
              "      --bg-color: #E8F0FE;\n",
              "      --fill-color: #1967D2;\n",
              "      --hover-bg-color: #E2EBFA;\n",
              "      --hover-fill-color: #174EA6;\n",
              "      --disabled-fill-color: #AAA;\n",
              "      --disabled-bg-color: #DDD;\n",
              "  }\n",
              "\n",
              "  [theme=dark] .colab-df-quickchart {\n",
              "      --bg-color: #3B4455;\n",
              "      --fill-color: #D2E3FC;\n",
              "      --hover-bg-color: #434B5C;\n",
              "      --hover-fill-color: #FFFFFF;\n",
              "      --disabled-bg-color: #3B4455;\n",
              "      --disabled-fill-color: #666;\n",
              "  }\n",
              "\n",
              "  .colab-df-quickchart {\n",
              "    background-color: var(--bg-color);\n",
              "    border: none;\n",
              "    border-radius: 50%;\n",
              "    cursor: pointer;\n",
              "    display: none;\n",
              "    fill: var(--fill-color);\n",
              "    height: 32px;\n",
              "    padding: 0;\n",
              "    width: 32px;\n",
              "  }\n",
              "\n",
              "  .colab-df-quickchart:hover {\n",
              "    background-color: var(--hover-bg-color);\n",
              "    box-shadow: 0 1px 2px rgba(60, 64, 67, 0.3), 0 1px 3px 1px rgba(60, 64, 67, 0.15);\n",
              "    fill: var(--button-hover-fill-color);\n",
              "  }\n",
              "\n",
              "  .colab-df-quickchart-complete:disabled,\n",
              "  .colab-df-quickchart-complete:disabled:hover {\n",
              "    background-color: var(--disabled-bg-color);\n",
              "    fill: var(--disabled-fill-color);\n",
              "    box-shadow: none;\n",
              "  }\n",
              "\n",
              "  .colab-df-spinner {\n",
              "    border: 2px solid var(--fill-color);\n",
              "    border-color: transparent;\n",
              "    border-bottom-color: var(--fill-color);\n",
              "    animation:\n",
              "      spin 1s steps(1) infinite;\n",
              "  }\n",
              "\n",
              "  @keyframes spin {\n",
              "    0% {\n",
              "      border-color: transparent;\n",
              "      border-bottom-color: var(--fill-color);\n",
              "      border-left-color: var(--fill-color);\n",
              "    }\n",
              "    20% {\n",
              "      border-color: transparent;\n",
              "      border-left-color: var(--fill-color);\n",
              "      border-top-color: var(--fill-color);\n",
              "    }\n",
              "    30% {\n",
              "      border-color: transparent;\n",
              "      border-left-color: var(--fill-color);\n",
              "      border-top-color: var(--fill-color);\n",
              "      border-right-color: var(--fill-color);\n",
              "    }\n",
              "    40% {\n",
              "      border-color: transparent;\n",
              "      border-right-color: var(--fill-color);\n",
              "      border-top-color: var(--fill-color);\n",
              "    }\n",
              "    60% {\n",
              "      border-color: transparent;\n",
              "      border-right-color: var(--fill-color);\n",
              "    }\n",
              "    80% {\n",
              "      border-color: transparent;\n",
              "      border-right-color: var(--fill-color);\n",
              "      border-bottom-color: var(--fill-color);\n",
              "    }\n",
              "    90% {\n",
              "      border-color: transparent;\n",
              "      border-bottom-color: var(--fill-color);\n",
              "    }\n",
              "  }\n",
              "</style>\n",
              "\n",
              "  <script>\n",
              "    async function quickchart(key) {\n",
              "      const quickchartButtonEl =\n",
              "        document.querySelector('#' + key + ' button');\n",
              "      quickchartButtonEl.disabled = true;  // To prevent multiple clicks.\n",
              "      quickchartButtonEl.classList.add('colab-df-spinner');\n",
              "      try {\n",
              "        const charts = await google.colab.kernel.invokeFunction(\n",
              "            'suggestCharts', [key], {});\n",
              "      } catch (error) {\n",
              "        console.error('Error during call to suggestCharts:', error);\n",
              "      }\n",
              "      quickchartButtonEl.classList.remove('colab-df-spinner');\n",
              "      quickchartButtonEl.classList.add('colab-df-quickchart-complete');\n",
              "    }\n",
              "    (() => {\n",
              "      let quickchartButtonEl =\n",
              "        document.querySelector('#df-d1be82f0-5ab2-486a-be3e-82776141ee89 button');\n",
              "      quickchartButtonEl.style.display =\n",
              "        google.colab.kernel.accessAllowed ? 'block' : 'none';\n",
              "    })();\n",
              "  </script>\n",
              "</div>\n",
              "    </div>\n",
              "  </div>\n"
            ]
          },
          "metadata": {},
          "execution_count": 57
        }
      ],
      "source": [
        "df.describe(include=\"O\")  #describing the column"
      ],
      "id": "082d02e5"
    },
    {
      "cell_type": "code",
      "execution_count": 58,
      "metadata": {
        "colab": {
          "base_uri": "https://localhost:8080/"
        },
        "id": "981add84",
        "outputId": "02e049bf-74f2-4c2e-a310-7e3ac779dfb9"
      },
      "outputs": [
        {
          "output_type": "execute_result",
          "data": {
            "text/plain": [
              "Index(['Unnamed: 0', 'ID', 'Gene', 'Variation', 'Class', 'Text'], dtype='object')"
            ]
          },
          "metadata": {},
          "execution_count": 58
        }
      ],
      "source": [
        "df.columns  #columns of the dataset"
      ],
      "id": "981add84"
    },
    {
      "cell_type": "code",
      "execution_count": 59,
      "metadata": {
        "colab": {
          "base_uri": "https://localhost:8080/"
        },
        "id": "6deb4822",
        "outputId": "974afc53-9303-40f7-9ce2-7ac36390eefb"
      },
      "outputs": [
        {
          "output_type": "execute_result",
          "data": {
            "text/plain": [
              "array([1, 2, 3, 4, 5, 6, 7, 8, 9])"
            ]
          },
          "metadata": {},
          "execution_count": 59
        }
      ],
      "source": [
        "df.Class.unique()  #target variable"
      ],
      "id": "6deb4822"
    },
    {
      "cell_type": "code",
      "execution_count": 60,
      "metadata": {
        "colab": {
          "base_uri": "https://localhost:8080/"
        },
        "id": "b4d2dc81",
        "outputId": "5f3dfaa5-30eb-4c4e-9af2-55e0fd45ac79"
      },
      "outputs": [
        {
          "output_type": "execute_result",
          "data": {
            "text/plain": [
              "7    953\n",
              "4    686\n",
              "1    568\n",
              "2    452\n",
              "6    275\n",
              "5    242\n",
              "3     89\n",
              "9     37\n",
              "8     19\n",
              "Name: Class, dtype: int64"
            ]
          },
          "metadata": {},
          "execution_count": 60
        }
      ],
      "source": [
        "df[\"Class\"].value_counts()  #checking the value counts for class"
      ],
      "id": "b4d2dc81"
    },
    {
      "cell_type": "code",
      "source": [
        "df[\"Gene\"].value_counts()  #value counts for gene column"
      ],
      "metadata": {
        "colab": {
          "base_uri": "https://localhost:8080/"
        },
        "id": "s3RUGaZcMNOj",
        "outputId": "4c5e3824-0ed8-49f1-81b9-ebd13961bd37"
      },
      "id": "s3RUGaZcMNOj",
      "execution_count": 61,
      "outputs": [
        {
          "output_type": "execute_result",
          "data": {
            "text/plain": [
              "BRCA1     264\n",
              "TP53      163\n",
              "EGFR      141\n",
              "PTEN      126\n",
              "BRCA2     125\n",
              "         ... \n",
              "RYBP        1\n",
              "MDM2        1\n",
              "CTLA4       1\n",
              "ARID1A      1\n",
              "FAM58A      1\n",
              "Name: Gene, Length: 264, dtype: int64"
            ]
          },
          "metadata": {},
          "execution_count": 61
        }
      ]
    },
    {
      "cell_type": "code",
      "source": [
        "df[\"Variation\"].value_counts()  #value counts for gene column"
      ],
      "metadata": {
        "colab": {
          "base_uri": "https://localhost:8080/"
        },
        "id": "erNhNy33MV_v",
        "outputId": "a0451f0f-2503-4ee5-b931-baf825952315"
      },
      "id": "erNhNy33MV_v",
      "execution_count": 62,
      "outputs": [
        {
          "output_type": "execute_result",
          "data": {
            "text/plain": [
              "Truncating Mutations    93\n",
              "Deletion                74\n",
              "Amplification           71\n",
              "Fusions                 34\n",
              "Overexpression           6\n",
              "                        ..\n",
              "H1094R                   1\n",
              "M1250T                   1\n",
              "PTPRZ1-MET Fusion        1\n",
              "H1106D                   1\n",
              "K83E                     1\n",
              "Name: Variation, Length: 2996, dtype: int64"
            ]
          },
          "metadata": {},
          "execution_count": 62
        }
      ]
    },
    {
      "cell_type": "code",
      "execution_count": 63,
      "metadata": {
        "colab": {
          "base_uri": "https://localhost:8080/"
        },
        "id": "dc0435d9",
        "outputId": "07e040a3-463d-40d0-8354-0cde899f5404"
      },
      "outputs": [
        {
          "output_type": "execute_result",
          "data": {
            "text/plain": [
              "0"
            ]
          },
          "metadata": {},
          "execution_count": 63
        }
      ],
      "source": [
        "df.duplicated().sum()   #checking for duplicates"
      ],
      "id": "dc0435d9"
    },
    {
      "cell_type": "code",
      "source": [
        "#checking the text columns\n",
        "df['Text'].iloc[0]"
      ],
      "metadata": {
        "colab": {
          "base_uri": "https://localhost:8080/",
          "height": 139
        },
        "id": "dfTO1dAIFmIW",
        "outputId": "772a6001-23d2-42fb-d11d-106eeb7d859c"
      },
      "id": "dfTO1dAIFmIW",
      "execution_count": 64,
      "outputs": [
        {
          "output_type": "execute_result",
          "data": {
            "text/plain": [
              "\"Cyclin-dependent kinases (CDKs) regulate a variety of fundamental cellular processes. CDK10 stands out as one of the last orphan CDKs for which no activating cyclin has been identified and no kinase activity revealed. Previous work has shown that CDK10 silencing increases ETS2 (v-ets erythroblastosis virus E26 oncogene homolog 2)-driven activation of the MAPK pathway, which confers tamoxifen resistance to breast cancer cells. The precise mechanisms by which CDK10 modulates ETS2 activity, and more generally the functions of CDK10, remain elusive. Here we demonstrate that CDK10 is a cyclin-dependent kinase by identifying cyclin M as an activating cyclin. Cyclin M, an orphan cyclin, is the product of FAM58A, whose mutations cause STAR syndrome, a human developmental anomaly whose features include toe syndactyly, telecanthus, and anogenital and renal malformations. We show that STAR syndrome-associated cyclin M mutants are unable to interact with CDK10. Cyclin M silencing phenocopies CDK10 silencing in increasing c-Raf and in conferring tamoxifen resistance to breast cancer cells. CDK10/cyclin M phosphorylates ETS2 in vitro, and in cells it positively controls ETS2 degradation by the proteasome. ETS2 protein levels are increased in cells derived from a STAR patient, and this increase is attributable to decreased cyclin M levels. Altogether, our results reveal an additional regulatory mechanism for ETS2, which plays key roles in cancer and development. They also shed light on the molecular mechanisms underlying STAR syndrome.Cyclin-dependent kinases (CDKs) play a pivotal role in the control of a number of fundamental cellular processes (1). The human genome contains 21 genes encoding proteins that can be considered as members of the CDK family owing to their sequence similarity with bona fide CDKs, those known to be activated by cyclins (2). Although discovered almost 20 y ago (3, 4), CDK10 remains one of the two CDKs without an identified cyclin partner. This knowledge gap has largely impeded the exploration of its biological functions. CDK10 can act as a positive cell cycle regulator in some cells (5, 6) or as a tumor suppressor in others (7, 8). CDK10 interacts with the ETS2 (v-ets erythroblastosis virus E26 oncogene homolog 2) transcription factor and inhibits its transcriptional activity through an unknown mechanism (9). CDK10 knockdown derepresses ETS2, which increases the expression of the c-Raf protein kinase, activates the MAPK pathway, and induces resistance of MCF7 cells to tamoxifen (6).Here, we deorphanize CDK10 by identifying cyclin M, the product of FAM58A, as a binding partner. Mutations in this gene that predict absence or truncation of cyclin M are associated with STAR syndrome, whose features include toe syndactyly, telecanthus, and anogenital and renal malformations in heterozygous females (10). However, both the functions of cyclin M and the pathogenesis of STAR syndrome remain unknown. We show that a recombinant CDK10/cyclin M heterodimer is an active protein kinase that phosphorylates ETS2 in vitro. Cyclin M silencing phenocopies CDK10 silencing in increasing c-Raf and phospho-ERK expression levels and in inducing tamoxifen resistance in estrogen receptor (ER)+ breast cancer cells. We show that CDK10/cyclin M positively controls ETS2 degradation by the proteasome, through the phosphorylation of two neighboring serines. Finally, we detect an increased ETS2 expression level in cells derived from a STAR patient, and we demonstrate that it is attributable to the decreased cyclin M expression level observed in these cells.Previous SectionNext SectionResultsA yeast two-hybrid (Y2H) screen unveiled an interaction signal between CDK10 and a mouse protein whose C-terminal half presents a strong sequence homology with the human FAM58A gene product [whose proposed name is cyclin M (11)]. We thus performed Y2H mating assays to determine whether human CDK10 interacts with human cyclin M (Fig. 1 A–C). The longest CDK10 isoform (P1) expressed as a bait protein produced a strong interaction phenotype with full-length cyclin M (expressed as a prey protein) but no detectable phenotype with cyclin D1, p21 (CIP1), and Cdi1 (KAP), which are known binding partners of other CDKs (Fig. 1B). CDK1 and CDK3 also produced Y2H signals with cyclin M, albeit notably weaker than that observed with CDK10 (Fig. 1B). An interaction phenotype was also observed between full-length cyclin M and CDK10 proteins expressed as bait and prey, respectively (Fig. S1A). We then tested different isoforms of CDK10 and cyclin M originating from alternative gene splicing, and two truncated cyclin M proteins corresponding to the hypothetical products of two mutated FAM58A genes found in STAR syndrome patients (10). None of these shorter isoforms produced interaction phenotypes (Fig. 1 A and C and Fig. S1A).Fig. 1.In a new window Download PPTFig. 1.CDK10 and cyclin M form an interaction complex. (A) Schematic representation of the different protein isoforms analyzed by Y2H assays. Amino acid numbers are indicated. Black boxes indicate internal deletions. The red box indicates a differing amino acid sequence compared with CDK10 P1. (B) Y2H assay between a set of CDK proteins expressed as baits (in fusion to the LexA DNA binding domain) and CDK interacting proteins expressed as preys (in fusion to the B42 transcriptional activator). pEG202 and pJG4-5 are the empty bait and prey plasmids expressing LexA and B42, respectively. lacZ was used as a reporter gene, and blue yeast are indicative of a Y2H interaction phenotype. (C) Y2H assay between the different CDK10 and cyclin M isoforms. The amino-terminal region of ETS2, known to interact with CDK10 (9), was also assayed. (D) Western blot analysis of Myc-CDK10 (wt or kd) and CycM-V5-6His expression levels in transfected HEK293 cells. (E) Western blot analysis of Myc-CDK10 (wt or kd) immunoprecipitates obtained using the anti-Myc antibody. “Inputs” correspond to 10 μg total lysates obtained from HEK293 cells coexpressing Myc-CDK10 (wt or kd) and CycM-V5-6His. (F) Western blot analysis of immunoprecipitates obtained using the anti-CDK10 antibody or a control goat antibody, from human breast cancer MCF7 cells. “Input” corresponds to 30 μg MCF7 total cell lysates. The lower band of the doublet observed on the upper panel comigrates with the exogenously expressed untagged CDK10 and thus corresponds to endogenous CDK10. The upper band of the doublet corresponds to a nonspecific signal, as demonstrated by it insensitivity to either overexpression of CDK10 (as seen on the left lane) or silencing of CDK10 (Fig. S2B). Another experiment with a longer gel migration is shown in Fig. S1D.Next we examined the ability of CDK10 and cyclin M to interact when expressed in human cells (Fig. 1 D and E). We tested wild-type CDK10 (wt) and a kinase dead (kd) mutant bearing a D181A amino acid substitution that abolishes ATP binding (12). We expressed cyclin M-V5-6His and/or Myc-CDK10 (wt or kd) in a human embryonic kidney cell line (HEK293). The expression level of cyclin M-V5-6His was significantly increased upon coexpression with Myc-CDK10 (wt or kd) and, to a lesser extent, that of Myc-CDK10 (wt or kd) was increased upon coexpression with cyclin M-V5-6His (Fig. 1D). We then immunoprecipitated Myc-CDK10 proteins and detected the presence of cyclin M in the CDK10 (wt) and (kd) immunoprecipitates only when these proteins were coexpressed pair-wise (Fig. 1E). We confirmed these observations by detecting the presence of Myc-CDK10 in cyclin M-V5-6His immunoprecipitates (Fig. S1B). These experiments confirmed the lack of robust interaction between the CDK10.P2 isoform and cyclin M (Fig. S1C). To detect the interaction between endogenous proteins, we performed immunoprecipitations on nontransfected MCF7 cells derived from a human breast cancer. CDK10 and cyclin M antibodies detected their cognate endogenous proteins by Western blotting. We readily detected cyclin M in immunoprecipitates obtained with the CDK10 antibody but not with a control antibody (Fig. 1F). These results confirm the physical interaction between CDK10 and cyclin M in human cells.To unveil a hypothesized CDK10/cyclin M protein kinase activity, we produced GST-CDK10 and StrepII-cyclin M fusion proteins in insect cells, either individually or in combination. We observed that GST-CDK10 and StrepII-cyclin M copurified, thus confirming their interaction in yet another cellular model (Fig. 2A). We then performed in vitro kinase assays with purified proteins, using histone H1 as a generic substrate. Histone H1 phosphorylation was detected only from lysates of cells coexpressing GST-CDK10 and StrepII-cyclin M. No phosphorylation was detected when GST-CDK10 or StrepII-cyclin M were expressed alone, or when StrepII-cyclin M was coexpressed with GST-CDK10(kd) (Fig. 2A). Next we investigated whether ETS2, which is known to interact with CDK10 (9) (Fig. 1C), is a phosphorylation substrate of CDK10/cyclin M. We detected strong phosphorylation of ETS2 by the GST-CDK10/StrepII-cyclin M purified heterodimer, whereas no phosphorylation was detected using GST-CDK10 alone or GST-CDK10(kd)/StrepII-cyclin M heterodimer (Fig. 2B).Fig. 2.In a new window Download PPTFig. 2.CDK10 is a cyclin M-dependent protein kinase. (A) In vitro protein kinase assay on histone H1. Lysates from insect cells expressing different proteins were purified on a glutathione Sepharose matrix to capture GST-CDK10(wt or kd) fusion proteins alone, or in complex with STR-CycM fusion protein. Purified protein expression levels were analyzed by Western blots (Top and Upper Middle). The kinase activity was determined by autoradiography of histone H1, whose added amounts were visualized by Coomassie staining (Lower Middle and Bottom). (B) Same as in A, using purified recombinant 6His-ETS2 as a substrate.CDK10 silencing has been shown to increase ETS2-driven c-RAF transcription and to activate the MAPK pathway (6). We investigated whether cyclin M is also involved in this regulatory pathway. To aim at a highly specific silencing, we used siRNA pools (mix of four different siRNAs) at low final concentration (10 nM). Both CDK10 and cyclin M siRNA pools silenced the expression of their cognate targets (Fig. 3 A and C and Fig. S2) and, interestingly, the cyclin M siRNA pool also caused a marked decrease in CDK10 protein level (Fig. 3A and Fig. S2B). These results, and those shown in Fig. 1D, suggest that cyclin M binding stabilizes CDK10. Cyclin M silencing induced an increase in c-Raf protein and mRNA levels (Fig. 3 B and C) and in phosphorylated ERK1 and ERK2 protein levels (Fig. S3B), similarly to CDK10 silencing. As expected from these effects (6), CDK10 and cyclin M silencing both decreased the sensitivity of ER+ MCF7 cells to tamoxifen, to a similar extent. The combined silencing of both genes did not result in a higher resistance to the drug (Fig. S3C). Altogether, these observations demonstrate a functional interaction between cyclin M and CDK10, which negatively controls ETS2.Fig. 3.In a new window Download PPTFig. 3.Cyclin M silencing up-regulates c-Raf expression. (A) Western blot analysis of endogenous CDK10 and cyclin M expression levels in MCF7 cells, in response to siRNA-mediated gene silencing. (B) Western blot analysis of endogenous c-Raf expression levels in MCF7 cells, in response to CDK10 or cyclin M silencing. A quantification is shown in Fig. S3A. (C) Quantitative RT-PCR analysis of CDK10, cyclin M, and c-Raf mRNA levels, in response to CDK10 (Upper) or cyclin M (Lower) silencing. **P ≤ 0.01; ***P ≤ 0.001.We then wished to explore the mechanism by which CDK10/cyclin M controls ETS2. ETS2 is a short-lived protein degraded by the proteasome (13). A straightforward hypothesis is that CDK10/cyclin M positively controls ETS2 degradation. We thus examined the impact of CDK10 or cyclin M silencing on ETS2 expression levels. The silencing of CDK10 and that of cyclin M caused an increase in the expression levels of an exogenously expressed Flag-ETS2 protein (Fig. S4A), as well as of the endogenous ETS2 protein (Fig. 4A). This increase is not attributable to increased ETS2 mRNA levels, which marginally fluctuated in response to CDK10 or cyclin M silencing (Fig. S4B). We then examined the expression levels of the Flag-tagged ETS2 protein when expressed alone or in combination with Myc-CDK10 or -CDK10(kd), with or without cyclin M-V5-6His. Flag-ETS2 was readily detected when expressed alone or, to a lesser extent, when coexpressed with CDK10(kd). However, its expression level was dramatically decreased when coexpressed with CDK10 alone, or with CDK10 and cyclin M (Fig. 4B). These observations suggest that endogenous cyclin M levels are in excess compared with those of CDK10 in MCF7 cells, and they show that the major decrease in ETS2 levels observed upon CDK10 coexpression involves CDK10 kinase activity. Treatment of cells coexpressing Flag-ETS2, CDK10, and cyclin M with the proteasome inhibitor MG132 largely rescued Flag-ETS2 expression levels (Fig. 4B).Fig. 4.In a new window Download PPTFig. 4.CDK10/cyclin M controls ETS2 stability in human cancer derived cells. (A) Western blot analysis of endogenous ETS2 expression levels in MCF7 cells, in response to siRNA-mediated CDK10 and/or cyclin M silencing. A quantification is shown in Fig. S4B. (B) Western blot analysis of exogenously expressed Flag-ETS2 protein levels in MCF7 cells cotransfected with empty vectors or coexpressing Myc-CDK10 (wt or kd), or Myc-CDK10/CycM-V5-6His. The latter cells were treated for 16 h with the MG132 proteasome inhibitor. Proper expression of CDK10 and cyclin M tagged proteins was verified by Western blot analysis. (C and D) Western blot analysis of expression levels of exogenously expressed Flag-ETS2 wild-type or mutant proteins in MCF7 cells, in the absence of (C) or in response to (D) Myc-CDK10/CycM-V5-6His expression. Quantifications are shown in Fig. S4 C and D.A mass spectrometry analysis of recombinant ETS2 phosphorylated by CDK10/cyclin M in vitro revealed the existence of multiple phosphorylated residues, among which are two neighboring phospho-serines (at positions 220 and 225) that may form a phosphodegron (14) (Figs. S5–S8). To confirm this finding, we compared the phosphorylation level of recombinant ETS2wt with that of ETS2SASA protein, a mutant bearing alanine substitutions of these two serines. As expected from the existence of multiple phosphorylation sites, we detected a small but reproducible, significant decrease of phosphorylation level of ETS2SASA compared with ETS2wt (Fig. S9), thus confirming that Ser220/Ser225 are phosphorylated by CDK10/cyclin M. To establish a direct link between ETS2 phosphorylation by CDK10/cyclin M and degradation, we examined the expression levels of Flag-ETS2SASA. In the absence of CDK10/cyclin M coexpression, it did not differ significantly from that of Flag-ETS2. This is contrary to that of Flag-ETS2DBM, bearing a deletion of the N-terminal destruction (D-) box that was previously shown to be involved in APC-Cdh1–mediated degradation of ETS2 (13) (Fig. 4C). However, contrary to Flag-ETS2 wild type, the expression level of Flag-ETS2SASA remained insensitive to CDK10/cyclin M coexpression (Fig. 4D). Altogether, these results suggest that CDK10/cyclin M directly controls ETS2 degradation through the phosphorylation of these two serines.Finally, we studied a lymphoblastoid cell line derived from a patient with STAR syndrome, bearing FAM58A mutation c.555+1G>A, predicted to result in aberrant splicing (10). In accordance with incomplete skewing of X chromosome inactivation previously found in this patient, we detected a decreased expression level of cyclin M protein in the STAR cell line, compared with a control lymphoblastoid cell line. In line with our preceding observations, we detected an increased expression level of ETS2 protein in the STAR cell line compared with the control (Fig. 5A and Fig. S10A). We then examined by quantitative RT-PCR the mRNA expression levels of the corresponding genes. The STAR cell line showed a decreased expression level of cyclin M mRNA but an expression level of ETS2 mRNA similar to that of the control cell line (Fig. 5B). To demonstrate that the increase in ETS2 protein expression is indeed a result of the decreased cyclin M expression observed in the STAR patient-derived cell line, we expressed cyclin M-V5-6His in this cell line. This expression caused a decrease in ETS2 protein levels (Fig. 5C).Fig. 5.In a new window Download PPTFig. 5.Decreased cyclin M expression in STAR patient-derived cells results in increased ETS2 protein level. (A) Western blot analysis of cyclin M and ETS2 protein levels in a STAR patient-derived lymphoblastoid cell line and in a control lymphoblastoid cell line, derived from a healthy individual. A quantification is shown in Fig. S10A. (B) Quantitative RT-PCR analysis of cyclin M and ETS2 mRNA levels in the same cells. ***P ≤ 0.001. (C) Western blot analysis of ETS2 protein levels in the STAR patient-derived lymphoblastoid cell line transfected with an empty vector or a vector directing the expression of cyclin M-V5-6His. Another Western blot revealing endogenously and exogenously expressed cyclin M levels is shown in Fig. S10B. A quantification of ETS2 protein levels is shown in Fig. S10C.Previous SectionNext SectionDiscussionIn this work, we unveil the interaction between CDK10, the last orphan CDK discovered in the pregenomic era (2), and cyclin M, the only cyclin associated with a human genetic disease so far, and whose functions remain unknown (10). The closest paralogs of CDK10 within the CDK family are the CDK11 proteins, which interact with L-type cyclins (15). Interestingly, the closest paralog of these cyclins within the cyclin family is cyclin M (Fig. S11). The fact that none of the shorter CDK10 isoforms interact robustly with cyclin M suggests that alternative splicing of the CDK10 gene (16, 17) plays an important role in regulating CDK10 functions.The functional relevance of the interaction between CDK10 and cyclin M is supported by different observations. Both proteins seem to enhance each other’s stability, as judged from their increased expression levels when their partner is exogenously coexpressed (Fig. 1D) and from the much reduced endogenous CDK10 expression level observed in response to cyclin M silencing (Fig. 3A and Fig. S2B). CDK10 is subject to ubiquitin-mediated degradation (18). Our observations suggest that cyclin M protects CDK10 from such degradation and that it is the only cyclin partner of CDK10, at least in MCF7 cells. They also suggest that cyclin M stability is enhanced upon binding to CDK10, independently from its kinase activity, as seen for cyclin C and CDK8 (19). We uncover a cyclin M-dependent CDK10 protein kinase activity in vitro, thus demonstrating that this protein, which was named a CDK on the sole basis of its amino acid sequence, is indeed a genuine cyclin-dependent kinase. Our Y2H assays reveal that truncated cyclin M proteins corresponding to the hypothetical products of two STAR syndrome-associated FAM58A mutations do not produce an interaction phenotype with CDK10. Hence, regardless of whether these mutated mRNAs undergo nonsense-mediated decay (as suggested from the decreased cyclin M mRNA levels in STAR cells, shown in Fig. 5B) or give rise to truncated cyclin M proteins, females affected by the STAR syndrome must exhibit compromised CDK10/cyclin M kinase activity at least in some tissues and during specific developmental stages.We show that ETS2, a known interactor of CDK10, is a phosphorylation substrate of CDK10/cyclin M in vitro and that CDK10/cyclin M kinase activity positively controls ETS2 degradation by the proteasome. This control seems to be exerted through a very fine mechanism, as judged from the sensitivity of ETS2 levels to partially decreased CDK10 and cyclin M levels, achieved in MCF7 cells and observed in STAR cells, respectively. These findings offer a straightforward explanation for the already reported up-regulation of ETS2-driven transcription of c-RAF in response to CDK10 silencing (6). We bring evidence that CDK10/cyclin M directly controls ETS2 degradation through the phosphorylation of two neighboring serines, which may form a noncanonical β-TRCP phosphodegron (DSMCPAS) (14). Because none of these two serines precede a proline, they do not conform to usual CDK phosphorylation sites. However, multiple so-called transcriptional CDKs (CDK7, -8, -9, and -11) (to which CDK10 may belong; Fig. S11) have been shown to phosphorylate a variety of motifs in a non–proline-directed fashion, especially in the context of molecular docking with the substrate (20). Here, it can be hypothesized that the high-affinity interaction between CDK10 and the Pointed domain of ETS2 (6, 9) (Fig. 1C) would allow docking-mediated phosphorylation of atypical sites. The control of ETS2 degradation involves a number of players, including APC-Cdh1 (13) and the cullin-RING ligase CRL4 (21). The formal identification of the ubiquitin ligase involved in the CDK10/cyclin M pathway and the elucidation of its concerted action with the other ubiquitin ligases to regulate ETS2 degradation will require further studies.Our results present a number of significant biological and medical implications. First, they shed light on the regulation of ETS2, which plays an important role in development (22) and is frequently deregulated in many cancers (23). Second, our results contribute to the understanding of the molecular mechanisms causing tamoxifen resistance associated with reduced CDK10 expression levels, and they suggest that, like CDK10 (6), cyclin M could also be a predictive clinical marker of hormone therapy response of ERα-positive breast cancer patients. Third, our findings offer an interesting hypothesis on the molecular mechanisms underlying STAR syndrome. Ets2 transgenic mice showing a less than twofold overexpression of Ets2 present severe cranial abnormalities (24), and those observed in STAR patients could thus be caused at least in part by increased ETS2 protein levels. Another expected consequence of enhanced ETS2 expression levels would be a decreased risk to develop certain types of cancers and an increased risk to develop others. Studies on various mouse models (including models of Down syndrome, in which three copies of ETS2 exist) have revealed that ETS2 dosage can repress or promote tumor growth and, hence, that ETS2 exerts noncell autonomous functions in cancer (25). Intringuingly, one of the very few STAR patients identified so far has been diagnosed with a nephroblastoma (26). Finally, our findings will facilitate the general exploration of the biological functions of CDK10 and, in particular, its role in the control of cell division. Previous studies have suggested either a positive role in cell cycle control (5, 6) or a tumor-suppressive activity in some cancers (7, 8). The severe growth retardation exhibited by STAR patients strongly suggests that CDK10/cyclin M plays an important role in the control of cell proliferation.Previous SectionNext SectionMaterials and MethodsCloning of CDK10 and cyclin M cDNAs, plasmid constructions, tamoxifen response analysis, quantitative RT-PCR, mass spectrometry experiments, and antibody production are detailed in SI Materials and Methods.Yeast Two-Hybrid Interaction Assays. We performed yeast interaction mating assays as previously described (27).Mammalian Cell Cultures and Transfections. We grew human HEK293 and MCF7 cells in DMEM supplemented with 10% (vol/vol) FBS (Invitrogen), and we grew lymphoblastoid cells in RPMI 1640 GlutaMAX supplemented with 15% (vol/vol) FBS. We transfected HEK293 and MCF7 cells using Lipofectamine 2000 (Invitrogen) for plasmids, Lipofectamine RNAiMAX (Invitrogen) for siRNAs, and Jetprime (Polyplus) for plasmids/siRNAs combinations according to the manufacturers’ instructions. We transfected lymphoblastoid cells by electroporation (Neon, Invitrogen). For ETS2 stability studies we treated MCF7 cells 32 h after transfection with 10 μM MG132 (Fisher Scientific) for 16 h.Coimmunoprecipitation and Western Blot Experiments. We collected cells by scraping in PBS (or centrifugation for lymphoblastoid cells) and lysed them by sonication in a lysis buffer containing 60 mM β-glycerophosphate, 15 mM p-nitrophenylphosphate, 25 mM 3-(N-morpholino)propanesulfonic acid (Mops) (pH 7.2), 15 mM EGTA, 15 mM MgCl2, 1 mM Na vanadate, 1 mM NaF, 1mM phenylphosphate, 0.1% Nonidet P-40, and a protease inhibitor mixture (Roche). We spun the lysates 15 min at 20,000 × g at 4 °C, collected the supernatants, and determined the protein content using a Bradford assay. We performed the immunoprecipitation experiments on 500 μg of total proteins, in lysis buffer. We precleared the lysates with 20 μL of protein A or G-agarose beads, incubated 1 h 4 °C on a rotating wheel. We added 5 μg of antibody to the supernatants, incubated 1 h 4 °C on a rotating wheel, added 20 μL of protein A or G-agarose beads, and incubated 1 h 4 °C on a rotating wheel. We collected the beads by centrifugation 30 s at 18,000 × g at 4 °C and washed three times in a bead buffer containing 50 mM Tris (pH 7.4), 5 mM NaF, 250 mM NaCl, 5 mM EDTA, 5 mM EGTA, 0.1% Nonidet P-40, and a protease inhibitor coktail (Roche). We directly added sample buffer to the washed pellets, heat-denatured the proteins, and ran the samples on 10% Bis-Tris SDS/PAGE. We transferred the proteins onto Hybond nitrocellulose membranes and processed the blots according to standard procedures. For Western blot experiments, we used the following primary antibodies: anti-Myc (Abcam ab9106, 1:2,000), anti-V5 (Invitrogen R960, 1:5,000), anti-tubulin (Santa Cruz Biotechnology B-7, 1:500), anti-CDK10 (Covalab pab0847p, 1:500 or Santa Cruz Biotechnology C-19, 1:500), anti-CycM (home-made, dilution 1:500 or Covalab pab0882-P, dilution 1:500), anti-Raf1 (Santa Cruz Biotechnology C-20, 1:1,000), anti-ETS2 (Santa Cruz Biotechnology C-20, 1:1,000), anti-Flag (Sigma F7425, 1:1,000), and anti-actin (Sigma A5060, 1:5,000). We used HRP-coupled anti-goat (Santa Cruz Biotechnology SC-2033, dilution 1:2,000), anti-mouse (Bio-Rad 170–6516, dilution 1:3,000) or anti-rabbit (Bio-Rad 172–1019, 1:5,000) as secondary antibodies. We revealed the blots by enhanced chemiluminescence (SuperSignal West Femto, Thermo Scientific).Production and Purification of Recombinant Proteins.GST-CDK10(kd)/StrepII-CycM. We generated recombinant bacmids in DH10Bac Escherichia coli and baculoviruses in Sf9 cells using the Bac-to-Bac system, as described by the provider (Invitrogen). We infected Sf9 cells with GST-CDK10- (or GST-CDK10kd)-producing viruses, or coinfected the cells with StrepII-CycM–producing viruses, and we collected the cells 72 h after infection. To purify GST-fusion proteins, we spun 250 mL cells and resuspended the pellet in 40 mL lysis buffer (PBS, 250 mM NaCl, 0.5% Nonidet P-40, 50 mM NaF, 10 mM β-glycerophosphate, and 0.3 mM Na-vanadate) containing a protease inhibitor mixture (Roche). We lysed the cells by sonication, spun the lysate 30 min at 15,000 × g, collected the soluble fraction, and added it to a 1-mL glutathione-Sepharose matrix. We incubated 1 h at 4 °C, washed four times with lysis buffer, one time with kinase buffer A (see below), and finally resuspended the beads in 100 μL kinase buffer A containing 10% (vol/vol) glycerol for storage.6His-ETS2. We transformed Origami2 DE3 (Novagen) with the 6His-ETS2 expression vector. We induced expression with 0.2 mM isopropyl-β-d-1-thiogalactopyranoside for 3 h at 22 °C. To purify 6His-ETS2, we spun 50 mL cells and resuspended the pellet in 2 mL lysis buffer (PBS, 300 mM NaCl, 10 mM Imidazole, 1 mM DTT, and 0.1% Nonidet P-40) containing a protease inhibitor mixture without EDTA (Roche). We lysed the cells at 1.6 bar using a cell disruptor and spun the lysate 10 min at 20,000 × g. We collected the soluble fraction and added it to 200 μL Cobalt beads (Thermo Scientific). After 1 h incubation at 4 °C on a rotating wheel, we washed four times with lysis buffer. To elute, we incubated beads 30 min with elution buffer (PBS, 250 mM imidazole, pH 7.6) containing the protease inhibitor mixture, spun 30 s at 10,000 × g, and collected the eluted protein.Protein Kinase Assays. We mixed glutathione-Sepharose beads (harboring GST-CDK10 wt or kd, either monomeric or complexed with StrepII-CycM), 22.7 μM BSA, 15 mM DTT, 100 μM ATP, 5 μCi ATP[γ-32P], 7.75 μM histone H1, or 1 μM 6His-ETS2 and added kinase buffer A (25 mM Tris·HCl, 10 mM MgCl2, 1 mM EGTA, 1 mM DTT, and 3.7 μM heparin, pH 7.5) up to a total volume of 30 μL. We incubated the reactions 30 min at 30 °C, added Laemli sample buffer, heat-denatured the samples, and ran 10% Bis-Tris SDS/PAGE. We cut gel slices to detect GST-CDK10 and StrepII-CycM by Western blotting. We stained the gel slices containing the substrate with Coomassie (R-250, Bio-Rad), dried them, and detected the incorporated radioactivity by autoradiography. We identified four unrelated girls with anogenital and renal malformations, dysmorphic facial features, normal intellect and syndactyly of toes. A similar combination of features had been reported previously in a mother–daughter pair1 (Table 1 and Supplementary Note online). These authors noted clinical overlap with Townes-Brocks syndrome but suggested that the phenotype represented a separate autosomal dominant entity (MIM601446). Here we define the cardinal features of this syndrome as a characteristic facial appearance with apparent telecanthus and broad tripartite nasal tip, variable syndactyly of toes 2–5, hypoplastic labia, anal atresia and urogenital malformations (Fig. 1a–h). We also observed a variety of other features (Table 1).  Figure 1: Clinical and molecular characterization of STAR syndrome.  Figure 1 : Clinical and molecular characterization of STAR syndrome. (a–f) Facial appearances of cases 1–3 (apparent telecanthus, dysplastic ears and thin upper lips; a,c,e), and toe syndactyly 2–5, 3–5 or 4–5 (b,d,f) in these cases illustrate recognizable features of STAR syndrome (specific parental consent has been obtained for publication of these photographs). Anal atresia and hypoplastic labia are not shown. (g,h) X-ray films of the feet of case 2 showing only four rays on the left and delta-shaped 4th and 5th metatarsals on the right (h; compare to clinical picture in d). (i) Array-CGH data. Log2 ratio represents copy number loss of six probes spanning between 37.9 and 50.7 kb, with one probe positioned within FAM58A. The deletion does not remove parts of other functional genes. (j) Schematic structure of FAM58A and position of the mutations. FAM58A has five coding exons (boxes). The cyclin domain (green) is encoded by exons 2–4. The horizontal arrow indicates the deletion extending 5' in case 1, which includes exons 1 and 2, whereas the horizontal line below exon 5 indicates the deletion found in case 3, which removes exon 5 and some 3' sequence. The pink horizontal bars above the boxes indicate the amplicons used for qPCR and sequencing (one alternative exon 5 amplicon is not indicated because of space constraints). The mutation 201dupT (case 4) results in an immediate stop codon, and the 555+1G>A and 555-1G>A splice mutations in cases 2, 5 and 6 are predicted to be deleterious because they alter the conserved splice donor and acceptor site of intron 4, respectively.  Full size image (97 KB)  Table 1: Clinical features in STAR syndrome cases  Table 1 - Clinical features in STAR syndrome cases  Full table  On the basis of the phenotypic overlap with Townes-Brocks, Okihiro and Feingold syndromes, we analyzed SALL1 (ref. 2), SALL4 (ref. 3) and MYCN4 but found no mutations in any of these genes (Supplementary Methods online). Next, we carried out genome-wide high-resolution oligonucleotide array comparative genomic hybridization (CGH)5 analysis (Supplementary Methods) of genomic DNA from the most severely affected individual (case 1, with lower lid coloboma, epilepsy and syringomyelia) and identified a heterozygous deletion of 37.9–50.7 kb on Xq28, which removed exons 1 and 2 of FAM58A (Fig. 1i,j). Using real-time PCR, we confirmed the deletion in the child and excluded it in her unaffected parents (Supplementary Fig. 1a online, Supplementary Methods and Supplementary Table 1 online). Through CGH with a customized oligonucleotide array enriched in probes for Xq28, followed by breakpoint cloning, we defined the exact deletion size as 40,068 bp (g.152,514,164_152,554,231del(chromosome X, NCBI Build 36.2); Fig. 1j and Supplementary Figs. 2,3 online). The deletion removes the coding regions of exons 1 and 2 as well as intron 1 (2,774 bp), 492 bp of intron 2, and 36,608 bp of 5' sequence, including the 5' UTR and the entire KRT18P48 pseudogene (NCBI gene ID 340598). Paternity was proven using routine methods. We did not find deletions overlapping FAM58A in the available copy number variation (CNV) databases.  Subsequently, we carried out qPCR analysis of the three other affected individuals (cases 2, 3 and 4) and the mother-daughter pair from the literature (cases 5 and 6). In case 3, we detected a de novo heterozygous deletion of 1.1–10.3 kb overlapping exon 5 (Supplementary Fig. 1b online). Using Xq28-targeted array CGH and breakpoint cloning, we identified a deletion of 4,249 bp (g.152,504,123_152,508,371del(chromosome X, NCBI Build 36.2); Fig. 1j and Supplementary Figs. 2,3), which removed 1,265 bp of intron 4, all of exon 5, including the 3' UTR, and 2,454 bp of 3' sequence.  We found heterozygous FAM58A point mutations in the remaining cases (Fig. 1j, Supplementary Fig. 2, Supplementary Methods and Supplementary Table 1). In case 2, we identified the mutation 555+1G>A, affecting the splice donor site of intron 4. In case 4, we identified the frameshift mutation 201dupT, which immediately results in a premature stop codon N68XfsX1. In cases 5 and 6, we detected the mutation 556-1G>A, which alters the splice acceptor site of intron 4. We validated the point mutations and deletions by independent rounds of PCR and sequencing or by qPCR. We confirmed paternity and de novo status of the point mutations and deletions in all sporadic cases. None of the mutations were seen in the DNA of 60 unaffected female controls, and no larger deletions involving FAM58A were found in 93 unrelated array-CGH investigations.  By analyzing X-chromosome inactivation (Supplementary Methods and Supplementary Fig. 4 online), we found complete skewing of X inactivation in cases 1 and 3–6 and almost complete skewing in case 2, suggesting that cells carrying the mutation on the active X chromosome have a growth disadvantage during fetal development. Using RT-PCR on RNA from lymphoblastoid cells of case 2 (Supplementary Fig. 2), we did not find any aberrant splice products as additional evidence that the mutated allele is inactivated. Furthermore, FAM58A is subjected to X inactivation6. In cases 1 and 3, the parental origin of the deletions could not be determined, as a result of lack of informative SNPs. Case 5, the mother of case 6, gave birth to two boys, both clinically unaffected (samples not available). We cannot exclude that the condition is lethal in males. No fetal losses were reported from any of the families.  The function of FAM58A is unknown. The gene consists of five coding exons, and the 642-bp coding region encodes a protein of 214 amino acids. GenBank lists a mRNA length of 1,257 bp for the reference sequence (NM_152274.2). Expression of the gene (by EST data) was found in 27 of 48 adult tissues including kidney, colon, cervix and uterus, but not heart (NCBI expression viewer, UniGene Hs.496943). Expression was also noted in 24 of 26 listed tumor tissues as well as in embryo and fetus. Genes homologous to FAM58A (NCBI HomoloGene: 13362) are found on the X chromosome in the chimpanzee and the dog. The zebrafish has a similar gene on chromosome 23. However, in the mouse and rat, there are no true homologs. These species have similar but intronless genes on chromosomes 11 (mouse) and 10 (rat), most likely arising from a retrotransposon insertion event. On the murine X chromosome, the flanking genes Atp2b3 and Dusp9 are conserved, but only remnants of the FAM58A sequence can be detected.  FAM58A contains a cyclin-box-fold domain, a protein-binding domain found in cyclins with a role in cell cycle and transcription control. No human phenotype resulting from a cyclin gene mutation has yet been reported. Homozygous knockout mice for Ccnd1 (encoding cyclin D1) are viable but small and have reduced lifespan. They also have dystrophic changes of the retina, likely as a result of decreased cell proliferation and degeneration of photoreceptor cells during embryogenesis7, 8.  Cyclin D1 colocalizes with SALL4 in the nucleus, and both proteins cooperatively mediate transcriptional repression9. As the phenotype of our cases overlaps considerably with that of Townes-Brocks syndrome caused by SALL1 mutations1, we carried out co-immunoprecipitation to find out if SALL1 or SALL4 would interact with FAM58A in a manner similar to that observed for SALL4 and cyclin D1. We found that FAM58A interacts with SALL1 but not with SALL4 (Supplementary Fig. 5 online), supporting the hypothesis that FAM58A and SALL1 participate in the same developmental pathway.  How do FAM58A mutations lead to STAR syndrome? Growth retardation (all cases; Table 1) and retinal abnormalities (three cases) are reminiscent of the reduced body size and retinal anomalies in cyclin D1 knockout mice7, 8. Therefore, a proliferation defect might be partly responsible for STAR syndrome. To address this question, we carried out a knockdown of FAM58A mRNA followed by a proliferation assay. Transfection of HEK293 cells with three different FAM58A-specific RNAi oligonucleotides resulted in a significant reduction of both FAM58A mRNA expression and proliferation of transfected cells (Supplementary Methods and Supplementary Fig. 6 online), supporting the link between FAM58A and cell proliferation.  We found that loss-of-function mutations of FAM58A result in a rather homogeneous clinical phenotype. The additional anomalies in case 1 are likely to result from an effect of the 40-kb deletion on expression of a neighboring gene, possibly ATP2B3 or DUSP9. However, we cannot exclude that the homogeneous phenotype results from an ascertainment bias and that FAM58A mutations, including missense changes, could result in a broader spectrum of malformations. The genes causing the overlapping phenotypes of STAR syndrome and Townes-Brocks syndrome seem to act in the same pathway. Of note, MYCN, a gene mutated in Feingold syndrome, is a direct regulator of cyclin D2 (refs. 10,11); thus, it is worth exploring whether the phenotypic similarities between Feingold and STAR syndrome might be explained by direct regulation of FAM58A by MYCN.  FAM58A is located approximately 0.56 Mb centromeric to MECP2 on Xq28. Duplications overlapping both MECP2 and FAM58A have been described and are not associated with a clinical phenotype in females12, but no deletions overlapping both MECP2 and FAM58A have been observed to date13. Although other genes between FAM58A and MECP2 have been implicated in brain development, FAM58A and MECP2 are the only genes in this region known to result in X-linked dominant phenotypes; thus, deletion of both genes on the same allele might be lethal in both males and females.\""
            ],
            "application/vnd.google.colaboratory.intrinsic+json": {
              "type": "string"
            }
          },
          "metadata": {},
          "execution_count": 64
        }
      ]
    },
    {
      "cell_type": "markdown",
      "metadata": {
        "id": "302964e8"
      },
      "source": [
        "# Exploratory Data Analysis"
      ],
      "id": "302964e8"
    },
    {
      "cell_type": "code",
      "execution_count": 65,
      "metadata": {
        "colab": {
          "base_uri": "https://localhost:8080/",
          "height": 564
        },
        "id": "28a5e0a5",
        "outputId": "ffea19fb-f1fe-40ee-c839-dde85f445ddc"
      },
      "outputs": [
        {
          "output_type": "display_data",
          "data": {
            "text/plain": [
              "<Figure size 800x600 with 1 Axes>"
            ],
            "image/png": "[encoded data removed]"
          },
          "metadata": {}
        }
      ],
      "source": [
        "plt.figure(figsize=(8, 6))\n",
        "sns.countplot(x='Class', data=df, palette='viridis')\n",
        "plt.title('Distribution of Classes')\n",
        "plt.show()"
      ],
      "id": "28a5e0a5"
    },
    {
      "cell_type": "code",
      "execution_count": 66,
      "metadata": {
        "colab": {
          "base_uri": "https://localhost:8080/",
          "height": 675
        },
        "id": "2cd69fef",
        "outputId": "1355ddf8-ed97-460d-f805-5126cf1ff2f2"
      },
      "outputs": [
        {
          "output_type": "display_data",
          "data": {
            "text/plain": [
              "<Figure size 800x800 with 1 Axes>"
            ],
            "image/png": "[encoded data removed]"
          },
          "metadata": {}
        }
      ],
      "source": [
        "plt.figure(figsize=(8, 8))\n",
        "df['Class'].value_counts().plot.pie(autopct='%1.1f%%', startangle=90, colors=sns.color_palette('viridis'))\n",
        "plt.title('Distribution of Classes')\n",
        "plt.ylabel('')  # To remove the default 'Class' label\n",
        "plt.show()"
      ],
      "id": "2cd69fef"
    },
    {
      "cell_type": "markdown",
      "metadata": {
        "id": "2f6e6ec6"
      },
      "source": [
        "## Data Preprocessing"
      ],
      "id": "2f6e6ec6"
    },
    {
      "cell_type": "code",
      "execution_count": 67,
      "metadata": {
        "colab": {
          "base_uri": "https://localhost:8080/"
        },
        "id": "d422178f",
        "outputId": "d33e5f39-48b4-4d04-e334-439ddb71fd48"
      },
      "outputs": [
        {
          "output_type": "execute_result",
          "data": {
            "text/plain": [
              "1109    NaN\n",
              "1277    NaN\n",
              "1407    NaN\n",
              "1639    NaN\n",
              "2755    NaN\n",
              "Name: Text, dtype: object"
            ]
          },
          "metadata": {},
          "execution_count": 67
        }
      ],
      "source": [
        "df.loc[df['Text'].isnull(),'Text']  #The columns with null values"
      ],
      "id": "d422178f"
    },
    {
      "cell_type": "code",
      "execution_count": 68,
      "metadata": {
        "id": "16363c22"
      },
      "outputs": [],
      "source": [
        "df.loc[df['Text'].isnull(),'Text'] = df['Gene'] +' '+df['Variation']  # Fill the null values"
      ],
      "id": "16363c22"
    },
    {
      "cell_type": "code",
      "execution_count": 69,
      "metadata": {
        "colab": {
          "base_uri": "https://localhost:8080/",
          "height": 35
        },
        "id": "3783f8da",
        "outputId": "80560351-5229-4ce7-c11b-a50681891f1a"
      },
      "outputs": [
        {
          "output_type": "execute_result",
          "data": {
            "text/plain": [
              "'BRAF G596C'"
            ],
            "application/vnd.google.colaboratory.intrinsic+json": {
              "type": "string"
            }
          },
          "metadata": {},
          "execution_count": 69
        }
      ],
      "source": [
        "df['Text'].iloc[2755]  #checking"
      ],
      "id": "3783f8da"
    },
    {
      "cell_type": "code",
      "execution_count": 70,
      "metadata": {
        "id": "f1e1f00f"
      },
      "outputs": [],
      "source": [
        "df.drop(['Unnamed: 0','ID'],axis=1,inplace=True)  # Dropping the unnecessary columns"
      ],
      "id": "f1e1f00f"
    },
    {
      "cell_type": "code",
      "execution_count": 71,
      "metadata": {
        "colab": {
          "base_uri": "https://localhost:8080/",
          "height": 564
        },
        "id": "9567ed61",
        "outputId": "5c321c40-792b-4004-b33e-551834115441"
      },
      "outputs": [
        {
          "output_type": "display_data",
          "data": {
            "text/plain": [
              "<Figure size 1200x600 with 1 Axes>"
            ],
            "image/png": "[encoded data removed]"
          },
          "metadata": {}
        }
      ],
      "source": [
        "plt.figure(figsize=(12, 6))\n",
        "sns.boxplot(x='Class', y=df['Text'].apply(len), data=df, palette='viridis')\n",
        "plt.title('Distribution of Text Lengths by Class')\n",
        "plt.show()"
      ],
      "id": "9567ed61"
    },
    {
      "cell_type": "code",
      "execution_count": 72,
      "metadata": {
        "id": "ab0cb1b0"
      },
      "outputs": [],
      "source": [
        "# for text data\n",
        "#Importing Libraries\n",
        "import re\n",
        "import string\n",
        "from nltk.corpus import stopwords\n",
        "from nltk.tokenize import word_tokenize\n",
        "from sklearn.metrics import log_loss\n",
        "from sklearn.feature_extraction.text import CountVectorizer\n",
        "from sklearn.feature_extraction.text import TfidfVectorizer"
      ],
      "id": "ab0cb1b0"
    },
    {
      "cell_type": "code",
      "execution_count": 73,
      "metadata": {
        "colab": {
          "base_uri": "https://localhost:8080/"
        },
        "id": "cBfLvIP6b4Dj",
        "outputId": "694a9e95-3e45-4403-867b-46c58c85846d"
      },
      "outputs": [
        {
          "output_type": "stream",
          "name": "stderr",
          "text": [
            "[nltk_data] Downloading package stopwords to /root/nltk_data...\n",
            "[nltk_data]   Package stopwords is already up-to-date!\n",
            "[nltk_data] Downloading package punkt to /root/nltk_data...\n",
            "[nltk_data]   Package punkt is already up-to-date!\n"
          ]
        },
        {
          "output_type": "execute_result",
          "data": {
            "text/plain": [
              "True"
            ]
          },
          "metadata": {},
          "execution_count": 73
        }
      ],
      "source": [
        "import nltk\n",
        "nltk.download('stopwords')  #downloading english stopwords\n",
        "nltk.download('punkt')  #downloading word tokenizer"
      ],
      "id": "cBfLvIP6b4Dj"
    },
    {
      "cell_type": "code",
      "execution_count": 74,
      "metadata": {
        "id": "4fa3bf8f"
      },
      "outputs": [],
      "source": [
        "#stopwords\n",
        "stop_words = set(stopwords.words('english'))"
      ],
      "id": "4fa3bf8f"
    },
    {
      "cell_type": "code",
      "execution_count": 75,
      "metadata": {
        "id": "771adfc7"
      },
      "outputs": [],
      "source": [
        "def preprocess_text(text):\n",
        "    text = str(text)\n",
        "    text = text.lower() #Converting to lowercase\n",
        "    text = re.sub('[^a-zA-Z0-9\\n]', ' ', text) #replacing special character with space\n",
        "    text = re.sub(r'\\s+', ' ',text) #removal of multiple spaces\n",
        "\n",
        "    text_tokens = word_tokenize(text)  #tokenize the text\n",
        "\n",
        "    #removing stopwords\n",
        "    tw = [word for word in text_tokens if word not in stop_words and not any(char.isdigit() for char in word)]\n",
        "    text = (\" \").join(tw) # join the tokenize words with space\n",
        "    return text"
      ],
      "id": "771adfc7"
    },
    {
      "cell_type": "code",
      "execution_count": 76,
      "metadata": {
        "id": "fe1e30ba"
      },
      "outputs": [],
      "source": [
        "df['Text'] = df['Text'].apply(preprocess_text)  # applying the function to clean the text"
      ],
      "id": "fe1e30ba"
    },
    {
      "cell_type": "code",
      "execution_count": 77,
      "metadata": {
        "id": "06e2f601"
      },
      "outputs": [],
      "source": [
        "#Replacing the excess space for Gene and variation\n",
        "df['Gene'] = df['Gene'].str.replace('\\s+', '_')\n",
        "df['Variation'] = df['Variation'].str.replace('\\s+', '_')"
      ],
      "id": "06e2f601"
    },
    {
      "cell_type": "code",
      "execution_count": 78,
      "metadata": {
        "id": "e61a9490"
      },
      "outputs": [],
      "source": [
        "#Checking if the text have multiple space\n",
        "\n",
        "def has_multiple_spaces(text):\n",
        "    # Search for two or more consecutive spaces\n",
        "    return bool(re.search('\\s{2,}', text))\n",
        "\n",
        "\n",
        "for i in range(len(df)):\n",
        "    if has_multiple_spaces(df['Text'].iloc[i]):\n",
        "        print(\"Text has multiple spaces.\")\n",
        "    else:\n",
        "        pass\n",
        "\n"
      ],
      "id": "e61a9490"
    },
    {
      "cell_type": "code",
      "execution_count": 79,
      "metadata": {
        "colab": {
          "base_uri": "https://localhost:8080/",
          "height": 1000
        },
        "id": "e35d31f4",
        "outputId": "c651f754-7531-4b8f-9a43-94f7a033d82c"
      },
      "outputs": [
        {
          "output_type": "execute_result",
          "data": {
            "text/plain": [
              "'cyclin dependent kinases cdks regulate variety fundamental cellular processes stands one last orphan cdks activating cyclin identified kinase activity revealed previous work shown silencing increases v ets erythroblastosis virus oncogene homolog driven activation mapk pathway confers tamoxifen resistance breast cancer cells precise mechanisms modulates activity generally functions remain elusive demonstrate cyclin dependent kinase identifying cyclin activating cyclin cyclin orphan cyclin product whose mutations cause star syndrome human developmental anomaly whose features include toe syndactyly telecanthus anogenital renal malformations show star syndrome associated cyclin mutants unable interact cyclin silencing phenocopies silencing increasing c raf conferring tamoxifen resistance breast cancer cells cyclin phosphorylates vitro cells positively controls degradation proteasome protein levels increased cells derived star patient increase attributable decreased cyclin levels altogether results reveal additional regulatory mechanism plays key roles cancer development also shed light molecular mechanisms underlying star syndrome cyclin dependent kinases cdks play pivotal role control number fundamental cellular processes human genome contains genes encoding proteins considered members cdk family owing sequence similarity bona fide cdks known activated cyclins although discovered almost ago remains one two cdks without identified cyclin partner knowledge gap largely impeded exploration biological functions act positive cell cycle regulator cells tumor suppressor others interacts v ets erythroblastosis virus oncogene homolog transcription factor inhibits transcriptional activity unknown mechanism knockdown derepresses increases expression c raf protein kinase activates mapk pathway induces resistance cells tamoxifen deorphanize identifying cyclin product binding partner mutations gene predict absence truncation cyclin associated star syndrome whose features include toe syndactyly telecanthus anogenital renal malformations heterozygous females however functions cyclin pathogenesis star syndrome remain unknown show recombinant cyclin heterodimer active protein kinase phosphorylates vitro cyclin silencing phenocopies silencing increasing c raf phospho erk expression levels inducing tamoxifen resistance estrogen receptor er breast cancer cells show cyclin positively controls degradation proteasome phosphorylation two neighboring serines finally detect increased expression level cells derived star patient demonstrate attributable decreased cyclin expression level observed cells previous sectionnext sectionresultsa yeast two hybrid screen unveiled interaction signal mouse protein whose c terminal half presents strong sequence homology human gene product whose proposed name cyclin thus performed mating assays determine whether human interacts human cyclin fig c longest isoform expressed bait protein produced strong interaction phenotype full length cyclin expressed prey protein detectable phenotype cyclin kap known binding partners cdks fig also produced signals cyclin albeit notably weaker observed fig interaction phenotype also observed full length cyclin proteins expressed bait prey respectively fig tested different isoforms cyclin originating alternative gene splicing two truncated cyclin proteins corresponding hypothetical products two mutated genes found star syndrome patients none shorter isoforms produced interaction phenotypes fig c fig fig new window download pptfig cyclin form interaction complex schematic representation different protein isoforms analyzed assays amino acid numbers indicated black boxes indicate internal deletions red box indicates differing amino acid sequence compared b assay set cdk proteins expressed baits fusion lexa dna binding domain cdk interacting proteins expressed preys fusion transcriptional activator empty bait prey plasmids expressing lexa respectively lacz used reporter gene blue yeast indicative interaction phenotype c assay different cyclin isoforms amino terminal region known interact also assayed western blot analysis myc wt kd cycm expression levels transfected cells e western blot analysis myc wt kd immunoprecipitates obtained using anti myc antibody inputs correspond g total lysates obtained cells coexpressing myc wt kd cycm f western blot analysis immunoprecipitates obtained using anti antibody control goat antibody human breast cancer cells input corresponds g total cell lysates lower band doublet observed upper panel comigrates exogenously expressed untagged thus corresponds endogenous upper band doublet corresponds nonspecific signal demonstrated insensitivity either overexpression seen left lane silencing fig another experiment longer gel migration shown fig next examined ability cyclin interact expressed human cells fig e tested wild type wt kinase dead kd mutant bearing amino acid substitution abolishes atp binding expressed cyclin myc wt kd human embryonic kidney cell line expression level cyclin significantly increased upon coexpression myc wt kd lesser extent myc wt kd increased upon coexpression cyclin fig immunoprecipitated myc proteins detected presence cyclin wt kd immunoprecipitates proteins coexpressed pair wise fig confirmed observations detecting presence myc cyclin immunoprecipitates fig experiments confirmed lack robust interaction isoform cyclin fig detect interaction endogenous proteins performed immunoprecipitations nontransfected cells derived human breast cancer cyclin antibodies detected cognate endogenous proteins western blotting readily detected cyclin immunoprecipitates obtained antibody control antibody fig results confirm physical interaction cyclin human cells unveil hypothesized cyclin protein kinase activity produced gst strepii cyclin fusion proteins insect cells either individually combination observed gst strepii cyclin copurified thus confirming interaction yet another cellular model fig performed vitro kinase assays purified proteins using histone generic substrate histone phosphorylation detected lysates cells coexpressing gst strepii cyclin phosphorylation detected gst strepii cyclin expressed alone strepii cyclin coexpressed gst kd fig next investigated whether known interact fig phosphorylation substrate cyclin detected strong phosphorylation gst strepii cyclin purified heterodimer whereas phosphorylation detected using gst alone gst kd strepii cyclin heterodimer fig fig new window download pptfig cyclin dependent protein kinase vitro protein kinase assay histone lysates insect cells expressing different proteins purified glutathione sepharose matrix capture gst wt kd fusion proteins alone complex str cycm fusion protein purified protein expression levels analyzed western blots top upper middle kinase activity determined autoradiography histone whose added amounts visualized coomassie staining lower middle bottom b using purified recombinant substrate silencing shown increase driven c raf transcription activate mapk pathway investigated whether cyclin also involved regulatory pathway aim highly specific silencing used sirna pools mix four different sirnas low final concentration nm cyclin sirna pools silenced expression cognate targets fig c fig interestingly cyclin sirna pool also caused marked decrease protein level fig fig results shown fig suggest cyclin binding stabilizes cyclin silencing induced increase c raf protein mrna levels fig b c phosphorylated protein levels fig similarly silencing expected effects cyclin silencing decreased sensitivity er cells tamoxifen similar extent combined silencing genes result higher resistance drug fig altogether observations demonstrate functional interaction cyclin negatively controls fig new window download pptfig cyclin silencing regulates c raf expression western blot analysis endogenous cyclin expression levels cells response sirna mediated gene silencing b western blot analysis endogenous c raf expression levels cells response cyclin silencing quantification shown fig c quantitative rt pcr analysis cyclin c raf mrna levels response upper cyclin lower silencing p p wished explore mechanism cyclin controls short lived protein degraded proteasome straightforward hypothesis cyclin positively controls degradation thus examined impact cyclin silencing expression levels silencing cyclin caused increase expression levels exogenously expressed flag protein fig well endogenous protein fig increase attributable increased mrna levels marginally fluctuated response cyclin silencing fig examined expression levels flag tagged protein expressed alone combination myc kd without cyclin flag readily detected expressed alone lesser extent coexpressed kd however expression level dramatically decreased coexpressed alone cyclin fig observations suggest endogenous cyclin levels excess compared cells show major decrease levels observed upon coexpression involves kinase activity treatment cells coexpressing flag cyclin proteasome inhibitor largely rescued flag expression levels fig fig new window download pptfig cyclin controls stability human cancer derived cells western blot analysis endogenous expression levels cells response sirna mediated cyclin silencing quantification shown fig b western blot analysis exogenously expressed flag protein levels cells cotransfected empty vectors coexpressing myc wt kd myc cycm latter cells treated h proteasome inhibitor proper expression cyclin tagged proteins verified western blot analysis c western blot analysis expression levels exogenously expressed flag wild type mutant proteins cells absence c response myc cycm expression quantifications shown fig c mass spectrometry analysis recombinant phosphorylated cyclin vitro revealed existence multiple phosphorylated residues among two neighboring phospho serines positions may form phosphodegron figs confirm finding compared phosphorylation level recombinant protein mutant bearing alanine substitutions two serines expected existence multiple phosphorylation sites detected small reproducible significant decrease phosphorylation level compared fig thus confirming phosphorylated cyclin establish direct link phosphorylation cyclin degradation examined expression levels flag absence cyclin coexpression differ significantly flag contrary flag bearing deletion n terminal destruction box previously shown involved apc mediated degradation fig however contrary flag wild type expression level flag remained insensitive cyclin coexpression fig altogether results suggest cyclin directly controls degradation phosphorylation two serines finally studied lymphoblastoid cell line derived patient star syndrome bearing mutation c predicted result aberrant splicing accordance incomplete skewing x chromosome inactivation previously found patient detected decreased expression level cyclin protein star cell line compared control lymphoblastoid cell line line preceding observations detected increased expression level protein star cell line compared control fig fig examined quantitative rt pcr mrna expression levels corresponding genes star cell line showed decreased expression level cyclin mrna expression level mrna similar control cell line fig demonstrate increase protein expression indeed result decreased cyclin expression observed star patient derived cell line expressed cyclin cell line expression caused decrease protein levels fig fig new window download pptfig decreased cyclin expression star patient derived cells results increased protein level western blot analysis cyclin protein levels star patient derived lymphoblastoid cell line control lymphoblastoid cell line derived healthy individual quantification shown fig b quantitative rt pcr analysis cyclin mrna levels cells p c western blot analysis protein levels star patient derived lymphoblastoid cell line transfected empty vector vector directing expression cyclin another western blot revealing endogenously exogenously expressed cyclin levels shown fig quantification protein levels shown fig previous sectionnext sectiondiscussionin work unveil interaction last orphan cdk discovered pregenomic era cyclin cyclin associated human genetic disease far whose functions remain unknown closest paralogs within cdk family proteins interact l type cyclins interestingly closest paralog cyclins within cyclin family cyclin fig fact none shorter isoforms interact robustly cyclin suggests alternative splicing gene plays important role regulating functions functional relevance interaction cyclin supported different observations proteins seem enhance stability judged increased expression levels partner exogenously coexpressed fig much reduced endogenous expression level observed response cyclin silencing fig fig subject ubiquitin mediated degradation observations suggest cyclin protects degradation cyclin partner least cells also suggest cyclin stability enhanced upon binding independently kinase activity seen cyclin c uncover cyclin dependent protein kinase activity vitro thus demonstrating protein named cdk sole basis amino acid sequence indeed genuine cyclin dependent kinase assays reveal truncated cyclin proteins corresponding hypothetical products two star syndrome associated mutations produce interaction phenotype hence regardless whether mutated mrnas undergo nonsense mediated decay suggested decreased cyclin mrna levels star cells shown fig give rise truncated cyclin proteins females affected star syndrome must exhibit compromised cyclin kinase activity least tissues specific developmental stages show known interactor phosphorylation substrate cyclin vitro cyclin kinase activity positively controls degradation proteasome control seems exerted fine mechanism judged sensitivity levels partially decreased cyclin levels achieved cells observed star cells respectively findings offer straightforward explanation already reported regulation driven transcription c raf response silencing bring evidence cyclin directly controls degradation phosphorylation two neighboring serines may form noncanonical trcp phosphodegron dsmcpas none two serines precede proline conform usual cdk phosphorylation sites however multiple called transcriptional cdks may belong fig shown phosphorylate variety motifs non proline directed fashion especially context molecular docking substrate hypothesized high affinity interaction pointed domain fig would allow docking mediated phosphorylation atypical sites control degradation involves number players including apc cullin ring ligase formal identification ubiquitin ligase involved cyclin pathway elucidation concerted action ubiquitin ligases regulate degradation require studies results present number significant biological medical implications first shed light regulation plays important role development frequently deregulated many cancers second results contribute understanding molecular mechanisms causing tamoxifen resistance associated reduced expression levels suggest like cyclin could also predictive clinical marker hormone therapy response er positive breast cancer patients third findings offer interesting hypothesis molecular mechanisms underlying star syndrome transgenic mice showing less twofold overexpression present severe cranial abnormalities observed star patients could thus caused least part increased protein levels another expected consequence enhanced expression levels would decreased risk develop certain types cancers increased risk develop others studies various mouse models including models syndrome three copies exist revealed dosage repress promote tumor growth hence exerts noncell autonomous functions cancer intringuingly one star patients identified far diagnosed nephroblastoma finally findings facilitate general exploration biological functions particular role control cell division previous studies suggested either positive role cell cycle control tumor suppressive activity cancers severe growth retardation exhibited star patients strongly suggests cyclin plays important role control cell proliferation previous sectionnext sectionmaterials methodscloning cyclin cdnas plasmid constructions tamoxifen response analysis quantitative rt pcr mass spectrometry experiments antibody production detailed si materials methods yeast two hybrid interaction assays performed yeast interaction mating assays previously described mammalian cell cultures transfections grew human cells dmem supplemented vol vol fbs invitrogen grew lymphoblastoid cells rpmi glutamax supplemented vol vol fbs transfected cells using lipofectamine invitrogen plasmids lipofectamine rnaimax invitrogen sirnas jetprime polyplus plasmids sirnas combinations according manufacturers instructions transfected lymphoblastoid cells electroporation neon invitrogen stability studies treated cells h transfection fisher scientific h coimmunoprecipitation western blot experiments collected cells scraping pbs centrifugation lymphoblastoid cells lysed sonication lysis buffer containing mm glycerophosphate mm p nitrophenylphosphate mm n morpholino propanesulfonic acid mops ph mm egta mm mm na vanadate mm naf phenylphosphate nonidet p protease inhibitor mixture roche spun lysates min g c collected supernatants determined protein content using bradford assay performed immunoprecipitation experiments g total proteins lysis buffer precleared lysates l protein g agarose beads incubated h c rotating wheel added g antibody supernatants incubated h c rotating wheel added l protein g agarose beads incubated h c rotating wheel collected beads centrifugation g c washed three times bead buffer containing mm tris ph mm naf mm nacl mm edta mm egta nonidet p protease inhibitor coktail roche directly added sample buffer washed pellets heat denatured proteins ran samples bis tris sds page transferred proteins onto hybond nitrocellulose membranes processed blots according standard procedures western blot experiments used following primary antibodies anti myc abcam anti invitrogen anti tubulin santa cruz biotechnology b anti covalab santa cruz biotechnology c anti cycm home made dilution covalab p dilution anti santa cruz biotechnology c anti santa cruz biotechnology c anti flag sigma anti actin sigma used hrp coupled anti goat santa cruz biotechnology sc dilution anti mouse bio rad dilution anti rabbit bio rad secondary antibodies revealed blots enhanced chemiluminescence supersignal west femto thermo scientific production purification recombinant proteins gst kd strepii cycm generated recombinant bacmids escherichia coli baculoviruses cells using bac bac system described provider invitrogen infected cells gst gst producing viruses coinfected cells strepii cycm producing viruses collected cells h infection purify gst fusion proteins spun ml cells resuspended pellet ml lysis buffer pbs mm nacl nonidet p mm naf mm glycerophosphate mm na vanadate containing protease inhibitor mixture roche lysed cells sonication spun lysate min g collected soluble fraction added ml glutathione sepharose matrix incubated h c washed four times lysis buffer one time kinase buffer see finally resuspended beads l kinase buffer containing vol vol glycerol storage transformed novagen expression vector induced expression mm isopropyl thiogalactopyranoside h c purify spun ml cells resuspended pellet ml lysis buffer pbs mm nacl mm imidazole mm dtt nonidet p containing protease inhibitor mixture without edta roche lysed cells bar using cell disruptor spun lysate min g collected soluble fraction added l cobalt beads thermo scientific h incubation c rotating wheel washed four times lysis buffer elute incubated beads min elution buffer pbs mm imidazole ph containing protease inhibitor mixture spun g collected eluted protein protein kinase assays mixed glutathione sepharose beads harboring gst wt kd either monomeric complexed strepii cycm bsa mm dtt atp ci atp histone added kinase buffer mm tris hcl mm mm egta mm dtt heparin ph total volume l incubated reactions min c added laemli sample buffer heat denatured samples ran bis tris sds page cut gel slices detect gst strepii cycm western blotting stained gel slices containing substrate coomassie r bio rad dried detected incorporated radioactivity autoradiography identified four unrelated girls anogenital renal malformations dysmorphic facial features normal intellect syndactyly toes similar combination features reported previously mother daughter table supplementary note online authors noted clinical overlap townes brocks syndrome suggested phenotype represented separate autosomal dominant entity define cardinal features syndrome characteristic facial appearance apparent telecanthus broad tripartite nasal tip variable syndactyly toes hypoplastic labia anal atresia urogenital malformations fig h also observed variety features table figure clinical molecular characterization star syndrome figure clinical molecular characterization star syndrome f facial appearances cases apparent telecanthus dysplastic ears thin upper lips c e toe syndactyly b f cases illustrate recognizable features star syndrome specific parental consent obtained publication photographs anal atresia hypoplastic labia shown g h x ray films feet case showing four rays left delta shaped metatarsals right h compare clinical picture array cgh data ratio represents copy number loss six probes spanning kb one probe positioned within deletion remove parts functional genes j schematic structure position mutations five coding exons boxes cyclin domain green encoded exons horizontal arrow indicates deletion extending case includes exons whereas horizontal line exon indicates deletion found case removes exon sequence pink horizontal bars boxes indicate amplicons used qpcr sequencing one alternative exon amplicon indicated space constraints mutation case results immediate stop codon splice mutations cases predicted deleterious alter conserved splice donor acceptor site intron respectively full size image kb table clinical features star syndrome cases table clinical features star syndrome cases full table basis phenotypic overlap townes brocks okihiro feingold syndromes analyzed ref ref found mutations genes supplementary methods online next carried genome wide high resolution oligonucleotide array comparative genomic hybridization cgh analysis supplementary methods genomic dna severely affected individual case lower lid coloboma epilepsy syringomyelia identified heterozygous deletion kb removed exons fig j using real time pcr confirmed deletion child excluded unaffected parents supplementary fig online supplementary methods supplementary table online cgh customized oligonucleotide array enriched probes followed breakpoint cloning defined exact deletion size bp g chromosome x ncbi build fig supplementary figs online deletion removes coding regions exons well intron bp bp intron bp sequence including utr entire pseudogene ncbi gene id paternity proven using routine methods find deletions overlapping available copy number variation cnv databases subsequently carried qpcr analysis three affected individuals cases mother daughter pair literature cases case detected de novo heterozygous deletion kb overlapping exon supplementary fig online using targeted array cgh breakpoint cloning identified deletion bp g chromosome x ncbi build fig supplementary figs removed bp intron exon including utr bp sequence found heterozygous point mutations remaining cases fig supplementary fig supplementary methods supplementary table case identified mutation affecting splice donor site intron case identified frameshift mutation immediately results premature stop codon cases detected mutation alters splice acceptor site intron validated point mutations deletions independent rounds pcr sequencing qpcr confirmed paternity de novo status point mutations deletions sporadic cases none mutations seen dna unaffected female controls larger deletions involving found unrelated array cgh investigations analyzing x chromosome inactivation supplementary methods supplementary fig online found complete skewing x inactivation cases almost complete skewing case suggesting cells carrying mutation active x chromosome growth disadvantage fetal development using rt pcr rna lymphoblastoid cells case supplementary fig find aberrant splice products additional evidence mutated allele inactivated furthermore subjected x cases parental origin deletions could determined result lack informative snps case mother case gave birth two boys clinically unaffected samples available exclude condition lethal males fetal losses reported families function unknown gene consists five coding exons bp coding region encodes protein amino acids genbank lists mrna length bp reference sequence nm expression gene est data found adult tissues including kidney colon cervix uterus heart ncbi expression viewer unigene hs expression also noted listed tumor tissues well embryo fetus genes homologous ncbi homologene found x chromosome chimpanzee dog zebrafish similar gene chromosome however mouse rat true homologs species similar intronless genes chromosomes mouse rat likely arising retrotransposon insertion event murine x chromosome flanking genes conserved remnants sequence detected contains cyclin box fold domain protein binding domain found cyclins role cell cycle transcription control human phenotype resulting cyclin gene mutation yet reported homozygous knockout mice encoding cyclin viable small reduced lifespan also dystrophic changes retina likely result decreased cell proliferation degeneration photoreceptor cells cyclin colocalizes nucleus proteins cooperatively mediate transcriptional phenotype cases overlaps considerably townes brocks syndrome caused carried co immunoprecipitation find would interact manner similar observed cyclin found interacts supplementary fig online supporting hypothesis participate developmental pathway mutations lead star syndrome growth retardation cases table retinal abnormalities three cases reminiscent reduced body size retinal anomalies cyclin knockout therefore proliferation defect might partly responsible star syndrome address question carried knockdown mrna followed proliferation assay transfection cells three different specific rnai oligonucleotides resulted significant reduction mrna expression proliferation transfected cells supplementary methods supplementary fig online supporting link cell proliferation found loss function mutations result rather homogeneous clinical phenotype additional anomalies case likely result effect kb deletion expression neighboring gene possibly however exclude homogeneous phenotype results ascertainment bias mutations including missense changes could result broader spectrum malformations genes causing overlapping phenotypes star syndrome townes brocks syndrome seem act pathway note mycn gene mutated feingold syndrome direct regulator cyclin refs thus worth exploring whether phenotypic similarities feingold star syndrome might explained direct regulation mycn located approximately mb centromeric duplications overlapping described associated clinical phenotype deletions overlapping observed although genes implicated brain development genes region known result x linked dominant phenotypes thus deletion genes allele might lethal males females'"
            ],
            "application/vnd.google.colaboratory.intrinsic+json": {
              "type": "string"
            }
          },
          "metadata": {},
          "execution_count": 79
        }
      ],
      "source": [
        "df['Text'].iloc[0] #checking the preprocess data"
      ],
      "id": "e35d31f4"
    },
    {
      "cell_type": "markdown",
      "metadata": {
        "id": "b5e3f6dd"
      },
      "source": [
        "### Splitting into Dependent and Independent Variables"
      ],
      "id": "b5e3f6dd"
    },
    {
      "cell_type": "code",
      "source": [
        "X = df[['Gene', 'Variation', 'Text']]\n",
        "y = df['Class']\n",
        "\n"
      ],
      "metadata": {
        "id": "S9Kqo3jpOTJB"
      },
      "id": "S9Kqo3jpOTJB",
      "execution_count": 80,
      "outputs": []
    },
    {
      "cell_type": "code",
      "source": [
        "from sklearn.model_selection import train_test_split\n",
        "X_train_df,X_test_df, y_train, y_test = train_test_split(X, y, test_size= 0.25, stratify = y, random_state = 21)\n"
      ],
      "metadata": {
        "id": "6CRId1YBOVri"
      },
      "id": "6CRId1YBOVri",
      "execution_count": 81,
      "outputs": []
    },
    {
      "cell_type": "code",
      "execution_count": 82,
      "metadata": {
        "colab": {
          "base_uri": "https://localhost:8080/"
        },
        "id": "BG5p5pN2c2T0",
        "outputId": "479553b8-cf63-4c94-92f2-832b1d20504f"
      },
      "outputs": [
        {
          "output_type": "stream",
          "name": "stdout",
          "text": [
            "Requirement already satisfied: category_encoders in /usr/local/lib/python3.10/dist-packages (2.6.3)\n",
            "Requirement already satisfied: numpy>=1.14.0 in /usr/local/lib/python3.10/dist-packages (from category_encoders) (1.23.5)\n",
            "Requirement already satisfied: scikit-learn>=0.20.0 in /usr/local/lib/python3.10/dist-packages (from category_encoders) (1.2.2)\n",
            "Requirement already satisfied: scipy>=1.0.0 in /usr/local/lib/python3.10/dist-packages (from category_encoders) (1.11.3)\n",
            "Requirement already satisfied: statsmodels>=0.9.0 in /usr/local/lib/python3.10/dist-packages (from category_encoders) (0.14.0)\n",
            "Requirement already satisfied: pandas>=1.0.5 in /usr/local/lib/python3.10/dist-packages (from category_encoders) (1.5.3)\n",
            "Requirement already satisfied: patsy>=0.5.1 in /usr/local/lib/python3.10/dist-packages (from category_encoders) (0.5.3)\n",
            "Requirement already satisfied: python-dateutil>=2.8.1 in /usr/local/lib/python3.10/dist-packages (from pandas>=1.0.5->category_encoders) (2.8.2)\n",
            "Requirement already satisfied: pytz>=2020.1 in /usr/local/lib/python3.10/dist-packages (from pandas>=1.0.5->category_encoders) (2023.3.post1)\n",
            "Requirement already satisfied: six in /usr/local/lib/python3.10/dist-packages (from patsy>=0.5.1->category_encoders) (1.16.0)\n",
            "Requirement already satisfied: joblib>=1.1.1 in /usr/local/lib/python3.10/dist-packages (from scikit-learn>=0.20.0->category_encoders) (1.3.2)\n",
            "Requirement already satisfied: threadpoolctl>=2.0.0 in /usr/local/lib/python3.10/dist-packages (from scikit-learn>=0.20.0->category_encoders) (3.2.0)\n",
            "Requirement already satisfied: packaging>=21.3 in /usr/local/lib/python3.10/dist-packages (from statsmodels>=0.9.0->category_encoders) (23.2)\n"
          ]
        }
      ],
      "source": [
        "!pip install category_encoders"
      ],
      "id": "BG5p5pN2c2T0"
    },
    {
      "cell_type": "code",
      "execution_count": 83,
      "metadata": {
        "id": "981eab02"
      },
      "outputs": [],
      "source": [
        "import pandas as pd\n",
        "import category_encoders as ce\n",
        "\n",
        "\n",
        "# Initialize TargetEncoder\n",
        "target_encoder = ce.TargetEncoder(cols=['Gene'])\n",
        "target_encoder1 = ce.TargetEncoder(cols=['Variation'])"
      ],
      "id": "981eab02"
    },
    {
      "cell_type": "code",
      "execution_count": 84,
      "metadata": {
        "id": "F7UFBw14NNvW"
      },
      "outputs": [],
      "source": [
        "# performing the target encoding values to the 'genes' column\n",
        "X_train_df['gene_target_encoded'] = target_encoder.fit_transform(X_train_df['Gene'], y_train)\n",
        "X_test_df['gene_target_encoded'] = target_encoder.transform(X_test_df['Gene'], y_test)"
      ],
      "id": "F7UFBw14NNvW"
    },
    {
      "cell_type": "code",
      "execution_count": 85,
      "metadata": {
        "id": "2578bdd6"
      },
      "outputs": [],
      "source": [
        "# performing the target encoding values to the 'variation column' column\n",
        "X_train_df['variation_target_encoded'] = target_encoder1.fit_transform(X_train_df['Variation'], y_train)\n",
        "X_test_df['variation_target_encoded'] = target_encoder1.transform(X_test_df['Variation'], y_test)"
      ],
      "id": "2578bdd6"
    },
    {
      "cell_type": "code",
      "execution_count": 86,
      "metadata": {
        "id": "6496ffe9"
      },
      "outputs": [],
      "source": [
        "#dropping the unnecessary columns and rows\n",
        "X_train_data = X_train_df.drop(['Gene', 'Variation'], axis = 1)\n",
        "X_test_data = X_test_df.drop(['Gene', 'Variation'], axis = 1)\n"
      ],
      "id": "6496ffe9"
    },
    {
      "cell_type": "code",
      "execution_count": 87,
      "metadata": {
        "id": "36d634c9"
      },
      "outputs": [],
      "source": [
        "#splitting all the columns\n",
        "X_train_text = X_train_data['Text']\n",
        "X_test_text = X_test_data['Text']\n",
        "\n",
        "#applying vectorizer to text\n",
        "vectorizer = TfidfVectorizer(min_df = 3)\n",
        "X_train_text_vectorized = vectorizer.fit_transform(X_train_text)\n",
        "X_test_text_vectorized = vectorizer.transform(X_test_text)"
      ],
      "id": "36d634c9"
    },
    {
      "cell_type": "code",
      "execution_count": 88,
      "metadata": {
        "id": "5a61bdf0"
      },
      "outputs": [],
      "source": [
        "train_text_df = pd.DataFrame(X_train_text_vectorized.toarray(), columns=vectorizer.get_feature_names_out())  #converting to pandas dataframe\n",
        "test_text_df = pd.DataFrame(X_test_text_vectorized.toarray(), columns=vectorizer.get_feature_names_out())  #converting to pandas dataframe"
      ],
      "id": "5a61bdf0"
    },
    {
      "cell_type": "code",
      "execution_count": 89,
      "metadata": {
        "id": "483a5110"
      },
      "outputs": [],
      "source": [
        "#concate the whole dataframe for the X_data\n",
        "X_tem = X_train_data[['gene_target_encoded', 'variation_target_encoded']].reset_index(drop = True)\n",
        "X_tem_test = X_test_data[['gene_target_encoded', 'variation_target_encoded']].reset_index(drop = True)\n",
        "X_train = pd.concat([train_text_df, X_tem], axis=1)\n",
        "X_test = pd.concat([test_text_df, X_tem_test], axis=1)"
      ],
      "id": "483a5110"
    },
    {
      "cell_type": "markdown",
      "metadata": {
        "id": "9667f1cc"
      },
      "source": [
        "## Building a Machine Learning Model"
      ],
      "id": "9667f1cc"
    },
    {
      "cell_type": "code",
      "execution_count": 90,
      "metadata": {
        "id": "hav_Dufwqm55"
      },
      "outputs": [],
      "source": [
        "from sklearn.metrics import precision_score, recall_score, f1_score, accuracy_score, confusion_matrix"
      ],
      "id": "hav_Dufwqm55"
    },
    {
      "cell_type": "code",
      "source": [
        "#svc\n",
        "from sklearn.svm import SVC\n",
        "SVM_class = SVC(C=100, gamma=1,random_state =42,probability=True)\n",
        "SVM_class.fit(X_train, y_train)\n",
        "y_pred_svc = SVM_class.predict(X_test)\n",
        "y_pred_proba_svc = SVM_class.predict_proba(X_test)\n",
        "print('Recall score : ', recall_score(y_test, y_pred_svc, average='weighted'))\n",
        "print('f1 score : ', f1_score(y_test, y_pred_svc, average='weighted'))\n",
        "print('log loss : ', log_loss(y_test, y_pred_proba_svc))"
      ],
      "metadata": {
        "colab": {
          "base_uri": "https://localhost:8080/"
        },
        "id": "yO4ipfQ8pASt",
        "outputId": "b99ff2e4-7fb9-4a93-c2b8-034c75cf39f7"
      },
      "id": "yO4ipfQ8pASt",
      "execution_count": 91,
      "outputs": [
        {
          "output_type": "stream",
          "name": "stdout",
          "text": [
            "Recall score :  0.35018050541516244\n",
            "f1 score :  0.3084734780528804\n",
            "log loss :  2.276071862504587\n"
          ]
        }
      ]
    },
    {
      "cell_type": "code",
      "source": [
        "#Random Forest classifier\n",
        "from sklearn.ensemble import RandomForestClassifier\n",
        "RF_classifier = RandomForestClassifier(n_estimators = 1000, random_state =42, min_samples_split = 2, min_samples_leaf = 1)\n",
        "RF_classifier.fit(X_train, y_train)\n",
        "y_pred_rf = RF_classifier.predict(X_test)\n",
        "y_pred_proba_rf = RF_classifier.predict_proba(X_test)\n",
        "print('Recall score : ', recall_score(y_test, y_pred_rf, average='weighted'))\n",
        "print('f1 score : ', f1_score(y_test, y_pred_rf, average='weighted'))\n",
        "print('log loss : ', log_loss(y_test, y_pred_proba_rf))"
      ],
      "metadata": {
        "colab": {
          "base_uri": "https://localhost:8080/"
        },
        "id": "c4AEaxsB0kst",
        "outputId": "9d9803ac-7c48-43f9-f16f-27150caf79d8"
      },
      "id": "c4AEaxsB0kst",
      "execution_count": 92,
      "outputs": [
        {
          "output_type": "stream",
          "name": "stdout",
          "text": [
            "Recall score :  0.6534296028880866\n",
            "f1 score :  0.6390574389220575\n",
            "log loss :  1.7959161528452896\n"
          ]
        }
      ]
    },
    {
      "cell_type": "code",
      "source": [
        "from sklearn.model_selection import GridSearchCV\n",
        "from sklearn.ensemble import RandomForestClassifier\n",
        "from sklearn.model_selection import train_test_split\n",
        "from sklearn.metrics import make_scorer, recall_score, log_loss\n",
        "import numpy as np\n",
        "\n",
        "\n",
        "# Define the parameters for the grid search\n",
        "param_grid = {\n",
        "    'n_estimators': [100, 200, 300],  # Different number of trees\n",
        "    'max_depth': [None, 5, 10, 15],   # Maximum depth of the trees\n",
        "    'min_samples_split': [2, 5, 10],  # Minimum samples required to split a node\n",
        "    'min_samples_leaf': [1, 2, 4]     # Minimum number of samples required at each leaf node\n",
        "}\n",
        "\n",
        "# Create a Random Forest Classifier instance\n",
        "rf = RandomForestClassifier(random_state=42)\n",
        "\n",
        "# Define scoring metrics (recall and neg_log_loss)\n",
        "scoring = {\n",
        "    'Recall': make_scorer(recall_score),\n",
        "    'Log_Loss': make_scorer(log_loss, greater_is_better=False, needs_proba=True)\n",
        "}\n",
        "\n",
        "# Perform GridSearchCV with cross-validation using the specified scoring metrics\n",
        "grid_search = GridSearchCV(estimator=rf, param_grid=param_grid, cv=5, scoring=scoring, refit='Log_Loss', n_jobs=-1)\n",
        "grid_search.fit(X_train, y_train)\n",
        "\n",
        "# Retrieve the best parameters and best scores for Recall and Log Loss\n",
        "best_params = grid_search.best_params_\n",
        "\n",
        "# Get the best model\n",
        "best_rf_model = grid_search.best_estimator_\n",
        "\n",
        "#printing the best model\n",
        "print('best_model :', best_rf_model)\n",
        "\n",
        "# Evaluate the best model on the test set\n",
        "test_accuracy = best_rf_model.score(X_test, y_test)\n",
        "print(\"Test Accuracy of Best Model:\", test_accuracy)\n",
        "\n",
        "# Evaluate the best model on test set using Recall and Log Loss\n",
        "y_pred_best = best_rf_model.predict(X_test)\n",
        "y_pred_proba_best = best_rf_model.predict_proba(X_test)\n",
        "test_recall = recall_score(y_test, y_pred_best, average = 'weighted')\n",
        "test_log_loss = log_loss(y_test, y_pred_proba_best)\n",
        "\n",
        "print(\"Test Recall of Best Model:\", test_recall)\n",
        "print(\"Test Log Loss of Best Model:\", test_log_loss)\n"
      ],
      "metadata": {
        "id": "723e7ppqHjOp",
        "colab": {
          "base_uri": "https://localhost:8080/"
        },
        "outputId": "075e9f47-03aa-47d0-ab03-70a9cd0aacd8"
      },
      "id": "723e7ppqHjOp",
      "execution_count": 93,
      "outputs": [
        {
          "output_type": "stream",
          "name": "stdout",
          "text": [
            "best_model : RandomForestClassifier(max_depth=15, n_estimators=300, random_state=42)\n",
            "Test Accuracy of Best Model: 0.6630565583634176\n",
            "Test Recall of Best Model: 0.6630565583634176\n",
            "Test Log Loss of Best Model: 1.0659842065763316\n"
          ]
        }
      ]
    },
    {
      "cell_type": "code",
      "source": [
        "model = grid_search.best_estimator_  # best model\n",
        "model"
      ],
      "metadata": {
        "colab": {
          "base_uri": "https://localhost:8080/",
          "height": 74
        },
        "id": "tJhY8r8FC1lY",
        "outputId": "ca5f013b-2fc3-481d-8b48-303150529ba7"
      },
      "id": "tJhY8r8FC1lY",
      "execution_count": 94,
      "outputs": [
        {
          "output_type": "execute_result",
          "data": {
            "text/plain": [
              "RandomForestClassifier(max_depth=15, n_estimators=300, random_state=42)"
            ],
            "text/html": [
              "<style>#sk-container-id-3 {color: black;background-color: white;}#sk-container-id-3 pre{padding: 0;}#sk-container-id-3 div.sk-toggleable {background-color: white;}#sk-container-id-3 label.sk-toggleable__label {cursor: pointer;display: block;width: 100%;margin-bottom: 0;padding: 0.3em;box-sizing: border-box;text-align: center;}#sk-container-id-3 label.sk-toggleable__label-arrow:before {content: \"▸\";float: left;margin-right: 0.25em;color: #696969;}#sk-container-id-3 label.sk-toggleable__label-arrow:hover:before {color: black;}#sk-container-id-3 div.sk-estimator:hover label.sk-toggleable__label-arrow:before {color: black;}#sk-container-id-3 div.sk-toggleable__content {max-height: 0;max-width: 0;overflow: hidden;text-align: left;background-color: #f0f8ff;}#sk-container-id-3 div.sk-toggleable__content pre {margin: 0.2em;color: black;border-radius: 0.25em;background-color: #f0f8ff;}#sk-container-id-3 input.sk-toggleable__control:checked~div.sk-toggleable__content {max-height: 200px;max-width: 100%;overflow: auto;}#sk-container-id-3 input.sk-toggleable__control:checked~label.sk-toggleable__label-arrow:before {content: \"▾\";}#sk-container-id-3 div.sk-estimator input.sk-toggleable__control:checked~label.sk-toggleable__label {background-color: #d4ebff;}#sk-container-id-3 div.sk-label input.sk-toggleable__control:checked~label.sk-toggleable__label {background-color: #d4ebff;}#sk-container-id-3 input.sk-hidden--visually {border: 0;clip: rect(1px 1px 1px 1px);clip: rect(1px, 1px, 1px, 1px);height: 1px;margin: -1px;overflow: hidden;padding: 0;position: absolute;width: 1px;}#sk-container-id-3 div.sk-estimator {font-family: monospace;background-color: #f0f8ff;border: 1px dotted black;border-radius: 0.25em;box-sizing: border-box;margin-bottom: 0.5em;}#sk-container-id-3 div.sk-estimator:hover {background-color: #d4ebff;}#sk-container-id-3 div.sk-parallel-item::after {content: \"\";width: 100%;border-bottom: 1px solid gray;flex-grow: 1;}#sk-container-id-3 div.sk-label:hover label.sk-toggleable__label {background-color: #d4ebff;}#sk-container-id-3 div.sk-serial::before {content: \"\";position: absolute;border-left: 1px solid gray;box-sizing: border-box;top: 0;bottom: 0;left: 50%;z-index: 0;}#sk-container-id-3 div.sk-serial {display: flex;flex-direction: column;align-items: center;background-color: white;padding-right: 0.2em;padding-left: 0.2em;position: relative;}#sk-container-id-3 div.sk-item {position: relative;z-index: 1;}#sk-container-id-3 div.sk-parallel {display: flex;align-items: stretch;justify-content: center;background-color: white;position: relative;}#sk-container-id-3 div.sk-item::before, #sk-container-id-3 div.sk-parallel-item::before {content: \"\";position: absolute;border-left: 1px solid gray;box-sizing: border-box;top: 0;bottom: 0;left: 50%;z-index: -1;}#sk-container-id-3 div.sk-parallel-item {display: flex;flex-direction: column;z-index: 1;position: relative;background-color: white;}#sk-container-id-3 div.sk-parallel-item:first-child::after {align-self: flex-end;width: 50%;}#sk-container-id-3 div.sk-parallel-item:last-child::after {align-self: flex-start;width: 50%;}#sk-container-id-3 div.sk-parallel-item:only-child::after {width: 0;}#sk-container-id-3 div.sk-dashed-wrapped {border: 1px dashed gray;margin: 0 0.4em 0.5em 0.4em;box-sizing: border-box;padding-bottom: 0.4em;background-color: white;}#sk-container-id-3 div.sk-label label {font-family: monospace;font-weight: bold;display: inline-block;line-height: 1.2em;}#sk-container-id-3 div.sk-label-container {text-align: center;}#sk-container-id-3 div.sk-container {/* jupyter's `normalize.less` sets `[hidden] { display: none; }` but bootstrap.min.css set `[hidden] { display: none !important; }` so we also need the `!important` here to be able to override the default hidden behavior on the sphinx rendered scikit-learn.org. See: https://github.com/scikit-learn/scikit-learn/issues/21755 */display: inline-block !important;position: relative;}#sk-container-id-3 div.sk-text-repr-fallback {display: none;}</style><div id=\"sk-container-id-3\" class=\"sk-top-container\"><div class=\"sk-text-repr-fallback\"><pre>RandomForestClassifier(max_depth=15, n_estimators=300, random_state=42)</pre><b>In a Jupyter environment, please rerun this cell to show the HTML representation or trust the notebook. <br />On GitHub, the HTML representation is unable to render, please try loading this page with nbviewer.org.</b></div><div class=\"sk-container\" hidden><div class=\"sk-item\"><div class=\"sk-estimator sk-toggleable\"><input class=\"sk-toggleable__control sk-hidden--visually\" id=\"sk-estimator-id-3\" type=\"checkbox\" checked><label for=\"sk-estimator-id-3\" class=\"sk-toggleable__label sk-toggleable__label-arrow\">RandomForestClassifier</label><div class=\"sk-toggleable__content\"><pre>RandomForestClassifier(max_depth=15, n_estimators=300, random_state=42)</pre></div></div></div></div></div>"
            ]
          },
          "metadata": {},
          "execution_count": 94
        }
      ]
    },
    {
      "cell_type": "code",
      "source": [
        "from sklearn.metrics import confusion_matrix\n",
        "con = confusion_matrix(y_test, y_pred_best)\n",
        "con"
      ],
      "metadata": {
        "colab": {
          "base_uri": "https://localhost:8080/"
        },
        "id": "ZE3eDq2N4Mt3",
        "outputId": "a3f20426-9a5c-4bd5-e1b9-fab038107179"
      },
      "id": "ZE3eDq2N4Mt3",
      "execution_count": 95,
      "outputs": [
        {
          "output_type": "execute_result",
          "data": {
            "text/plain": [
              "array([[ 62,   2,   0,  43,  19,   0,  16,   0,   0],\n",
              "       [  5,  43,   0,   5,   2,   2,  56,   0,   0],\n",
              "       [  1,   0,   3,   5,   6,   0,   7,   0,   0],\n",
              "       [ 14,   0,   0, 144,   1,   0,  13,   0,   0],\n",
              "       [  5,   3,   1,   5,  37,   1,   9,   0,   0],\n",
              "       [  3,   1,   0,   8,   7,  42,   8,   0,   0],\n",
              "       [  0,  10,   4,   3,   5,   1, 215,   0,   0],\n",
              "       [  0,   0,   0,   2,   0,   0,   2,   1,   0],\n",
              "       [  1,   0,   0,   1,   0,   0,   3,   0,   4]])"
            ]
          },
          "metadata": {},
          "execution_count": 95
        }
      ]
    },
    {
      "cell_type": "code",
      "source": [
        "#display the confusion matrix\n",
        "import seaborn as sns\n",
        "sns.heatmap(con, annot = True, cmap = 'Blues')"
      ],
      "metadata": {
        "colab": {
          "base_uri": "https://localhost:8080/",
          "height": 447
        },
        "id": "Hac0jMI4GwE4",
        "outputId": "6492de73-cc83-4d48-ea1a-0f170a4034a6"
      },
      "id": "Hac0jMI4GwE4",
      "execution_count": 96,
      "outputs": [
        {
          "output_type": "execute_result",
          "data": {
            "text/plain": [
              "<Axes: >"
            ]
          },
          "metadata": {},
          "execution_count": 96
        },
        {
          "output_type": "display_data",
          "data": {
            "text/plain": [
              "<Figure size 640x480 with 2 Axes>"
            ],
            "image/png": "[encoded data removed]"
          },
          "metadata": {}
        }
      ]
    },
    {
      "cell_type": "code",
      "source": [
        "import pickle"
      ],
      "metadata": {
        "id": "-Dx2Y22JDpPw"
      },
      "id": "-Dx2Y22JDpPw",
      "execution_count": 97,
      "outputs": []
    },
    {
      "cell_type": "code",
      "source": [
        "with open('model_pickle', 'wb') as f:\n",
        "  pickle.dump(model, f)"
      ],
      "metadata": {
        "id": "j47JjmJmlKYO"
      },
      "id": "j47JjmJmlKYO",
      "execution_count": 98,
      "outputs": []
    },
    {
      "cell_type": "code",
      "source": [
        "import joblib\n",
        "joblib.dump(model, 'model_joblib')"
      ],
      "metadata": {
        "colab": {
          "base_uri": "https://localhost:8080/"
        },
        "id": "spu3jN30lWO6",
        "outputId": "29b8fd36-edd9-4f61-a04d-4f417bc5c2ab"
      },
      "id": "spu3jN30lWO6",
      "execution_count": 101,
      "outputs": [
        {
          "output_type": "execute_result",
          "data": {
            "text/plain": [
              "['model_joblib']"
            ]
          },
          "metadata": {},
          "execution_count": 101
        }
      ]
    },
    {
      "cell_type": "code",
      "source": [],
      "metadata": {
        "id": "_k8sdsLZljxH"
      },
      "id": "_k8sdsLZljxH",
      "execution_count": null,
      "outputs": []
    }
  ],
  "metadata": {
    "colab": {
      "provenance": []
    },
    "kernelspec": {
      "display_name": "Python 3",
      "name": "python3"
    },
    "language_info": {
      "codemirror_mode": {
        "name": "ipython",
        "version": 3
      },
      "file_extension": ".py",
      "mimetype": "text/x-python",
      "name": "python",
      "nbconvert_exporter": "python",
      "pygments_lexer": "ipython3",
      "version": "3.9.7"
    }
  },
  "nbformat": 4,
  "nbformat_minor": 5
}