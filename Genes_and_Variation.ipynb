{
  "cells": [
    {
      "cell_type": "code",
      "execution_count": 1,
      "metadata": {
        "id": "ui9ZpGttb72e"
      },
      "outputs": [],
      "source": [
        "import pandas as pd"
      ]
    },
    {
      "cell_type": "code",
      "execution_count": null,
      "metadata": {
        "colab": {
          "base_uri": "https://localhost:8080/"
        },
        "id": "gnxKg_ZecA6V",
        "outputId": "709bddf2-636f-491c-932a-a89c64bff323"
      },
      "outputs": [],
      "source": []
    },
    {
      "cell_type": "code",
      "execution_count": 2,
      "metadata": {
        "id": "bh7BMcLvcODU"
      },
      "outputs": [],
      "source": [
        "df =pd.read_csv(\"data.csv\")  #loading the dataset"
      ]
    },
    {
      "cell_type": "code",
      "execution_count": 3,
      "metadata": {
        "colab": {
          "base_uri": "https://localhost:8080/",
          "height": 206
        },
        "id": "E6zMimPrccSz",
        "outputId": "48266403-a8a3-453f-8089-edfe1efdf590"
      },
      "outputs": [
        {
          "data": {
            "text/html": [
              "<div>\n",
              "<style scoped>\n",
              "    .dataframe tbody tr th:only-of-type {\n",
              "        vertical-align: middle;\n",
              "    }\n",
              "\n",
              "    .dataframe tbody tr th {\n",
              "        vertical-align: top;\n",
              "    }\n",
              "\n",
              "    .dataframe thead th {\n",
              "        text-align: right;\n",
              "    }\n",
              "</style>\n",
              "<table border=\"1\" class=\"dataframe\">\n",
              "  <thead>\n",
              "    <tr style=\"text-align: right;\">\n",
              "      <th></th>\n",
              "      <th>Unnamed: 0</th>\n",
              "      <th>ID</th>\n",
              "      <th>Gene</th>\n",
              "      <th>Variation</th>\n",
              "      <th>Class</th>\n",
              "      <th>Text</th>\n",
              "    </tr>\n",
              "  </thead>\n",
              "  <tbody>\n",
              "    <tr>\n",
              "      <th>0</th>\n",
              "      <td>0</td>\n",
              "      <td>0</td>\n",
              "      <td>FAM58A</td>\n",
              "      <td>Truncating Mutations</td>\n",
              "      <td>1</td>\n",
              "      <td>Cyclin-dependent kinases (CDKs) regulate a var...</td>\n",
              "    </tr>\n",
              "    <tr>\n",
              "      <th>1</th>\n",
              "      <td>1</td>\n",
              "      <td>1</td>\n",
              "      <td>CBL</td>\n",
              "      <td>W802*</td>\n",
              "      <td>2</td>\n",
              "      <td>Abstract Background  Non-small cell lung canc...</td>\n",
              "    </tr>\n",
              "    <tr>\n",
              "      <th>2</th>\n",
              "      <td>2</td>\n",
              "      <td>2</td>\n",
              "      <td>CBL</td>\n",
              "      <td>Q249E</td>\n",
              "      <td>2</td>\n",
              "      <td>Abstract Background  Non-small cell lung canc...</td>\n",
              "    </tr>\n",
              "    <tr>\n",
              "      <th>3</th>\n",
              "      <td>3</td>\n",
              "      <td>3</td>\n",
              "      <td>CBL</td>\n",
              "      <td>N454D</td>\n",
              "      <td>3</td>\n",
              "      <td>Recent evidence has demonstrated that acquired...</td>\n",
              "    </tr>\n",
              "    <tr>\n",
              "      <th>4</th>\n",
              "      <td>4</td>\n",
              "      <td>4</td>\n",
              "      <td>CBL</td>\n",
              "      <td>L399V</td>\n",
              "      <td>4</td>\n",
              "      <td>Oncogenic mutations in the monomeric Casitas B...</td>\n",
              "    </tr>\n",
              "  </tbody>\n",
              "</table>\n",
              "</div>"
            ],
            "text/plain": [
              "   Unnamed: 0  ID    Gene             Variation  Class  \\\n",
              "0           0   0  FAM58A  Truncating Mutations      1   \n",
              "1           1   1     CBL                 W802*      2   \n",
              "2           2   2     CBL                 Q249E      2   \n",
              "3           3   3     CBL                 N454D      3   \n",
              "4           4   4     CBL                 L399V      4   \n",
              "\n",
              "                                                Text  \n",
              "0  Cyclin-dependent kinases (CDKs) regulate a var...  \n",
              "1   Abstract Background  Non-small cell lung canc...  \n",
              "2   Abstract Background  Non-small cell lung canc...  \n",
              "3  Recent evidence has demonstrated that acquired...  \n",
              "4  Oncogenic mutations in the monomeric Casitas B...  "
            ]
          },
          "execution_count": 3,
          "metadata": {},
          "output_type": "execute_result"
        }
      ],
      "source": [
        "df.head()"
      ]
    },
    {
      "cell_type": "code",
      "execution_count": 4,
      "metadata": {
        "id": "cWUCwkHWcVMR"
      },
      "outputs": [],
      "source": [
        "gene = df['Gene'].unique()"
      ]
    },
    {
      "cell_type": "code",
      "execution_count": 5,
      "metadata": {
        "colab": {
          "base_uri": "https://localhost:8080/"
        },
        "id": "n-qeNJm1caYY",
        "outputId": "c56e6e75-0d54-4742-beed-0b4d111df333"
      },
      "outputs": [
        {
          "data": {
            "text/plain": [
              "array(['FAM58A', 'CBL', 'SHOC2', 'TERT', 'DICER1', 'PTPRT', 'RHEB',\n",
              "       'SHQ1', 'CCND2', 'RAD50', 'CCND3', 'RIT1', 'CCNE1', 'RYBP',\n",
              "       'TGFBR1', 'TGFBR2', 'MSH6', 'KMT2D', 'LATS1', 'PBRM1', 'SF3B1',\n",
              "       'LATS2', 'EGFR', 'NKX2-1', 'EIF1AX', 'ARID2', 'BRD4', 'HIST1H1C',\n",
              "       'ERRFI1', 'CHEK2', 'PAK1', 'TMPRSS2', 'H3F3A', 'ELF3', 'ROS1',\n",
              "       'ASXL2', 'CDH1', 'EPCAM', 'EP300', 'EPAS1', 'TP53', 'TP53BP1',\n",
              "       'SMAD2', 'SMAD3', 'SMAD4', 'CDK4', 'AURKB', 'CDK6', 'FBXW7',\n",
              "       'CDK8', 'CDKN1A', 'CDKN1B', 'CDKN2A', 'CDKN2B', 'CDKN2C', 'ASXL1',\n",
              "       'ERBB2', 'ERBB3', 'ERBB4', 'ERCC2', 'BRIP1', 'ERCC3', 'ERCC4',\n",
              "       'ABL1', 'CEBPA', 'ERG', 'HLA-A', 'HLA-B', 'PDGFRA', 'PDGFRB',\n",
              "       'RBM10', 'KDM5C', 'ESR1', 'ETV1', 'ETV6', 'TSC1', 'IKZF1', 'TSC2',\n",
              "       'EWSR1', 'ACVR1', 'FOXA1', 'MDM2', 'ARID1A', 'EZH2', 'MDM4',\n",
              "       'KLF4', 'RXRA', 'MAP3K1', 'AXIN1', 'BAP1', 'MEN1', 'FANCA',\n",
              "       'FANCC', 'MET', 'U2AF1', 'KMT2C', 'FAT1', 'ARID1B', 'PIK3CA',\n",
              "       'PIK3CB', 'PIM1', 'PIK3CD', 'YAP1', 'PIK3R1', 'PIK3R2', 'ARID5B',\n",
              "       'HRAS', 'MLH1', 'FGF3', 'FGF4', 'KMT2A', 'AKT1', 'AKT2', 'FGFR1',\n",
              "       'FGFR3', 'SPOP', 'FGFR2', 'FGFR4', 'KDM6A', 'ALK', 'SDHB',\n",
              "       'RAD54L', 'SDHC', 'VEGFA', 'MPL', 'PMS1', 'CARM1', 'FOXO1', 'VHL',\n",
              "       'MAP2K4', 'RRAS2', 'FLT1', 'FLT3', 'PMS2', 'SRSF2', 'WHSC1',\n",
              "       'PPM1D', 'POLE', 'KNSTRN', 'PIK3R3', 'APC', 'RICTOR', 'MSH2',\n",
              "       'IDH1', 'IDH2', 'XPO1', 'XRCC2', 'CREBBP', 'AR', 'ARAF', 'RHOA',\n",
              "       'NCOR1', 'PPP2R1A', 'SETD2', 'IGF1R', 'PPP6C', 'CTCF', 'IKBKE',\n",
              "       'MTOR', 'TET1', 'SMARCA4', 'SMARCB1', 'FOXP1', 'SMO', 'CARD11',\n",
              "       'MEF2B', 'CTLA4', 'ATM', 'NUP93', 'MAPK1', 'CTNNB1', 'MAP2K1',\n",
              "       'MAP2K2', 'STAG2', 'IL7R', 'SOS1', 'MYC', 'MYCN', 'SOX9', 'TET2',\n",
              "       'MYD88', 'AGO2', 'KMT2B', 'ATR', 'ATRX', 'CDK12', 'AXL', 'MYOD1',\n",
              "       'B2M', 'SRC', 'GATA3', 'BARD1', 'CCND1', 'BCL2', 'KEAP1', 'PTCH1',\n",
              "       'PTEN', 'BCOR', 'RNF43', 'CIC', 'INPP4B', 'STAT3', 'WHSC1L1',\n",
              "       'PRDM1', 'JAK1', 'JAK2', 'AURKA', 'STK11', 'JUN', 'PTPN11', 'NF1',\n",
              "       'FOXL2', 'PTPRD', 'BRCA1', 'BRAF', 'BRCA2', 'NF2', 'PAX8',\n",
              "       'NFE2L2', 'GLI1', 'FUBP1', 'BTK', 'NFKBIA', 'GNA11', 'KDR',\n",
              "       'BCL10', 'GNAQ', 'GNAS', 'MGA', 'KIT', 'FGF19', 'MED12', 'NOTCH1',\n",
              "       'NOTCH2', 'RAC1', 'DNMT3A', 'DNMT3B', 'RAD21', 'RAD51C', 'RAD51B',\n",
              "       'RAD51D', 'KRAS', 'NPM1', 'RAF1', 'RAB35', 'HNF1A', 'AKT3', 'TCF3',\n",
              "       'TCF7L2', 'RARA', 'NRAS', 'RASA1', 'BCL2L11', 'RB1', 'KDM5A',\n",
              "       'NTRK1', 'NTRK2', 'NTRK3', 'DUSP4', 'DDR2', 'NSD1', 'CASP8', 'RET',\n",
              "       'RUNX1'], dtype=object)"
            ]
          },
          "execution_count": 5,
          "metadata": {},
          "output_type": "execute_result"
        }
      ],
      "source": [
        "gene"
      ]
    },
    {
      "cell_type": "code",
      "execution_count": 6,
      "metadata": {
        "id": "h-pncq3GcsLK"
      },
      "outputs": [],
      "source": [
        "variation = df['Variation'].unique()"
      ]
    },
    {
      "cell_type": "code",
      "execution_count": 7,
      "metadata": {
        "colab": {
          "base_uri": "https://localhost:8080/"
        },
        "id": "dwffMt1zc_Co",
        "outputId": "70b9fb36-8e2c-4353-ceb5-d16c8dd984c0"
      },
      "outputs": [
        {
          "data": {
            "text/plain": [
              "array(['Truncating Mutations', 'W802*', 'Q249E', ..., 'A122*', 'R80C',\n",
              "       'K83E'], dtype=object)"
            ]
          },
          "execution_count": 7,
          "metadata": {},
          "output_type": "execute_result"
        }
      ],
      "source": [
        "variation"
      ]
    },
    {
      "cell_type": "code",
      "execution_count": 8,
      "metadata": {
        "colab": {
          "base_uri": "https://localhost:8080/",
          "height": 802
        },
        "id": "Z3pdDuoSdABy",
        "outputId": "31f2ba16-b16f-4f75-ef70-b298eb63ccb8"
      },
      "outputs": [
        {
          "data": {
            "text/html": [
              "<div>\n",
              "<style scoped>\n",
              "    .dataframe tbody tr th:only-of-type {\n",
              "        vertical-align: middle;\n",
              "    }\n",
              "\n",
              "    .dataframe tbody tr th {\n",
              "        vertical-align: top;\n",
              "    }\n",
              "\n",
              "    .dataframe thead th {\n",
              "        text-align: right;\n",
              "    }\n",
              "</style>\n",
              "<table border=\"1\" class=\"dataframe\">\n",
              "  <thead>\n",
              "    <tr style=\"text-align: right;\">\n",
              "      <th></th>\n",
              "      <th>Unnamed: 0</th>\n",
              "      <th>ID</th>\n",
              "      <th>Gene</th>\n",
              "      <th>Variation</th>\n",
              "      <th>Class</th>\n",
              "      <th>Text</th>\n",
              "    </tr>\n",
              "  </thead>\n",
              "  <tbody>\n",
              "    <tr>\n",
              "      <th>3297</th>\n",
              "      <td>3297</td>\n",
              "      <td>3297</td>\n",
              "      <td>RUNX1</td>\n",
              "      <td>R177*</td>\n",
              "      <td>4</td>\n",
              "      <td>THE AML1 GENE IS KNOWN as the most frequent ta...</td>\n",
              "    </tr>\n",
              "    <tr>\n",
              "      <th>3298</th>\n",
              "      <td>3298</td>\n",
              "      <td>3298</td>\n",
              "      <td>RUNX1</td>\n",
              "      <td>Y113*</td>\n",
              "      <td>4</td>\n",
              "      <td>Introduction  Myelodysplastic syndromes (MDS) ...</td>\n",
              "    </tr>\n",
              "    <tr>\n",
              "      <th>3299</th>\n",
              "      <td>3299</td>\n",
              "      <td>3299</td>\n",
              "      <td>RUNX1</td>\n",
              "      <td>R139G</td>\n",
              "      <td>4</td>\n",
              "      <td>The BCR-ABL fusion protein generated by t(9;22...</td>\n",
              "    </tr>\n",
              "    <tr>\n",
              "      <th>3300</th>\n",
              "      <td>3300</td>\n",
              "      <td>3300</td>\n",
              "      <td>RUNX1</td>\n",
              "      <td>K83N</td>\n",
              "      <td>4</td>\n",
              "      <td>The most frequent mutations associated with le...</td>\n",
              "    </tr>\n",
              "    <tr>\n",
              "      <th>3301</th>\n",
              "      <td>3301</td>\n",
              "      <td>3301</td>\n",
              "      <td>RUNX1</td>\n",
              "      <td>R177Q</td>\n",
              "      <td>4</td>\n",
              "      <td>The most frequent mutations associated with le...</td>\n",
              "    </tr>\n",
              "    <tr>\n",
              "      <th>3302</th>\n",
              "      <td>3302</td>\n",
              "      <td>3302</td>\n",
              "      <td>RUNX1</td>\n",
              "      <td>R166Q</td>\n",
              "      <td>4</td>\n",
              "      <td>Familial platelet disorder with predisposition...</td>\n",
              "    </tr>\n",
              "    <tr>\n",
              "      <th>3303</th>\n",
              "      <td>3303</td>\n",
              "      <td>3303</td>\n",
              "      <td>RUNX1</td>\n",
              "      <td>P173S</td>\n",
              "      <td>4</td>\n",
              "      <td>Introduction  Myelodysplastic syndromes (MDS) ...</td>\n",
              "    </tr>\n",
              "    <tr>\n",
              "      <th>3304</th>\n",
              "      <td>3304</td>\n",
              "      <td>3304</td>\n",
              "      <td>RUNX1</td>\n",
              "      <td>R201Q</td>\n",
              "      <td>4</td>\n",
              "      <td>Familial platelet disorder with predisposition...</td>\n",
              "    </tr>\n",
              "    <tr>\n",
              "      <th>3305</th>\n",
              "      <td>3305</td>\n",
              "      <td>3305</td>\n",
              "      <td>RUNX1</td>\n",
              "      <td>S70fsX93</td>\n",
              "      <td>4</td>\n",
              "      <td>Introduction  Myelodysplastic syndromes (MDS) ...</td>\n",
              "    </tr>\n",
              "    <tr>\n",
              "      <th>3306</th>\n",
              "      <td>3306</td>\n",
              "      <td>3306</td>\n",
              "      <td>RUNX1</td>\n",
              "      <td>W279*</td>\n",
              "      <td>1</td>\n",
              "      <td>Here we report two new RUNX1 mutations in one ...</td>\n",
              "    </tr>\n",
              "    <tr>\n",
              "      <th>3307</th>\n",
              "      <td>3307</td>\n",
              "      <td>3307</td>\n",
              "      <td>RUNX1</td>\n",
              "      <td>Truncating Mutations</td>\n",
              "      <td>1</td>\n",
              "      <td>The RUNX genes have come to prominence recentl...</td>\n",
              "    </tr>\n",
              "    <tr>\n",
              "      <th>3308</th>\n",
              "      <td>3308</td>\n",
              "      <td>3308</td>\n",
              "      <td>RUNX1</td>\n",
              "      <td>R174*</td>\n",
              "      <td>7</td>\n",
              "      <td>Familial platelet disorder with propensity to...</td>\n",
              "    </tr>\n",
              "    <tr>\n",
              "      <th>3309</th>\n",
              "      <td>3309</td>\n",
              "      <td>3309</td>\n",
              "      <td>RUNX1</td>\n",
              "      <td>D171G</td>\n",
              "      <td>1</td>\n",
              "      <td>The BCR-ABL fusion protein generated by t(9;22...</td>\n",
              "    </tr>\n",
              "    <tr>\n",
              "      <th>3310</th>\n",
              "      <td>3310</td>\n",
              "      <td>3310</td>\n",
              "      <td>RUNX1</td>\n",
              "      <td>Amplification</td>\n",
              "      <td>7</td>\n",
              "      <td>RUNX proteins belong to a family of metazoan t...</td>\n",
              "    </tr>\n",
              "    <tr>\n",
              "      <th>3311</th>\n",
              "      <td>3311</td>\n",
              "      <td>3311</td>\n",
              "      <td>RUNX1</td>\n",
              "      <td>RUNX1-EVI1 Fusion</td>\n",
              "      <td>4</td>\n",
              "      <td>The AML1/EVI-1 chimeric gene is generated by t...</td>\n",
              "    </tr>\n",
              "    <tr>\n",
              "      <th>3312</th>\n",
              "      <td>3312</td>\n",
              "      <td>3312</td>\n",
              "      <td>RUNX1</td>\n",
              "      <td>TEL-RUNX1 Fusion</td>\n",
              "      <td>4</td>\n",
              "      <td>Balanced chromosomal translocations are freque...</td>\n",
              "    </tr>\n",
              "    <tr>\n",
              "      <th>3313</th>\n",
              "      <td>3313</td>\n",
              "      <td>3313</td>\n",
              "      <td>RUNX1</td>\n",
              "      <td>H78Q</td>\n",
              "      <td>4</td>\n",
              "      <td>The BCR-ABL fusion protein generated by t(9;22...</td>\n",
              "    </tr>\n",
              "    <tr>\n",
              "      <th>3314</th>\n",
              "      <td>3314</td>\n",
              "      <td>3314</td>\n",
              "      <td>RUNX1</td>\n",
              "      <td>G42R</td>\n",
              "      <td>6</td>\n",
              "      <td>Introduction  Myelodysplastic syndromes (MDS) ...</td>\n",
              "    </tr>\n",
              "    <tr>\n",
              "      <th>3315</th>\n",
              "      <td>3315</td>\n",
              "      <td>3315</td>\n",
              "      <td>RUNX1</td>\n",
              "      <td>RUNX1-RUNX1T1 Fusion</td>\n",
              "      <td>4</td>\n",
              "      <td>The RUNX gene family includes three evolutiona...</td>\n",
              "    </tr>\n",
              "    <tr>\n",
              "      <th>3316</th>\n",
              "      <td>3316</td>\n",
              "      <td>3316</td>\n",
              "      <td>RUNX1</td>\n",
              "      <td>D171N</td>\n",
              "      <td>4</td>\n",
              "      <td>Introduction  Myelodysplastic syndromes (MDS) ...</td>\n",
              "    </tr>\n",
              "    <tr>\n",
              "      <th>3317</th>\n",
              "      <td>3317</td>\n",
              "      <td>3317</td>\n",
              "      <td>RUNX1</td>\n",
              "      <td>A122*</td>\n",
              "      <td>1</td>\n",
              "      <td>Introduction  Myelodysplastic syndromes (MDS) ...</td>\n",
              "    </tr>\n",
              "    <tr>\n",
              "      <th>3318</th>\n",
              "      <td>3318</td>\n",
              "      <td>3318</td>\n",
              "      <td>RUNX1</td>\n",
              "      <td>Fusions</td>\n",
              "      <td>1</td>\n",
              "      <td>The Runt-related transcription factor 1 gene (...</td>\n",
              "    </tr>\n",
              "    <tr>\n",
              "      <th>3319</th>\n",
              "      <td>3319</td>\n",
              "      <td>3319</td>\n",
              "      <td>RUNX1</td>\n",
              "      <td>R80C</td>\n",
              "      <td>4</td>\n",
              "      <td>The RUNX1/AML1 gene is the most frequent targe...</td>\n",
              "    </tr>\n",
              "    <tr>\n",
              "      <th>3320</th>\n",
              "      <td>3320</td>\n",
              "      <td>3320</td>\n",
              "      <td>RUNX1</td>\n",
              "      <td>K83E</td>\n",
              "      <td>4</td>\n",
              "      <td>The most frequent mutations associated with le...</td>\n",
              "    </tr>\n",
              "  </tbody>\n",
              "</table>\n",
              "</div>"
            ],
            "text/plain": [
              "      Unnamed: 0    ID   Gene             Variation  Class  \\\n",
              "3297        3297  3297  RUNX1                 R177*      4   \n",
              "3298        3298  3298  RUNX1                 Y113*      4   \n",
              "3299        3299  3299  RUNX1                 R139G      4   \n",
              "3300        3300  3300  RUNX1                  K83N      4   \n",
              "3301        3301  3301  RUNX1                 R177Q      4   \n",
              "3302        3302  3302  RUNX1                 R166Q      4   \n",
              "3303        3303  3303  RUNX1                 P173S      4   \n",
              "3304        3304  3304  RUNX1                 R201Q      4   \n",
              "3305        3305  3305  RUNX1              S70fsX93      4   \n",
              "3306        3306  3306  RUNX1                 W279*      1   \n",
              "3307        3307  3307  RUNX1  Truncating Mutations      1   \n",
              "3308        3308  3308  RUNX1                 R174*      7   \n",
              "3309        3309  3309  RUNX1                 D171G      1   \n",
              "3310        3310  3310  RUNX1         Amplification      7   \n",
              "3311        3311  3311  RUNX1     RUNX1-EVI1 Fusion      4   \n",
              "3312        3312  3312  RUNX1      TEL-RUNX1 Fusion      4   \n",
              "3313        3313  3313  RUNX1                  H78Q      4   \n",
              "3314        3314  3314  RUNX1                  G42R      6   \n",
              "3315        3315  3315  RUNX1  RUNX1-RUNX1T1 Fusion      4   \n",
              "3316        3316  3316  RUNX1                 D171N      4   \n",
              "3317        3317  3317  RUNX1                 A122*      1   \n",
              "3318        3318  3318  RUNX1               Fusions      1   \n",
              "3319        3319  3319  RUNX1                  R80C      4   \n",
              "3320        3320  3320  RUNX1                  K83E      4   \n",
              "\n",
              "                                                   Text  \n",
              "3297  THE AML1 GENE IS KNOWN as the most frequent ta...  \n",
              "3298  Introduction  Myelodysplastic syndromes (MDS) ...  \n",
              "3299  The BCR-ABL fusion protein generated by t(9;22...  \n",
              "3300  The most frequent mutations associated with le...  \n",
              "3301  The most frequent mutations associated with le...  \n",
              "3302  Familial platelet disorder with predisposition...  \n",
              "3303  Introduction  Myelodysplastic syndromes (MDS) ...  \n",
              "3304  Familial platelet disorder with predisposition...  \n",
              "3305  Introduction  Myelodysplastic syndromes (MDS) ...  \n",
              "3306  Here we report two new RUNX1 mutations in one ...  \n",
              "3307  The RUNX genes have come to prominence recentl...  \n",
              "3308   Familial platelet disorder with propensity to...  \n",
              "3309  The BCR-ABL fusion protein generated by t(9;22...  \n",
              "3310  RUNX proteins belong to a family of metazoan t...  \n",
              "3311  The AML1/EVI-1 chimeric gene is generated by t...  \n",
              "3312  Balanced chromosomal translocations are freque...  \n",
              "3313  The BCR-ABL fusion protein generated by t(9;22...  \n",
              "3314  Introduction  Myelodysplastic syndromes (MDS) ...  \n",
              "3315  The RUNX gene family includes three evolutiona...  \n",
              "3316  Introduction  Myelodysplastic syndromes (MDS) ...  \n",
              "3317  Introduction  Myelodysplastic syndromes (MDS) ...  \n",
              "3318  The Runt-related transcription factor 1 gene (...  \n",
              "3319  The RUNX1/AML1 gene is the most frequent targe...  \n",
              "3320  The most frequent mutations associated with le...  "
            ]
          },
          "execution_count": 8,
          "metadata": {},
          "output_type": "execute_result"
        }
      ],
      "source": [
        "df[df['Gene']== 'RUNX1']"
      ]
    },
    {
      "cell_type": "code",
      "execution_count": 9,
      "metadata": {
        "colab": {
          "base_uri": "https://localhost:8080/"
        },
        "id": "a-Mpqt5CdLnE",
        "outputId": "b03a97cc-4d03-4c8d-d090-44a263245cbe"
      },
      "outputs": [
        {
          "name": "stdout",
          "output_type": "stream",
          "text": [
            "Collecting pymongo"
          ]
        },
        {
          "name": "stderr",
          "output_type": "stream",
          "text": [
            "DEPRECATION: pyodbc 4.0.0-unsupported has a non-standard version number. pip 24.0 will enforce this behaviour change. A possible replacement is to upgrade to a newer version of pyodbc or contact the author to suggest that they release a version with a conforming version number. Discussion can be found at https://github.com/pypa/pip/issues/12063\n"
          ]
        },
        {
          "name": "stdout",
          "output_type": "stream",
          "text": [
            "\n",
            "  Downloading pymongo-4.6.0-cp39-cp39-win_amd64.whl.metadata (22 kB)\n",
            "Collecting dnspython<3.0.0,>=1.16.0 (from pymongo)\n",
            "  Downloading dnspython-2.4.2-py3-none-any.whl.metadata (4.9 kB)\n",
            "Downloading pymongo-4.6.0-cp39-cp39-win_amd64.whl (472 kB)\n",
            "   ---------------------------------------- 472.7/472.7 kB 9.8 MB/s eta 0:00:00\n",
            "Downloading dnspython-2.4.2-py3-none-any.whl (300 kB)\n",
            "   ---------------------------------------- 300.4/300.4 kB 9.4 MB/s eta 0:00:00\n",
            "Installing collected packages: dnspython, pymongo\n",
            "Successfully installed dnspython-2.4.2 pymongo-4.6.0\n"
          ]
        }
      ],
      "source": [
        "!pip install pymongo"
      ]
    },
    {
      "cell_type": "code",
      "execution_count": 10,
      "metadata": {
        "id": "milG3pdRfID1"
      },
      "outputs": [],
      "source": [
        "import pymongo"
      ]
    },
    {
      "cell_type": "code",
      "execution_count": 11,
      "metadata": {
        "colab": {
          "base_uri": "https://localhost:8080/",
          "height": 443
        },
        "id": "hihPd8RAfJv8",
        "outputId": "1d164ecb-9ac1-401e-c852-5082f60c5105"
      },
      "outputs": [
        {
          "name": "stdout",
          "output_type": "stream",
          "text": [
            "Gene data inserted successfully.\n",
            "Variation data inserted successfully.\n"
          ]
        }
      ],
      "source": [
        "import pymongo\n",
        "\n",
        "\n",
        "# Connect to MongoDB (assuming it's running on default localhost:27017)\n",
        "client = pymongo.MongoClient(\"mongodb://localhost:27017/\")\n",
        "\n",
        "# Create or use a specific database\n",
        "my_db = client[\"my_database\"]\n",
        "\n",
        "# Create or use separate collections for Gene and Variation data\n",
        "gene_collection = my_db[\"genes\"]\n",
        "variation_collection = my_db[\"variations\"]\n",
        "\n",
        "# Insert Gene data into the gene_collection\n",
        "gene_data_to_insert = [{\"Gene\": g} for g in gene]\n",
        "gene_insert_result = gene_collection.insert_many(gene_data_to_insert)\n",
        "\n",
        "# Insert Variation data into the variation_collection\n",
        "variation_data_to_insert = [{\"Variation\": v} for v in variation]\n",
        "variation_insert_result = variation_collection.insert_many(variation_data_to_insert)\n",
        "\n",
        "# Check insertion results for Gene and Variation collections\n",
        "if gene_insert_result:\n",
        "    print(\"Gene data inserted successfully.\")\n",
        "else:\n",
        "    print(\"Failed to insert Gene data.\")\n",
        "\n",
        "if variation_insert_result:\n",
        "    print(\"Variation data inserted successfully.\")\n",
        "else:\n",
        "    print(\"Failed to insert Variation data.\")\n"
      ]
    },
    {
      "cell_type": "code",
      "execution_count": null,
      "metadata": {},
      "outputs": [],
      "source": []
    }
  ],
  "metadata": {
    "colab": {
      "provenance": []
    },
    "kernelspec": {
      "display_name": "Python 3",
      "name": "python3"
    },
    "language_info": {
      "codemirror_mode": {
        "name": "ipython",
        "version": 3
      },
      "file_extension": ".py",
      "mimetype": "text/x-python",
      "name": "python",
      "nbconvert_exporter": "python",
      "pygments_lexer": "ipython3",
      "version": "3.9.7"
    }
  },
  "nbformat": 4,
  "nbformat_minor": 0
}
